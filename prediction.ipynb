{
 "cells": [
  {
   "cell_type": "code",
   "execution_count": 370,
   "metadata": {},
   "outputs": [
    {
     "name": "stdout",
     "output_type": "stream",
     "text": [
      "Populating the interactive namespace from numpy and matplotlib\n"
     ]
    }
   ],
   "source": [
    "import numpy as np\n",
    "import pandas as pd\n",
    "import matplotlib.pyplot as plt\n",
    "\n",
    "from scipy import stats\n",
    "from sklearn import preprocessing\n",
    "from sklearn.metrics import mean_squared_error\n",
    "from sklearn.model_selection import GridSearchCV\n",
    "from sklearn.model_selection import train_test_split\n",
    "from sklearn.ensemble import RandomForestRegressor\n",
    "from sklearn.neural_network import MLPRegressor\n",
    "\n",
    "%pylab inline"
   ]
  },
  {
   "cell_type": "code",
   "execution_count": 204,
   "metadata": {},
   "outputs": [
    {
     "data": {
      "text/html": [
       "<div>\n",
       "<style scoped>\n",
       "    .dataframe tbody tr th:only-of-type {\n",
       "        vertical-align: middle;\n",
       "    }\n",
       "\n",
       "    .dataframe tbody tr th {\n",
       "        vertical-align: top;\n",
       "    }\n",
       "\n",
       "    .dataframe thead th {\n",
       "        text-align: right;\n",
       "    }\n",
       "</style>\n",
       "<table border=\"1\" class=\"dataframe\">\n",
       "  <thead>\n",
       "    <tr style=\"text-align: right;\">\n",
       "      <th></th>\n",
       "      <th>Timestamp_x</th>\n",
       "      <th>segment_id</th>\n",
       "      <th>BusLane_x</th>\n",
       "      <th>DayOfWeek_x</th>\n",
       "      <th>Holiday_x</th>\n",
       "      <th>HalfHourly</th>\n",
       "      <th>timeinseconds</th>\n",
       "      <th>intersections_x</th>\n",
       "      <th>busstops_x</th>\n",
       "      <th>AvgSpeed</th>\n",
       "    </tr>\n",
       "    <tr>\n",
       "      <th>NewVehicleRef</th>\n",
       "      <th></th>\n",
       "      <th></th>\n",
       "      <th></th>\n",
       "      <th></th>\n",
       "      <th></th>\n",
       "      <th></th>\n",
       "      <th></th>\n",
       "      <th></th>\n",
       "      <th></th>\n",
       "      <th></th>\n",
       "    </tr>\n",
       "  </thead>\n",
       "  <tbody>\n",
       "    <tr>\n",
       "      <th>MTA NYCT_3828_1</th>\n",
       "      <td>2018-04-21 17:32:06.404000-04:00</td>\n",
       "      <td>1</td>\n",
       "      <td>False</td>\n",
       "      <td>6</td>\n",
       "      <td>1</td>\n",
       "      <td>3</td>\n",
       "      <td>63126</td>\n",
       "      <td>11</td>\n",
       "      <td>4</td>\n",
       "      <td>2.297799</td>\n",
       "    </tr>\n",
       "    <tr>\n",
       "      <th>MTA NYCT_3828_1</th>\n",
       "      <td>2018-04-27 18:38:40.371000-04:00</td>\n",
       "      <td>1</td>\n",
       "      <td>True</td>\n",
       "      <td>5</td>\n",
       "      <td>0</td>\n",
       "      <td>5</td>\n",
       "      <td>67120</td>\n",
       "      <td>11</td>\n",
       "      <td>4</td>\n",
       "      <td>3.013069</td>\n",
       "    </tr>\n",
       "    <tr>\n",
       "      <th>MTA NYCT_3828_1</th>\n",
       "      <td>2018-05-01 17:02:12.294000-04:00</td>\n",
       "      <td>1</td>\n",
       "      <td>True</td>\n",
       "      <td>2</td>\n",
       "      <td>0</td>\n",
       "      <td>2</td>\n",
       "      <td>61332</td>\n",
       "      <td>11</td>\n",
       "      <td>4</td>\n",
       "      <td>2.941267</td>\n",
       "    </tr>\n",
       "    <tr>\n",
       "      <th>MTA NYCT_3828_1</th>\n",
       "      <td>2018-04-21 17:37:56.484000-04:00</td>\n",
       "      <td>2</td>\n",
       "      <td>False</td>\n",
       "      <td>6</td>\n",
       "      <td>1</td>\n",
       "      <td>3</td>\n",
       "      <td>63476</td>\n",
       "      <td>15</td>\n",
       "      <td>5</td>\n",
       "      <td>1.005892</td>\n",
       "    </tr>\n",
       "    <tr>\n",
       "      <th>MTA NYCT_3828_1</th>\n",
       "      <td>2018-04-27 18:42:20.961000-04:00</td>\n",
       "      <td>2</td>\n",
       "      <td>True</td>\n",
       "      <td>5</td>\n",
       "      <td>0</td>\n",
       "      <td>5</td>\n",
       "      <td>67340</td>\n",
       "      <td>15</td>\n",
       "      <td>5</td>\n",
       "      <td>2.848134</td>\n",
       "    </tr>\n",
       "  </tbody>\n",
       "</table>\n",
       "</div>"
      ],
      "text/plain": [
       "                                      Timestamp_x  segment_id  BusLane_x  \\\n",
       "NewVehicleRef                                                              \n",
       "MTA NYCT_3828_1  2018-04-21 17:32:06.404000-04:00           1      False   \n",
       "MTA NYCT_3828_1  2018-04-27 18:38:40.371000-04:00           1       True   \n",
       "MTA NYCT_3828_1  2018-05-01 17:02:12.294000-04:00           1       True   \n",
       "MTA NYCT_3828_1  2018-04-21 17:37:56.484000-04:00           2      False   \n",
       "MTA NYCT_3828_1  2018-04-27 18:42:20.961000-04:00           2       True   \n",
       "\n",
       "                 DayOfWeek_x  Holiday_x  HalfHourly  timeinseconds  \\\n",
       "NewVehicleRef                                                        \n",
       "MTA NYCT_3828_1            6          1           3          63126   \n",
       "MTA NYCT_3828_1            5          0           5          67120   \n",
       "MTA NYCT_3828_1            2          0           2          61332   \n",
       "MTA NYCT_3828_1            6          1           3          63476   \n",
       "MTA NYCT_3828_1            5          0           5          67340   \n",
       "\n",
       "                 intersections_x  busstops_x  AvgSpeed  \n",
       "NewVehicleRef                                           \n",
       "MTA NYCT_3828_1               11           4  2.297799  \n",
       "MTA NYCT_3828_1               11           4  3.013069  \n",
       "MTA NYCT_3828_1               11           4  2.941267  \n",
       "MTA NYCT_3828_1               15           5  1.005892  \n",
       "MTA NYCT_3828_1               15           5  2.848134  "
      ]
     },
     "execution_count": 204,
     "metadata": {},
     "output_type": "execute_result"
    }
   ],
   "source": [
    "df = pd.read_csv(\"bus_train.csv\", index_col=0)\n",
    "df.head()"
   ]
  },
  {
   "cell_type": "code",
   "execution_count": 205,
   "metadata": {},
   "outputs": [
    {
     "data": {
      "text/plain": [
       "Index(['Timestamp_x', 'segment_id', 'BusLane_x', 'DayOfWeek_x', 'Holiday_x',\n",
       "       'HalfHourly', 'timeinseconds', 'intersections_x', 'busstops_x',\n",
       "       'AvgSpeed'],\n",
       "      dtype='object')"
      ]
     },
     "execution_count": 205,
     "metadata": {},
     "output_type": "execute_result"
    }
   ],
   "source": [
    "df.columns"
   ]
  },
  {
   "cell_type": "code",
   "execution_count": 207,
   "metadata": {},
   "outputs": [
    {
     "data": {
      "text/plain": [
       "(3262, 10)"
      ]
     },
     "execution_count": 207,
     "metadata": {},
     "output_type": "execute_result"
    }
   ],
   "source": [
    "df.columns = ['timestamp', 'segment', 'buslane', 'dayofweek', 'holiday',\n",
    "              'halfhourly', 'timeinseconds', 'intersections', 'busstops', 'avgspeed']\n",
    "df.shape"
   ]
  },
  {
   "cell_type": "code",
   "execution_count": 203,
   "metadata": {},
   "outputs": [
    {
     "data": {
      "text/plain": [
       "0.2452483139178418"
      ]
     },
     "execution_count": 203,
     "metadata": {},
     "output_type": "execute_result"
    }
   ],
   "source": [
    "# percentage of records with negative speeds\n",
    "len(df[df['avgspeed'] < 0]) / len(df) * 100"
   ]
  },
  {
   "cell_type": "code",
   "execution_count": 210,
   "metadata": {},
   "outputs": [],
   "source": [
    "# remove negative speeds\n",
    "df = df[df['avgspeed'] > 0]\n",
    "df.shape"
   ]
  },
  {
   "cell_type": "code",
   "execution_count": 365,
   "metadata": {},
   "outputs": [
    {
     "data": {
      "text/plain": [
       "[<matplotlib.lines.Line2D at 0x1141ce438>]"
      ]
     },
     "execution_count": 365,
     "metadata": {},
     "output_type": "execute_result"
    },
    {
     "data": {
      "image/png": "[encoded data removed]",
      "text/plain": [
       "<matplotlib.figure.Figure at 0x10fb845c0>"
      ]
     },
     "metadata": {},
     "output_type": "display_data"
    }
   ],
   "source": [
    "df['timespan'] = pd.cut(df.timeinseconds, range(57600, 73800, 900), right=False, labels=False)\n",
    "plt.plot(df['halfhourly'], df['timespan'], '.')"
   ]
  },
  {
   "cell_type": "code",
   "execution_count": 424,
   "metadata": {},
   "outputs": [],
   "source": [
    "X = df[['segment', 'buslane', 'dayofweek', 'holiday',\n",
    "        'timespan', 'intersections', 'busstops']]\n",
    "y = df['avgspeed']"
   ]
  },
  {
   "cell_type": "code",
   "execution_count": 425,
   "metadata": {},
   "outputs": [
    {
     "data": {
      "text/html": [
       "<div>\n",
       "<style scoped>\n",
       "    .dataframe tbody tr th:only-of-type {\n",
       "        vertical-align: middle;\n",
       "    }\n",
       "\n",
       "    .dataframe tbody tr th {\n",
       "        vertical-align: top;\n",
       "    }\n",
       "\n",
       "    .dataframe thead th {\n",
       "        text-align: right;\n",
       "    }\n",
       "</style>\n",
       "<table border=\"1\" class=\"dataframe\">\n",
       "  <thead>\n",
       "    <tr style=\"text-align: right;\">\n",
       "      <th></th>\n",
       "      <th>segment</th>\n",
       "      <th>buslane</th>\n",
       "      <th>dayofweek</th>\n",
       "      <th>holiday</th>\n",
       "      <th>timespan</th>\n",
       "      <th>intersections</th>\n",
       "      <th>busstops</th>\n",
       "    </tr>\n",
       "    <tr>\n",
       "      <th>NewVehicleRef</th>\n",
       "      <th></th>\n",
       "      <th></th>\n",
       "      <th></th>\n",
       "      <th></th>\n",
       "      <th></th>\n",
       "      <th></th>\n",
       "      <th></th>\n",
       "    </tr>\n",
       "  </thead>\n",
       "  <tbody>\n",
       "    <tr>\n",
       "      <th>MTA NYCT_3828_1</th>\n",
       "      <td>1</td>\n",
       "      <td>False</td>\n",
       "      <td>6</td>\n",
       "      <td>1</td>\n",
       "      <td>6</td>\n",
       "      <td>11</td>\n",
       "      <td>4</td>\n",
       "    </tr>\n",
       "    <tr>\n",
       "      <th>MTA NYCT_3828_1</th>\n",
       "      <td>1</td>\n",
       "      <td>True</td>\n",
       "      <td>5</td>\n",
       "      <td>0</td>\n",
       "      <td>10</td>\n",
       "      <td>11</td>\n",
       "      <td>4</td>\n",
       "    </tr>\n",
       "    <tr>\n",
       "      <th>MTA NYCT_3828_1</th>\n",
       "      <td>1</td>\n",
       "      <td>True</td>\n",
       "      <td>2</td>\n",
       "      <td>0</td>\n",
       "      <td>4</td>\n",
       "      <td>11</td>\n",
       "      <td>4</td>\n",
       "    </tr>\n",
       "    <tr>\n",
       "      <th>MTA NYCT_3828_1</th>\n",
       "      <td>2</td>\n",
       "      <td>False</td>\n",
       "      <td>6</td>\n",
       "      <td>1</td>\n",
       "      <td>6</td>\n",
       "      <td>15</td>\n",
       "      <td>5</td>\n",
       "    </tr>\n",
       "    <tr>\n",
       "      <th>MTA NYCT_3828_1</th>\n",
       "      <td>2</td>\n",
       "      <td>True</td>\n",
       "      <td>5</td>\n",
       "      <td>0</td>\n",
       "      <td>10</td>\n",
       "      <td>15</td>\n",
       "      <td>5</td>\n",
       "    </tr>\n",
       "  </tbody>\n",
       "</table>\n",
       "</div>"
      ],
      "text/plain": [
       "                 segment  buslane  dayofweek  holiday  timespan  \\\n",
       "NewVehicleRef                                                     \n",
       "MTA NYCT_3828_1        1    False          6        1         6   \n",
       "MTA NYCT_3828_1        1     True          5        0        10   \n",
       "MTA NYCT_3828_1        1     True          2        0         4   \n",
       "MTA NYCT_3828_1        2    False          6        1         6   \n",
       "MTA NYCT_3828_1        2     True          5        0        10   \n",
       "\n",
       "                 intersections  busstops  \n",
       "NewVehicleRef                             \n",
       "MTA NYCT_3828_1             11         4  \n",
       "MTA NYCT_3828_1             11         4  \n",
       "MTA NYCT_3828_1             11         4  \n",
       "MTA NYCT_3828_1             15         5  \n",
       "MTA NYCT_3828_1             15         5  "
      ]
     },
     "execution_count": 425,
     "metadata": {},
     "output_type": "execute_result"
    }
   ],
   "source": [
    "X.head()"
   ]
  },
  {
   "cell_type": "code",
   "execution_count": 426,
   "metadata": {},
   "outputs": [],
   "source": [
    "X = preprocessing.scale(X)"
   ]
  },
  {
   "cell_type": "code",
   "execution_count": 427,
   "metadata": {},
   "outputs": [],
   "source": [
    "X_train, X_test, y_train, y_test = train_test_split(X, y, test_size = 0.3, random_state = 2018)"
   ]
  },
  {
   "cell_type": "code",
   "execution_count": 264,
   "metadata": {},
   "outputs": [
    {
     "data": {
      "text/plain": [
       "Index(['segment', 'buslane', 'dayofweek', 'holiday', 'halfhourly',\n",
       "       'intersections', 'busstops'],\n",
       "      dtype='object')"
      ]
     },
     "execution_count": 264,
     "metadata": {},
     "output_type": "execute_result"
    }
   ],
   "source": [
    "X.columns"
   ]
  },
  {
   "cell_type": "code",
   "execution_count": 428,
   "metadata": {},
   "outputs": [
    {
     "data": {
      "text/plain": [
       "RandomForestRegressor(bootstrap=True, criterion='mse', max_depth=6,\n",
       "           max_features='auto', max_leaf_nodes=30,\n",
       "           min_impurity_decrease=0.0, min_impurity_split=None,\n",
       "           min_samples_leaf=1, min_samples_split=2,\n",
       "           min_weight_fraction_leaf=0.0, n_estimators=30, n_jobs=-1,\n",
       "           oob_score=False, random_state=99, verbose=0, warm_start=False)"
      ]
     },
     "execution_count": 428,
     "metadata": {},
     "output_type": "execute_result"
    }
   ],
   "source": [
    "rf = RandomForestRegressor(max_depth=6, n_estimators=30, n_jobs=-1, max_leaf_nodes=30, random_state=99)\n",
    "rf.fit(X_train, y_train)"
   ]
  },
  {
   "cell_type": "code",
   "execution_count": 429,
   "metadata": {},
   "outputs": [
    {
     "name": "stdout",
     "output_type": "stream",
     "text": [
      "[0.36778662 0.15035947 0.13471811 0.00644893 0.30092755 0.0329428\n",
      " 0.00681653]\n"
     ]
    }
   ],
   "source": [
    "print(rf.feature_importances_)"
   ]
  },
  {
   "cell_type": "code",
   "execution_count": 267,
   "metadata": {},
   "outputs": [
    {
     "name": "stdout",
     "output_type": "stream",
     "text": [
      "[1.86647584]\n"
     ]
    }
   ],
   "source": [
    "print(rf.predict([[2, 3, 15, 5, 2, 0, 1]]))"
   ]
  },
  {
   "cell_type": "code",
   "execution_count": 268,
   "metadata": {},
   "outputs": [
    {
     "name": "stdout",
     "output_type": "stream",
     "text": [
      "[2.15302484]\n"
     ]
    }
   ],
   "source": [
    "print(rf.predict([[2, 3, 15, 5, 7, 1, 0]]))"
   ]
  },
  {
   "cell_type": "code",
   "execution_count": 430,
   "metadata": {},
   "outputs": [
    {
     "data": {
      "text/plain": [
       "(-0.016995481058992956, 0.8863826083187076)"
      ]
     },
     "execution_count": 430,
     "metadata": {},
     "output_type": "execute_result"
    }
   ],
   "source": [
    "res = list(rf.predict(X_test) - y_test)\n",
    "np.mean(res), np.std(res)"
   ]
  },
  {
   "cell_type": "code",
   "execution_count": 270,
   "metadata": {},
   "outputs": [
    {
     "data": {
      "text/plain": [
       "(-0.005906027210342983, 0.9016544915298385)"
      ]
     },
     "execution_count": 270,
     "metadata": {},
     "output_type": "execute_result"
    }
   ],
   "source": [
    "res = list(rf.predict(X_test) - y_test)\n",
    "np.mean(res), np.std(res)"
   ]
  },
  {
   "cell_type": "code",
   "execution_count": 431,
   "metadata": {},
   "outputs": [
    {
     "name": "stdout",
     "output_type": "stream",
     "text": [
      "[1.98814334 1.97749941 2.18231619 3.22185852 2.22283599 2.78443663\n",
      " 1.89299848 1.98814334 2.32388115 3.09870675 2.68481269 1.63961054\n",
      " 1.87943885 3.17725386 2.220362   1.99681395 1.99681395 2.81626621\n",
      " 2.01041954 2.15905959 1.97749941 4.00467432 1.63961054 1.98814334\n",
      " 1.98814334 2.24501071 3.59338199 2.38442794 1.97749941 1.93237333\n",
      " 1.98814334 3.16529107 2.7562216  2.57530315 1.76140507 3.55214959\n",
      " 1.84302687 2.20915096 1.97749941 1.98814334 1.99681395 2.179551\n",
      " 2.30837423 1.97749941 2.21210517 1.98814334 3.383785   1.86888727\n",
      " 1.97749941 2.36002833 2.67649761 2.06459098 2.13556553 1.98814334\n",
      " 3.472714   2.82152486 2.54483555 2.83919253 2.01041954 1.71557242\n",
      " 2.220362   7.18318536 1.98814334 1.98814334 2.3432743  3.2452576\n",
      " 1.99681395 3.33416406 1.7495101  3.2452576  1.99681395 2.66220283\n",
      " 2.15102072 1.98814334 2.22283599 1.98814334 2.49260781 2.16920051\n",
      " 1.97749941 1.65150551 2.75156211 1.86888727 3.4831712  2.470947\n",
      " 2.56030498 2.46097846 1.97749941 2.60877259 2.21210517 2.21483876\n",
      " 3.24496479 1.76765368 3.95939991 1.97749941 3.5469585  5.12647027\n",
      " 1.98814334 1.99681395 1.98814334 7.18318536 2.220362   1.98814334\n",
      " 1.97749941 1.98814334 1.98814334 1.98814334 2.14831791 1.76765368\n",
      " 1.97749941 2.07573281 2.16920051 2.17481798 2.01041954 2.79774999\n",
      " 2.66220283 2.09177431 1.98814334 3.22185852 2.18475209 2.32388115\n",
      " 2.22283599 1.76226062 2.22283599 1.92182174 2.21210517 2.03429899\n",
      " 1.97749941 2.60973181 2.08972655 2.470947   2.60973181 1.97749941\n",
      " 2.78395065 2.21210517 1.98814334 2.09177431 2.14831791 1.97749941\n",
      " 2.8408999  2.66220283 4.72146821 1.39874916 1.97749941 3.09270082\n",
      " 2.6306318  1.98814334 1.98814334 2.25847237 2.04504066 2.18475209\n",
      " 2.60973181 1.97749941 1.98814334 3.09095786 2.52483275 1.63961054\n",
      " 1.98814334 1.97749941 3.18975764 1.98814334 2.68481269 2.30538075\n",
      " 2.01041954 2.29796857 1.77964912 2.09177431 2.66220283 2.14831791\n",
      " 3.30717819 2.09177431 2.32388115 1.71557242 2.03429899 2.22060863\n",
      " 2.15905959 3.09095786 2.22283599 1.97749941 2.15905959 1.99681395\n",
      " 5.10532482 1.97749941 1.86888727 1.63961054 1.98814334 2.3432743\n",
      " 2.22283599 1.98814334 1.97749941 2.67649761 1.97749941 4.04608656\n",
      " 1.98814334 3.25115185 1.99681395 1.98814334 1.99681395 1.97749941\n",
      " 2.20060463 1.71557242 3.06633211 2.28130123 1.98814334 1.98814334\n",
      " 1.98814334 2.12482385 1.63961054 2.99075192 1.7668986  3.77711311\n",
      " 1.98814334 2.88360726 1.97749941 1.97749941 2.47284065 2.14831791\n",
      " 1.98814334 2.30366246 1.98814334 2.33603397 1.98814334 1.97749941\n",
      " 1.97749941 3.50387584 2.15905959 2.35327643 1.39874916 1.97749941\n",
      " 2.01041954 2.07573281 2.97603899 1.97749941 4.04608656 3.34198524\n",
      " 2.08972655 1.98814334 2.15905959 1.92182174 2.2408943  1.98814334\n",
      " 1.7495101  3.03539827 1.98814334 3.39180997 2.75156211 1.98814334\n",
      " 2.26999034 2.11509055 2.94072375 2.77951164 2.46097846 2.44921334\n",
      " 1.7495101  1.98814334 2.21210517 2.3247739  1.76226062 2.18231619\n",
      " 1.98814334 2.22283599 1.98814334 1.98814334 1.98814334 2.27167134\n",
      " 2.60973181 3.22185852 1.63961054 1.98814334 2.23416543 1.09865144\n",
      " 3.50387584 2.37861809 2.3432743  1.63961054 2.16689849 1.98814334\n",
      " 2.76996045 1.98814334 1.93237333 1.98814334 2.43632194 3.37148737\n",
      " 1.98814334 2.22283599 1.63961054 1.98814334 1.98814334 2.35564084\n",
      " 1.99681395 2.66220283 2.22283599 1.98814334 2.25181815 3.17725386\n",
      " 3.50387584 3.23536513 1.98814334 1.98814334 1.97749941 2.25181815\n",
      " 2.64275906 1.97749941 1.77874385 2.63152978 1.98814334 2.45434025\n",
      " 1.93237333 1.97749941 1.98814334 2.25847237 1.98814334 2.50282982\n",
      " 1.93237333 1.97749941 1.99681395 1.98814334 1.76765368 3.3211121\n",
      " 3.24626807 1.71557242 2.09177431 1.98814334 2.03429899 2.16920051\n",
      " 1.71557242 1.98814334 1.72348966 3.17725386 2.20060463 1.99681395\n",
      " 3.66152548 2.37625368 2.15102072 2.63152978 2.26276744 1.7495101\n",
      " 3.2452576  1.98814334 2.14831791 2.78443663 2.79774999 2.21483876\n",
      " 1.97749941 3.50818097 1.76765368 1.97749941 2.24501071 2.08972655\n",
      " 2.22283599 2.04504066 2.08933841 1.7495101  2.220362   1.63961054\n",
      " 3.09095786 2.78443663 2.79656389 2.35564084 3.13003495 1.97749941\n",
      " 2.27589245 1.97749941 1.98814334 3.25115185 2.24501071 1.98814334\n",
      " 2.03429899 2.35327643 1.97749941 1.98814334 1.97749941 2.47284065\n",
      " 3.33987124 1.98814334 2.1687106  3.32099255 2.38442794 1.86888727\n",
      " 2.88282236 2.07573281 1.84302687 2.14831791 1.92182174 1.97749941\n",
      " 2.60680062 2.60680062 2.79774999 1.97749941 2.63152978 2.68481269\n",
      " 1.97749941 3.2452576  1.97749941 1.97749941 3.24626807 1.97749941\n",
      " 1.7495101  1.89299848 1.76765368 1.98814334 2.3432743  1.97749941\n",
      " 2.81626621 1.63961054 1.98814334 3.30717819 1.7495101  1.72348966\n",
      " 1.98814334 2.11509055 1.98814334 3.09078681 2.35327643 1.63961054\n",
      " 2.47284065 2.22283599 1.98814334 2.220362   1.76765368 2.01041954\n",
      " 1.98814334 1.99681395 3.29673847 2.66220283 2.03429899 2.52483275\n",
      " 1.63961054 1.97749941 3.66152548 1.93237333 2.31670281 2.98626852\n",
      " 1.77415559 1.87943885 1.98814334 1.99681395 4.42312704 2.43630635\n",
      " 2.46314907 2.34908855 2.66220283 1.98814334 2.220362   2.95934786\n",
      " 2.16920051 1.97749941 1.99681395 1.63961054 1.76226062 1.84302687\n",
      " 2.81091524 3.74232938 1.39874916 1.98814334 2.22283599 2.04504066\n",
      " 2.47284065 1.65150551 2.21210517 1.98814334 1.98814334 2.83919253\n",
      " 1.63961054 1.97749941 1.76765368 2.81626621 1.76226062 1.84302687\n",
      " 1.98814334 1.99681395 2.03429899 1.92182174 1.8557774  2.16920051\n",
      " 3.17041768 1.76765368 1.84302687 1.98814334 2.11509055 3.42386559\n",
      " 2.15905959 1.97749941 2.63152978 3.72329209 2.01041954 1.97749941\n",
      " 3.72118526 2.14831791 2.15102072 1.98814334 3.2452576  1.7495101\n",
      " 4.72146821 2.81626621 1.98814334 3.2452576  2.36002833 3.3211121\n",
      " 1.98814334 2.79656389 1.97749941 1.63961054 1.98814334 2.2378199\n",
      " 1.7495101  2.30247737 2.01041954 1.98814334 2.07573281 3.37148737\n",
      " 2.7562216  1.97749941 2.66220283 1.98814334 1.99681395 2.36002833\n",
      " 3.10348908 2.75156211 2.32388115 2.28397696 1.98814334 2.06079905\n",
      " 1.98814334 3.09270082 1.99681395 2.32010695 2.83919253 2.03429899\n",
      " 1.93237333 1.98814334 3.17041768 1.98814334 2.67649761 4.5316353\n",
      " 1.98814334 1.77415559 1.71557242 1.98814334 2.35327643 2.14831791\n",
      " 1.63961054 1.7668986  2.7562216  1.63961054 1.97749941 1.98814334\n",
      " 2.08972655 2.6306318  1.73533491 1.71557242 2.43630635 1.99681395\n",
      " 2.3432743  3.19064085 2.12482385 2.15905959 3.16529107 1.98814334\n",
      " 3.29673847 2.7562216  1.97749941 1.99681395 1.98814334 2.12433635\n",
      " 1.97749941 2.76685643 3.66152548 2.18231619 3.40515679 1.98814334\n",
      " 1.97749941 1.93237333 2.28397696 1.98814334 2.31670281 2.99075192\n",
      " 1.98814334 2.67649761 2.72190432 2.38224449 3.0920056  4.72146821\n",
      " 1.99681395 2.2378199  1.99681395 3.58800484 1.71557242 2.16920051\n",
      " 3.20387298 2.18231619 1.98814334 2.60680062 1.98814334 2.14831791\n",
      " 2.52483275 2.14831791 1.98814334 3.0920056  3.50387584 1.71557242\n",
      " 3.39180997 1.97749941 2.14831791 4.06752366 2.34152252 1.98814334\n",
      " 2.46097846 1.98814334 1.97749941 2.38442794 1.98814334 3.2452576\n",
      " 1.76226062 1.98814334 3.42386559 1.63961054 1.98814334 3.2452576\n",
      " 1.99681395 3.50387584 2.15102072 2.79656389 2.2378199  1.97749941\n",
      " 2.60973181 1.98814334 1.98814334 1.97749941 2.078305   3.19064085\n",
      " 2.18475209 1.99681395 2.179551   2.20060463 2.78443663 2.30538075\n",
      " 3.33987124 2.93754133 1.98814334 2.67649761 1.99681395 2.31670281\n",
      " 1.98814334 2.1687106  2.28397696 2.14831791 1.6695164  1.98814334\n",
      " 2.64275906 1.97749941 2.6306318  1.97749941 1.97749941 2.3432743\n",
      " 3.30167854 1.97749941 3.45580276 2.25847237 2.38224449 2.1687106\n",
      " 2.42145866 3.22214618 1.98814334 2.1687106  2.68481269 2.75156211\n",
      " 2.04504066 2.14831791 2.22283599 3.5469585  2.14831791 1.97749941\n",
      " 2.81626621 2.81366109 2.2378199  2.2378199  1.99681395 3.09870675\n",
      " 2.21483876 2.88855087 1.7495101  2.14831791 2.66220283 1.65145579\n",
      " 1.98814334 1.99681395 1.98814334 2.94346452 1.98814334 1.71557242\n",
      " 2.50633235 2.1687106  2.68481269 2.22283599 1.97749941 1.97749941\n",
      " 3.3211121  1.98814334 3.26269757 1.98814334 1.97749941 1.98814334\n",
      " 2.01041954 2.17994219 1.99681395 2.21483876 1.97749941 2.17481798\n",
      " 1.76765368 2.078305   2.6306318  3.30717819 1.97749941 1.97749941\n",
      " 3.59361884 1.98814334 3.22185852 2.38442794 2.07573281 2.41089442\n",
      " 2.78395065 1.71557242 3.31706293 2.66220283 2.16920051 1.89299848\n",
      " 2.02514207 1.98814334 4.02224925 3.63417301 1.99681395 3.5469585\n",
      " 7.18318536 3.17041768 1.98814334 1.63961054 2.17481798 1.97749941\n",
      " 2.18231619 2.71602226 1.98814334 2.64275906 2.30247737 1.98814334\n",
      " 1.98814334 2.37625368 1.98814334 3.57148075 2.18231619 2.07573281\n",
      " 1.98814334 2.01041954 2.14831791 1.99681395 1.98814334 1.98814334\n",
      " 3.19165132 1.84302687 2.34152252 3.19165132 2.17481798 2.61209622\n",
      " 2.79774999 1.98814334 1.93237333 2.45434025 2.63311512 1.98814334\n",
      " 1.7495101  3.39180997 2.220362   2.17481798 2.47284065 3.19064085\n",
      " 2.63140438 2.17994219 2.64275906 2.61209622 2.11509055 1.97749941\n",
      " 1.8557774  2.43851869 2.40972606 2.1687106  1.98814334 1.76226062\n",
      " 2.15905959 1.76226062 1.97749941 1.71557242 2.15905959 2.71602226\n",
      " 2.220362   2.03429899 1.97749941 2.49260781 3.37148737 1.7495101\n",
      " 1.97749941 2.11509055 2.29796857 1.97749941 2.13556553 1.97749941\n",
      " 2.01041954 2.17481798 1.97749941 2.15905959 1.98814334 2.94346452\n",
      " 1.71557242 2.18231619 3.59361884 2.08972655 2.38442794 2.14831791\n",
      " 1.98814334 2.24961108 2.1687106  2.220362   2.1687106  2.01041954\n",
      " 2.85810321 2.20915096 2.08972655 3.472714   1.76765368 2.220362\n",
      " 2.50633235 2.36449978 2.52761252 1.98814334 2.02514207 2.21483876\n",
      " 1.97749941 1.98814334 1.76765368 1.97749941 2.01041954 1.98814334\n",
      " 1.79149437 1.98814334 2.44612335 1.84302687 1.7495101  1.97749941\n",
      " 2.24501071 3.09078681 2.14831791 2.01041954 4.39145039 1.97749941\n",
      " 2.16920051 1.99681395 2.179551   2.43630635 2.78395065 2.38442794\n",
      " 1.97749941 2.68481269 1.98814334 1.97749941 1.97749941 2.66220283\n",
      " 2.31670281 1.97749941 2.12433635 3.09078681 2.07573281 1.76765368\n",
      " 1.97749941 1.97749941 1.76226062 2.14831791 1.98814334 6.32340727\n",
      " 1.99681395 2.88282236 1.99681395 3.95939991 1.98814334 2.16689849\n",
      " 1.98814334 2.1687106  2.35327643 1.98814334 1.98814334 1.99681395\n",
      " 1.84302687 1.97179335 1.7495101  1.76765368 1.98814334 2.66220283\n",
      " 1.98814334 3.3211121  2.07573281 2.18231619 2.67067044 2.54949186\n",
      " 2.38442794 2.07573281 1.97749941 1.98814334 3.77711311 2.12482385\n",
      " 2.66220283 1.98814334 1.99681395 2.18475209 2.27524045 1.97749941\n",
      " 2.22283599 2.13556553 2.99075192 1.7495101  2.17994219 1.63961054\n",
      " 1.98814334 2.35327643 2.3432743  2.88360726 1.63961054 2.24961108\n",
      " 2.88855087 2.34908855 1.98814334 2.18475209 2.35327643 2.08972655\n",
      " 1.99681395 1.97749941 2.1687106  1.97749941 2.03429899 2.179551\n",
      " 1.98814334 2.63152978 2.89361204 1.77415559 1.97749941 3.50387584\n",
      " 1.71557242 1.98814334 1.99681395 1.99681395 4.64375985 1.98814334\n",
      " 2.68481269 1.97749941 3.29673847 3.3211121  3.19064085 2.50282982\n",
      " 2.68481269 1.98814334 1.97749941 2.08933841 1.97749941 2.46314907\n",
      " 2.14831791 1.7495101  2.25847237 2.7562216  2.79656389]\n",
      "Number of predictions: 965\n",
      "MSE: 0.785962974706302\n"
     ]
    }
   ],
   "source": [
    "modelPred = rf.predict(X_test)\n",
    "\n",
    "print(modelPred)\n",
    "print(\"Number of predictions:\", len(modelPred))\n",
    "\n",
    "MSE = mean_squared_error(y_test, modelPred)\n",
    "\n",
    "print(\"MSE:\", MSE)"
   ]
  },
  {
   "cell_type": "code",
   "execution_count": 432,
   "metadata": {},
   "outputs": [
    {
     "name": "stdout",
     "output_type": "stream",
     "text": [
      "{'n_estimators': [20, 51, 82, 113, 144, 175, 206, 237, 268, 300], 'max_depth': [5, 14, 24, 33, 43, 52, 62, 71, 81, 90, 100], 'max_leaf_nodes': range(2, 30, 3), 'bootstrap': [True, False]}\n"
     ]
    }
   ],
   "source": [
    "# Number of trees in random forest\n",
    "n_estimators = [int(x) for x in np.linspace(start = 20, stop = 300, num = 10)]\n",
    "# Number of features to consider at every split\n",
    "# max_features = ['auto', 'sqrt']\n",
    "# Maximum number of levels in tree\n",
    "max_depth = [int(x) for x in np.linspace(5, 100, num = 11)]\n",
    "# Minimum number of samples required to split a node\n",
    "# min_samples_split = [2, 5, 10]\n",
    "# Minimum number of samples required at each leaf node\n",
    "# min_samples_leaf = [1, 2, 4]\n",
    "# Method of selecting samples for training each tree\n",
    "bootstrap = [True, False]\n",
    "# Create the random grid\n",
    "random_grid = {'n_estimators': n_estimators,\n",
    "               'max_depth': max_depth,\n",
    "               'max_leaf_nodes': range(2,30,3),\n",
    "               'bootstrap': bootstrap}\n",
    "print(random_grid)\n",
    "\n"
   ]
  },
  {
   "cell_type": "code",
   "execution_count": 433,
   "metadata": {},
   "outputs": [
    {
     "name": "stdout",
     "output_type": "stream",
     "text": [
      "Fitting 3 folds for each of 100 candidates, totalling 300 fits\n",
      "[CV] n_estimators=51, max_leaf_nodes=17, max_depth=33, bootstrap=False \n",
      "[CV] n_estimators=51, max_leaf_nodes=17, max_depth=33, bootstrap=False \n",
      "[CV] n_estimators=51, max_leaf_nodes=17, max_depth=33, bootstrap=False \n",
      "[CV] n_estimators=144, max_leaf_nodes=11, max_depth=24, bootstrap=False \n",
      "[CV]  n_estimators=51, max_leaf_nodes=17, max_depth=33, bootstrap=False, total=   0.2s\n",
      "[CV] n_estimators=144, max_leaf_nodes=11, max_depth=24, bootstrap=False \n",
      "[CV]  n_estimators=51, max_leaf_nodes=17, max_depth=33, bootstrap=False, total=   0.2s\n",
      "[CV] n_estimators=144, max_leaf_nodes=11, max_depth=24, bootstrap=False \n",
      "[CV]  n_estimators=51, max_leaf_nodes=17, max_depth=33, bootstrap=False, total=   0.3s\n",
      "[CV] n_estimators=51, max_leaf_nodes=20, max_depth=62, bootstrap=False \n",
      "[CV]  n_estimators=51, max_leaf_nodes=20, max_depth=62, bootstrap=False, total=   0.2s\n",
      "[CV] n_estimators=51, max_leaf_nodes=20, max_depth=62, bootstrap=False \n",
      "[CV]  n_estimators=144, max_leaf_nodes=11, max_depth=24, bootstrap=False, total=   0.6s\n",
      "[CV] n_estimators=51, max_leaf_nodes=20, max_depth=62, bootstrap=False \n",
      "[CV]  n_estimators=51, max_leaf_nodes=20, max_depth=62, bootstrap=False, total=   0.2s\n",
      "[CV] n_estimators=175, max_leaf_nodes=11, max_depth=62, bootstrap=False \n",
      "[CV]  n_estimators=144, max_leaf_nodes=11, max_depth=24, bootstrap=False, total=   0.5s\n",
      "[CV] n_estimators=175, max_leaf_nodes=11, max_depth=62, bootstrap=False \n",
      "[CV]  n_estimators=144, max_leaf_nodes=11, max_depth=24, bootstrap=False, total=   0.6s\n",
      "[CV] n_estimators=175, max_leaf_nodes=11, max_depth=62, bootstrap=False \n",
      "[CV]  n_estimators=51, max_leaf_nodes=20, max_depth=62, bootstrap=False, total=   0.2s\n",
      "[CV] n_estimators=206, max_leaf_nodes=23, max_depth=43, bootstrap=False \n",
      "[CV]  n_estimators=175, max_leaf_nodes=11, max_depth=62, bootstrap=False, total=   0.6s\n",
      "[CV] n_estimators=206, max_leaf_nodes=23, max_depth=43, bootstrap=False \n",
      "[CV]  n_estimators=175, max_leaf_nodes=11, max_depth=62, bootstrap=False, total=   0.5s\n",
      "[CV] n_estimators=206, max_leaf_nodes=23, max_depth=43, bootstrap=False \n",
      "[CV]  n_estimators=175, max_leaf_nodes=11, max_depth=62, bootstrap=False, total=   0.5s\n",
      "[CV] n_estimators=20, max_leaf_nodes=5, max_depth=5, bootstrap=False .\n",
      "[CV]  n_estimators=20, max_leaf_nodes=5, max_depth=5, bootstrap=False, total=   0.1s\n",
      "[CV] n_estimators=20, max_leaf_nodes=5, max_depth=5, bootstrap=False .\n",
      "[CV]  n_estimators=20, max_leaf_nodes=5, max_depth=5, bootstrap=False, total=   0.1s\n",
      "[CV] n_estimators=20, max_leaf_nodes=5, max_depth=5, bootstrap=False .\n",
      "[CV]  n_estimators=206, max_leaf_nodes=23, max_depth=43, bootstrap=False, total=   0.7s\n",
      "[CV] n_estimators=144, max_leaf_nodes=29, max_depth=43, bootstrap=False \n",
      "[CV]  n_estimators=20, max_leaf_nodes=5, max_depth=5, bootstrap=False, total=   0.1s\n",
      "[CV] n_estimators=144, max_leaf_nodes=29, max_depth=43, bootstrap=False \n",
      "[CV]  n_estimators=206, max_leaf_nodes=23, max_depth=43, bootstrap=False, total=   0.8s\n",
      "[CV] n_estimators=144, max_leaf_nodes=29, max_depth=43, bootstrap=False \n",
      "[CV]  n_estimators=144, max_leaf_nodes=29, max_depth=43, bootstrap=False, total=   0.4s\n",
      "[CV] n_estimators=20, max_leaf_nodes=11, max_depth=52, bootstrap=True \n",
      "[CV]  n_estimators=144, max_leaf_nodes=29, max_depth=43, bootstrap=False, total=   0.5s\n",
      "[CV] n_estimators=20, max_leaf_nodes=11, max_depth=52, bootstrap=True \n",
      "[CV]  n_estimators=20, max_leaf_nodes=11, max_depth=52, bootstrap=True, total=   0.1s\n",
      "[CV]  n_estimators=20, max_leaf_nodes=11, max_depth=52, bootstrap=True, total=   0.1s\n",
      "[CV] n_estimators=20, max_leaf_nodes=11, max_depth=52, bootstrap=True \n",
      "[CV] n_estimators=51, max_leaf_nodes=17, max_depth=62, bootstrap=True \n",
      "[CV]  n_estimators=206, max_leaf_nodes=23, max_depth=43, bootstrap=False, total=   0.9s\n",
      "[CV] n_estimators=51, max_leaf_nodes=17, max_depth=62, bootstrap=True \n",
      "[CV]  n_estimators=20, max_leaf_nodes=11, max_depth=52, bootstrap=True, total=   0.1s\n",
      "[CV] n_estimators=51, max_leaf_nodes=17, max_depth=62, bootstrap=True \n",
      "[CV]  n_estimators=51, max_leaf_nodes=17, max_depth=62, bootstrap=True, total=   0.2s\n",
      "[CV] n_estimators=300, max_leaf_nodes=5, max_depth=81, bootstrap=True \n",
      "[CV]  n_estimators=51, max_leaf_nodes=17, max_depth=62, bootstrap=True, total=   0.2s\n",
      "[CV] n_estimators=300, max_leaf_nodes=5, max_depth=81, bootstrap=True \n",
      "[CV]  n_estimators=51, max_leaf_nodes=17, max_depth=62, bootstrap=True, total=   0.2s\n",
      "[CV] n_estimators=300, max_leaf_nodes=5, max_depth=81, bootstrap=True \n",
      "[CV]  n_estimators=144, max_leaf_nodes=29, max_depth=43, bootstrap=False, total=   0.7s\n",
      "[CV] n_estimators=51, max_leaf_nodes=23, max_depth=71, bootstrap=True \n",
      "[CV]  n_estimators=51, max_leaf_nodes=23, max_depth=71, bootstrap=True, total=   0.2s\n",
      "[CV] n_estimators=51, max_leaf_nodes=23, max_depth=71, bootstrap=True \n",
      "[CV]  n_estimators=51, max_leaf_nodes=23, max_depth=71, bootstrap=True, total=   0.2s\n",
      "[CV] n_estimators=51, max_leaf_nodes=23, max_depth=71, bootstrap=True \n",
      "[CV]  n_estimators=51, max_leaf_nodes=23, max_depth=71, bootstrap=True, total=   0.2s\n",
      "[CV] n_estimators=268, max_leaf_nodes=23, max_depth=71, bootstrap=False \n",
      "[CV]  n_estimators=300, max_leaf_nodes=5, max_depth=81, bootstrap=True, total=   1.0s\n",
      "[CV]  n_estimators=300, max_leaf_nodes=5, max_depth=81, bootstrap=True, total=   1.0s\n",
      "[CV] n_estimators=268, max_leaf_nodes=23, max_depth=71, bootstrap=False \n",
      "[CV] n_estimators=268, max_leaf_nodes=23, max_depth=71, bootstrap=False \n",
      "[CV]  n_estimators=300, max_leaf_nodes=5, max_depth=81, bootstrap=True, total=   1.0s\n",
      "[CV] n_estimators=175, max_leaf_nodes=5, max_depth=90, bootstrap=True \n"
     ]
    },
    {
     "name": "stderr",
     "output_type": "stream",
     "text": [
      "[Parallel(n_jobs=-1)]: Done  33 tasks      | elapsed:    3.7s\n"
     ]
    },
    {
     "name": "stdout",
     "output_type": "stream",
     "text": [
      "[CV]  n_estimators=175, max_leaf_nodes=5, max_depth=90, bootstrap=True, total=   0.5s\n",
      "[CV] n_estimators=175, max_leaf_nodes=5, max_depth=90, bootstrap=True \n",
      "[CV]  n_estimators=268, max_leaf_nodes=23, max_depth=71, bootstrap=False, total=   0.9s\n",
      "[CV] n_estimators=175, max_leaf_nodes=5, max_depth=90, bootstrap=True \n",
      "[CV]  n_estimators=268, max_leaf_nodes=23, max_depth=71, bootstrap=False, total=   0.9s\n",
      "[CV] n_estimators=175, max_leaf_nodes=5, max_depth=90, bootstrap=False \n",
      "[CV]  n_estimators=268, max_leaf_nodes=23, max_depth=71, bootstrap=False, total=   1.0s\n",
      "[CV] n_estimators=175, max_leaf_nodes=5, max_depth=90, bootstrap=False \n",
      "[CV]  n_estimators=175, max_leaf_nodes=5, max_depth=90, bootstrap=True, total=   0.5s\n",
      "[CV] n_estimators=175, max_leaf_nodes=5, max_depth=90, bootstrap=False \n",
      "[CV]  n_estimators=175, max_leaf_nodes=5, max_depth=90, bootstrap=True, total=   0.6s\n",
      "[CV] n_estimators=206, max_leaf_nodes=23, max_depth=71, bootstrap=False \n",
      "[CV]  n_estimators=175, max_leaf_nodes=5, max_depth=90, bootstrap=False, total=   0.6s\n",
      "[CV] n_estimators=206, max_leaf_nodes=23, max_depth=71, bootstrap=False \n",
      "[CV]  n_estimators=175, max_leaf_nodes=5, max_depth=90, bootstrap=False, total=   0.6s\n",
      "[CV] n_estimators=206, max_leaf_nodes=23, max_depth=71, bootstrap=False \n",
      "[CV]  n_estimators=175, max_leaf_nodes=5, max_depth=90, bootstrap=False, total=   0.5s\n",
      "[CV] n_estimators=237, max_leaf_nodes=11, max_depth=90, bootstrap=True \n",
      "[CV]  n_estimators=206, max_leaf_nodes=23, max_depth=71, bootstrap=False, total=   0.7s\n",
      "[CV] n_estimators=237, max_leaf_nodes=11, max_depth=90, bootstrap=True \n",
      "[CV]  n_estimators=206, max_leaf_nodes=23, max_depth=71, bootstrap=False, total=   0.8s\n",
      "[CV] n_estimators=237, max_leaf_nodes=11, max_depth=90, bootstrap=True \n",
      "[CV]  n_estimators=206, max_leaf_nodes=23, max_depth=71, bootstrap=False, total=   0.7s\n",
      "[CV]  n_estimators=237, max_leaf_nodes=11, max_depth=90, bootstrap=True, total=   0.7s\n",
      "[CV] n_estimators=82, max_leaf_nodes=20, max_depth=43, bootstrap=False \n",
      "[CV] n_estimators=82, max_leaf_nodes=20, max_depth=43, bootstrap=False \n",
      "[CV]  n_estimators=82, max_leaf_nodes=20, max_depth=43, bootstrap=False, total=   0.3s\n",
      "[CV] n_estimators=82, max_leaf_nodes=20, max_depth=43, bootstrap=False \n",
      "[CV]  n_estimators=82, max_leaf_nodes=20, max_depth=43, bootstrap=False, total=   0.3s\n",
      "[CV] n_estimators=300, max_leaf_nodes=23, max_depth=14, bootstrap=True \n",
      "[CV]  n_estimators=237, max_leaf_nodes=11, max_depth=90, bootstrap=True, total=   0.7s\n",
      "[CV] n_estimators=300, max_leaf_nodes=23, max_depth=14, bootstrap=True \n",
      "[CV]  n_estimators=82, max_leaf_nodes=20, max_depth=43, bootstrap=False, total=   0.3s\n",
      "[CV] n_estimators=300, max_leaf_nodes=23, max_depth=14, bootstrap=True \n",
      "[CV]  n_estimators=237, max_leaf_nodes=11, max_depth=90, bootstrap=True, total=   0.7s\n",
      "[CV] n_estimators=113, max_leaf_nodes=8, max_depth=62, bootstrap=False \n",
      "[CV]  n_estimators=113, max_leaf_nodes=8, max_depth=62, bootstrap=False, total=   0.3s\n",
      "[CV] n_estimators=113, max_leaf_nodes=8, max_depth=62, bootstrap=False \n",
      "[CV]  n_estimators=300, max_leaf_nodes=23, max_depth=14, bootstrap=True, total=   1.0s\n",
      "[CV] n_estimators=113, max_leaf_nodes=8, max_depth=62, bootstrap=False \n",
      "[CV]  n_estimators=113, max_leaf_nodes=8, max_depth=62, bootstrap=False, total=   0.3s\n",
      "[CV] n_estimators=82, max_leaf_nodes=23, max_depth=33, bootstrap=False \n",
      "[CV]  n_estimators=300, max_leaf_nodes=23, max_depth=14, bootstrap=True, total=   1.0s\n",
      "[CV] n_estimators=82, max_leaf_nodes=23, max_depth=33, bootstrap=False \n",
      "[CV]  n_estimators=300, max_leaf_nodes=23, max_depth=14, bootstrap=True, total=   1.0s\n",
      "[CV] n_estimators=82, max_leaf_nodes=23, max_depth=33, bootstrap=False \n",
      "[CV]  n_estimators=82, max_leaf_nodes=23, max_depth=33, bootstrap=False, total=   0.3s\n",
      "[CV] n_estimators=237, max_leaf_nodes=20, max_depth=100, bootstrap=False \n",
      "[CV]  n_estimators=113, max_leaf_nodes=8, max_depth=62, bootstrap=False, total=   0.4s\n",
      "[CV] n_estimators=237, max_leaf_nodes=20, max_depth=100, bootstrap=False \n",
      "[CV]  n_estimators=82, max_leaf_nodes=23, max_depth=33, bootstrap=False, total=   0.3s\n",
      "[CV] n_estimators=237, max_leaf_nodes=20, max_depth=100, bootstrap=False \n",
      "[CV]  n_estimators=82, max_leaf_nodes=23, max_depth=33, bootstrap=False, total=   0.3s\n",
      "[CV] n_estimators=206, max_leaf_nodes=5, max_depth=62, bootstrap=False \n",
      "[CV]  n_estimators=237, max_leaf_nodes=20, max_depth=100, bootstrap=False, total=   0.8s\n",
      "[CV] n_estimators=206, max_leaf_nodes=5, max_depth=62, bootstrap=False \n",
      "[CV]  n_estimators=237, max_leaf_nodes=20, max_depth=100, bootstrap=False, total=   0.7s\n",
      "[CV] n_estimators=206, max_leaf_nodes=5, max_depth=62, bootstrap=False \n",
      "[CV]  n_estimators=237, max_leaf_nodes=20, max_depth=100, bootstrap=False, total=   0.7s\n",
      "[CV] n_estimators=206, max_leaf_nodes=14, max_depth=52, bootstrap=False \n",
      "[CV]  n_estimators=206, max_leaf_nodes=5, max_depth=62, bootstrap=False, total=   0.6s\n",
      "[CV] n_estimators=206, max_leaf_nodes=14, max_depth=52, bootstrap=False \n",
      "[CV]  n_estimators=206, max_leaf_nodes=5, max_depth=62, bootstrap=False, total=   0.6s\n",
      "[CV] n_estimators=206, max_leaf_nodes=14, max_depth=52, bootstrap=False \n",
      "[CV]  n_estimators=206, max_leaf_nodes=5, max_depth=62, bootstrap=False, total=   0.5s\n",
      "[CV] n_estimators=268, max_leaf_nodes=2, max_depth=62, bootstrap=False \n",
      "[CV]  n_estimators=206, max_leaf_nodes=14, max_depth=52, bootstrap=False, total=   0.6s\n",
      "[CV] n_estimators=268, max_leaf_nodes=2, max_depth=62, bootstrap=False \n",
      "[CV]  n_estimators=206, max_leaf_nodes=14, max_depth=52, bootstrap=False, total=   0.7s\n",
      "[CV] n_estimators=268, max_leaf_nodes=2, max_depth=62, bootstrap=False \n",
      "[CV]  n_estimators=206, max_leaf_nodes=14, max_depth=52, bootstrap=False, total=   0.7s\n",
      "[CV] n_estimators=51, max_leaf_nodes=17, max_depth=24, bootstrap=True \n",
      "[CV]  n_estimators=268, max_leaf_nodes=2, max_depth=62, bootstrap=False, total=   0.7s\n",
      "[CV] n_estimators=51, max_leaf_nodes=17, max_depth=24, bootstrap=True \n",
      "[CV]  n_estimators=51, max_leaf_nodes=17, max_depth=24, bootstrap=True, total=   0.2s\n",
      "[CV] n_estimators=51, max_leaf_nodes=17, max_depth=24, bootstrap=True \n",
      "[CV]  n_estimators=268, max_leaf_nodes=2, max_depth=62, bootstrap=False, total=   0.7s\n",
      "[CV] n_estimators=300, max_leaf_nodes=2, max_depth=90, bootstrap=False \n",
      "[CV]  n_estimators=51, max_leaf_nodes=17, max_depth=24, bootstrap=True, total=   0.2s\n",
      "[CV] n_estimators=300, max_leaf_nodes=2, max_depth=90, bootstrap=False \n",
      "[CV]  n_estimators=268, max_leaf_nodes=2, max_depth=62, bootstrap=False, total=   0.8s\n",
      "[CV] n_estimators=300, max_leaf_nodes=2, max_depth=90, bootstrap=False \n",
      "[CV]  n_estimators=51, max_leaf_nodes=17, max_depth=24, bootstrap=True, total=   0.2s\n",
      "[CV] n_estimators=82, max_leaf_nodes=2, max_depth=62, bootstrap=True .\n",
      "[CV]  n_estimators=82, max_leaf_nodes=2, max_depth=62, bootstrap=True, total=   0.2s\n",
      "[CV] n_estimators=82, max_leaf_nodes=2, max_depth=62, bootstrap=True .\n",
      "[CV]  n_estimators=82, max_leaf_nodes=2, max_depth=62, bootstrap=True, total=   0.3s\n",
      "[CV] n_estimators=82, max_leaf_nodes=2, max_depth=62, bootstrap=True .\n",
      "[CV]  n_estimators=300, max_leaf_nodes=2, max_depth=90, bootstrap=False, total=   0.9s\n",
      "[CV] n_estimators=51, max_leaf_nodes=5, max_depth=52, bootstrap=False \n",
      "[CV]  n_estimators=300, max_leaf_nodes=2, max_depth=90, bootstrap=False, total=   0.9s\n",
      "[CV] n_estimators=51, max_leaf_nodes=5, max_depth=52, bootstrap=False \n",
      "[CV]  n_estimators=82, max_leaf_nodes=2, max_depth=62, bootstrap=True, total=   0.3s\n",
      "[CV] n_estimators=51, max_leaf_nodes=5, max_depth=52, bootstrap=False \n",
      "[CV]  n_estimators=300, max_leaf_nodes=2, max_depth=90, bootstrap=False, total=   0.9s\n",
      "[CV] n_estimators=206, max_leaf_nodes=26, max_depth=43, bootstrap=True \n",
      "[CV]  n_estimators=51, max_leaf_nodes=5, max_depth=52, bootstrap=False, total=   0.2s\n",
      "[CV] n_estimators=206, max_leaf_nodes=26, max_depth=43, bootstrap=True \n",
      "[CV]  n_estimators=51, max_leaf_nodes=5, max_depth=52, bootstrap=False, total=   0.2s\n",
      "[CV] n_estimators=206, max_leaf_nodes=26, max_depth=43, bootstrap=True \n",
      "[CV]  n_estimators=51, max_leaf_nodes=5, max_depth=52, bootstrap=False, total=   0.2s\n",
      "[CV] n_estimators=300, max_leaf_nodes=8, max_depth=5, bootstrap=True .\n",
      "[CV]  n_estimators=206, max_leaf_nodes=26, max_depth=43, bootstrap=True, total=   0.8s\n",
      "[CV] n_estimators=300, max_leaf_nodes=8, max_depth=5, bootstrap=True .\n",
      "[CV]  n_estimators=206, max_leaf_nodes=26, max_depth=43, bootstrap=True, total=   0.8s\n",
      "[CV] n_estimators=300, max_leaf_nodes=8, max_depth=5, bootstrap=True .\n",
      "[CV]  n_estimators=206, max_leaf_nodes=26, max_depth=43, bootstrap=True, total=   0.8s\n",
      "[CV] n_estimators=20, max_leaf_nodes=2, max_depth=90, bootstrap=True .\n",
      "[CV]  n_estimators=20, max_leaf_nodes=2, max_depth=90, bootstrap=True, total=   0.0s\n",
      "[CV] n_estimators=20, max_leaf_nodes=2, max_depth=90, bootstrap=True .\n",
      "[CV]  n_estimators=20, max_leaf_nodes=2, max_depth=90, bootstrap=True, total=   0.1s\n",
      "[CV] n_estimators=20, max_leaf_nodes=2, max_depth=90, bootstrap=True .\n",
      "[CV]  n_estimators=20, max_leaf_nodes=2, max_depth=90, bootstrap=True, total=   0.1s\n",
      "[CV] n_estimators=268, max_leaf_nodes=2, max_depth=52, bootstrap=True \n",
      "[CV]  n_estimators=300, max_leaf_nodes=8, max_depth=5, bootstrap=True, total=   1.1s\n",
      "[CV] n_estimators=268, max_leaf_nodes=2, max_depth=52, bootstrap=True \n",
      "[CV]  n_estimators=300, max_leaf_nodes=8, max_depth=5, bootstrap=True, total=   1.0s\n",
      "[CV] n_estimators=268, max_leaf_nodes=2, max_depth=52, bootstrap=True \n",
      "[CV]  n_estimators=300, max_leaf_nodes=8, max_depth=5, bootstrap=True, total=   1.0s\n",
      "[CV] n_estimators=82, max_leaf_nodes=26, max_depth=90, bootstrap=False \n",
      "[CV]  n_estimators=268, max_leaf_nodes=2, max_depth=52, bootstrap=True, total=   0.7s\n",
      "[CV] n_estimators=82, max_leaf_nodes=26, max_depth=90, bootstrap=False \n",
      "[CV]  n_estimators=268, max_leaf_nodes=2, max_depth=52, bootstrap=True, total=   0.8s\n",
      "[CV] n_estimators=82, max_leaf_nodes=26, max_depth=90, bootstrap=False \n",
      "[CV]  n_estimators=82, max_leaf_nodes=26, max_depth=90, bootstrap=False, total=   0.3s\n",
      "[CV] n_estimators=300, max_leaf_nodes=26, max_depth=81, bootstrap=True \n",
      "[CV]  n_estimators=82, max_leaf_nodes=26, max_depth=90, bootstrap=False, total=   0.4s\n",
      "[CV] n_estimators=300, max_leaf_nodes=26, max_depth=81, bootstrap=True \n",
      "[CV]  n_estimators=82, max_leaf_nodes=26, max_depth=90, bootstrap=False, total=   0.4s\n",
      "[CV] n_estimators=300, max_leaf_nodes=26, max_depth=81, bootstrap=True \n",
      "[CV]  n_estimators=268, max_leaf_nodes=2, max_depth=52, bootstrap=True, total=   0.8s\n",
      "[CV] n_estimators=237, max_leaf_nodes=17, max_depth=90, bootstrap=False \n",
      "[CV]  n_estimators=300, max_leaf_nodes=26, max_depth=81, bootstrap=True, total=   1.0s\n",
      "[CV] n_estimators=237, max_leaf_nodes=17, max_depth=90, bootstrap=False \n",
      "[CV]  n_estimators=300, max_leaf_nodes=26, max_depth=81, bootstrap=True, total=   0.9s\n",
      "[CV] n_estimators=237, max_leaf_nodes=17, max_depth=90, bootstrap=False \n",
      "[CV]  n_estimators=237, max_leaf_nodes=17, max_depth=90, bootstrap=False, total=   0.7s\n",
      "[CV] n_estimators=82, max_leaf_nodes=29, max_depth=71, bootstrap=True \n",
      "[CV]  n_estimators=300, max_leaf_nodes=26, max_depth=81, bootstrap=True, total=   0.9s\n",
      "[CV] n_estimators=82, max_leaf_nodes=29, max_depth=71, bootstrap=True \n",
      "[CV]  n_estimators=82, max_leaf_nodes=29, max_depth=71, bootstrap=True, total=   0.3s\n",
      "[CV] n_estimators=82, max_leaf_nodes=29, max_depth=71, bootstrap=True \n",
      "[CV]  n_estimators=82, max_leaf_nodes=29, max_depth=71, bootstrap=True, total=   0.3s\n",
      "[CV] n_estimators=175, max_leaf_nodes=29, max_depth=90, bootstrap=False \n",
      "[CV]  n_estimators=82, max_leaf_nodes=29, max_depth=71, bootstrap=True, total=   0.3s\n",
      "[CV] n_estimators=175, max_leaf_nodes=29, max_depth=90, bootstrap=False \n",
      "[CV]  n_estimators=237, max_leaf_nodes=17, max_depth=90, bootstrap=False, total=   0.9s\n",
      "[CV]  n_estimators=237, max_leaf_nodes=17, max_depth=90, bootstrap=False, total=   0.9s\n",
      "[CV] n_estimators=175, max_leaf_nodes=29, max_depth=90, bootstrap=False \n",
      "[CV] n_estimators=175, max_leaf_nodes=23, max_depth=24, bootstrap=True \n",
      "[CV]  n_estimators=175, max_leaf_nodes=29, max_depth=90, bootstrap=False, total=   0.8s\n",
      "[CV] n_estimators=175, max_leaf_nodes=23, max_depth=24, bootstrap=True \n",
      "[CV]  n_estimators=175, max_leaf_nodes=29, max_depth=90, bootstrap=False, total=   0.7s\n",
      "[CV] n_estimators=175, max_leaf_nodes=23, max_depth=24, bootstrap=True \n",
      "[CV]  n_estimators=175, max_leaf_nodes=23, max_depth=24, bootstrap=True, total=   0.7s\n",
      "[CV] n_estimators=144, max_leaf_nodes=17, max_depth=24, bootstrap=True \n",
      "[CV]  n_estimators=175, max_leaf_nodes=29, max_depth=90, bootstrap=False, total=   0.8s\n",
      "[CV] n_estimators=144, max_leaf_nodes=17, max_depth=24, bootstrap=True \n",
      "[CV]  n_estimators=175, max_leaf_nodes=23, max_depth=24, bootstrap=True, total=   0.7s\n",
      "[CV] n_estimators=144, max_leaf_nodes=17, max_depth=24, bootstrap=True \n",
      "[CV]  n_estimators=144, max_leaf_nodes=17, max_depth=24, bootstrap=True, total=   0.6s\n",
      "[CV]  n_estimators=175, max_leaf_nodes=23, max_depth=24, bootstrap=True, total=   0.7s\n",
      "[CV] n_estimators=206, max_leaf_nodes=2, max_depth=33, bootstrap=True \n",
      "[CV] n_estimators=206, max_leaf_nodes=2, max_depth=33, bootstrap=True \n",
      "[CV]  n_estimators=144, max_leaf_nodes=17, max_depth=24, bootstrap=True, total=   0.5s\n",
      "[CV] n_estimators=206, max_leaf_nodes=2, max_depth=33, bootstrap=True \n",
      "[CV]  n_estimators=144, max_leaf_nodes=17, max_depth=24, bootstrap=True, total=   0.6s\n",
      "[CV] n_estimators=113, max_leaf_nodes=26, max_depth=62, bootstrap=False \n",
      "[CV]  n_estimators=206, max_leaf_nodes=2, max_depth=33, bootstrap=True, total=   0.6s\n",
      "[CV] n_estimators=113, max_leaf_nodes=26, max_depth=62, bootstrap=False \n",
      "[CV]  n_estimators=206, max_leaf_nodes=2, max_depth=33, bootstrap=True, total=   0.6s\n",
      "[CV] n_estimators=113, max_leaf_nodes=26, max_depth=62, bootstrap=False \n",
      "[CV]  n_estimators=206, max_leaf_nodes=2, max_depth=33, bootstrap=True, total=   0.6s\n",
      "[CV] n_estimators=300, max_leaf_nodes=26, max_depth=5, bootstrap=False \n",
      "[CV]  n_estimators=113, max_leaf_nodes=26, max_depth=62, bootstrap=False, total=   0.4s\n",
      "[CV] n_estimators=300, max_leaf_nodes=26, max_depth=5, bootstrap=False \n",
      "[CV]  n_estimators=113, max_leaf_nodes=26, max_depth=62, bootstrap=False, total=   0.5s\n",
      "[CV] n_estimators=300, max_leaf_nodes=26, max_depth=5, bootstrap=False \n",
      "[CV]  n_estimators=113, max_leaf_nodes=26, max_depth=62, bootstrap=False, total=   0.5s\n",
      "[CV] n_estimators=300, max_leaf_nodes=17, max_depth=71, bootstrap=True \n",
      "[CV]  n_estimators=300, max_leaf_nodes=26, max_depth=5, bootstrap=False, total=   1.1s\n",
      "[CV] n_estimators=300, max_leaf_nodes=17, max_depth=71, bootstrap=True \n",
      "[CV]  n_estimators=300, max_leaf_nodes=26, max_depth=5, bootstrap=False, total=   1.0s\n",
      "[CV] n_estimators=300, max_leaf_nodes=17, max_depth=71, bootstrap=True \n",
      "[CV]  n_estimators=300, max_leaf_nodes=17, max_depth=71, bootstrap=True, total=   0.9s\n",
      "[CV] n_estimators=268, max_leaf_nodes=20, max_depth=14, bootstrap=True \n",
      "[CV]  n_estimators=300, max_leaf_nodes=26, max_depth=5, bootstrap=False, total=   1.0s\n",
      "[CV] n_estimators=268, max_leaf_nodes=20, max_depth=14, bootstrap=True \n",
      "[CV]  n_estimators=300, max_leaf_nodes=17, max_depth=71, bootstrap=True, total=   1.0s\n",
      "[CV] n_estimators=268, max_leaf_nodes=20, max_depth=14, bootstrap=True \n",
      "[CV]  n_estimators=300, max_leaf_nodes=17, max_depth=71, bootstrap=True, total=   1.0s\n",
      "[CV] n_estimators=268, max_leaf_nodes=20, max_depth=62, bootstrap=True \n",
      "[CV]  n_estimators=268, max_leaf_nodes=20, max_depth=14, bootstrap=True, total=   0.9s\n",
      "[CV] n_estimators=268, max_leaf_nodes=20, max_depth=62, bootstrap=True \n",
      "[CV]  n_estimators=268, max_leaf_nodes=20, max_depth=14, bootstrap=True, total=   0.9s\n",
      "[CV] n_estimators=268, max_leaf_nodes=20, max_depth=62, bootstrap=True \n",
      "[CV]  n_estimators=268, max_leaf_nodes=20, max_depth=14, bootstrap=True, total=   1.1s\n",
      "[CV] n_estimators=144, max_leaf_nodes=26, max_depth=14, bootstrap=True \n",
      "[CV]  n_estimators=268, max_leaf_nodes=20, max_depth=62, bootstrap=True, total=   1.1s\n",
      "[CV] n_estimators=144, max_leaf_nodes=26, max_depth=14, bootstrap=True \n",
      "[CV]  n_estimators=268, max_leaf_nodes=20, max_depth=62, bootstrap=True, total=   1.0s\n",
      "[CV] n_estimators=144, max_leaf_nodes=26, max_depth=14, bootstrap=True \n",
      "[CV]  n_estimators=268, max_leaf_nodes=20, max_depth=62, bootstrap=True, total=   1.1s\n",
      "[CV] n_estimators=144, max_leaf_nodes=5, max_depth=43, bootstrap=True \n",
      "[CV]  n_estimators=144, max_leaf_nodes=26, max_depth=14, bootstrap=True, total=   0.6s\n",
      "[CV] n_estimators=144, max_leaf_nodes=5, max_depth=43, bootstrap=True \n",
      "[CV]  n_estimators=144, max_leaf_nodes=26, max_depth=14, bootstrap=True, total=   0.6s\n",
      "[CV] n_estimators=144, max_leaf_nodes=5, max_depth=43, bootstrap=True \n",
      "[CV]  n_estimators=144, max_leaf_nodes=26, max_depth=14, bootstrap=True, total=   0.6s\n",
      "[CV] n_estimators=51, max_leaf_nodes=14, max_depth=71, bootstrap=False \n",
      "[CV]  n_estimators=144, max_leaf_nodes=5, max_depth=43, bootstrap=True, total=   0.5s\n",
      "[CV] n_estimators=51, max_leaf_nodes=14, max_depth=71, bootstrap=False \n",
      "[CV]  n_estimators=51, max_leaf_nodes=14, max_depth=71, bootstrap=False, total=   0.2s\n",
      "[CV] n_estimators=51, max_leaf_nodes=14, max_depth=71, bootstrap=False \n",
      "[CV]  n_estimators=51, max_leaf_nodes=14, max_depth=71, bootstrap=False, total=   0.2s\n",
      "[CV] n_estimators=113, max_leaf_nodes=20, max_depth=33, bootstrap=False \n",
      "[CV]  n_estimators=144, max_leaf_nodes=5, max_depth=43, bootstrap=True, total=   0.5s\n",
      "[CV] n_estimators=113, max_leaf_nodes=20, max_depth=33, bootstrap=False \n",
      "[CV]  n_estimators=51, max_leaf_nodes=14, max_depth=71, bootstrap=False, total=   0.2s\n",
      "[CV] n_estimators=113, max_leaf_nodes=20, max_depth=33, bootstrap=False \n",
      "[CV]  n_estimators=144, max_leaf_nodes=5, max_depth=43, bootstrap=True, total=   0.5s\n",
      "[CV] n_estimators=51, max_leaf_nodes=5, max_depth=14, bootstrap=True .\n",
      "[CV]  n_estimators=51, max_leaf_nodes=5, max_depth=14, bootstrap=True, total=   0.2s\n",
      "[CV] n_estimators=51, max_leaf_nodes=5, max_depth=14, bootstrap=True .\n",
      "[CV]  n_estimators=113, max_leaf_nodes=20, max_depth=33, bootstrap=False, total=   0.5s\n",
      "[CV] n_estimators=51, max_leaf_nodes=5, max_depth=14, bootstrap=True .\n",
      "[CV]  n_estimators=51, max_leaf_nodes=5, max_depth=14, bootstrap=True, total=   0.2s\n",
      "[CV] n_estimators=82, max_leaf_nodes=14, max_depth=71, bootstrap=True \n",
      "[CV]  n_estimators=113, max_leaf_nodes=20, max_depth=33, bootstrap=False, total=   0.5s\n",
      "[CV] n_estimators=82, max_leaf_nodes=14, max_depth=71, bootstrap=True \n",
      "[CV]  n_estimators=113, max_leaf_nodes=20, max_depth=33, bootstrap=False, total=   0.5s\n",
      "[CV] n_estimators=82, max_leaf_nodes=14, max_depth=71, bootstrap=True \n",
      "[CV]  n_estimators=51, max_leaf_nodes=5, max_depth=14, bootstrap=True, total=   0.2s\n",
      "[CV] n_estimators=20, max_leaf_nodes=5, max_depth=100, bootstrap=False \n",
      "[CV]  n_estimators=20, max_leaf_nodes=5, max_depth=100, bootstrap=False, total=   0.1s\n",
      "[CV] n_estimators=20, max_leaf_nodes=5, max_depth=100, bootstrap=False \n",
      "[CV]  n_estimators=20, max_leaf_nodes=5, max_depth=100, bootstrap=False, total=   0.1s\n",
      "[CV] n_estimators=20, max_leaf_nodes=5, max_depth=100, bootstrap=False \n",
      "[CV]  n_estimators=82, max_leaf_nodes=14, max_depth=71, bootstrap=True, total=   0.3s\n",
      "[CV] n_estimators=51, max_leaf_nodes=23, max_depth=14, bootstrap=False \n",
      "[CV]  n_estimators=20, max_leaf_nodes=5, max_depth=100, bootstrap=False, total=   0.1s\n",
      "[CV] n_estimators=51, max_leaf_nodes=23, max_depth=14, bootstrap=False \n",
      "[CV]  n_estimators=82, max_leaf_nodes=14, max_depth=71, bootstrap=True, total=   0.4s\n",
      "[CV] n_estimators=51, max_leaf_nodes=23, max_depth=14, bootstrap=False \n",
      "[CV]  n_estimators=82, max_leaf_nodes=14, max_depth=71, bootstrap=True, total=   0.4s\n",
      "[CV] n_estimators=268, max_leaf_nodes=5, max_depth=62, bootstrap=True \n",
      "[CV]  n_estimators=51, max_leaf_nodes=23, max_depth=14, bootstrap=False, total=   0.2s\n",
      "[CV] n_estimators=268, max_leaf_nodes=5, max_depth=62, bootstrap=True \n"
     ]
    },
    {
     "name": "stderr",
     "output_type": "stream",
     "text": [
      "[Parallel(n_jobs=-1)]: Done 154 tasks      | elapsed:   23.5s\n"
     ]
    },
    {
     "name": "stdout",
     "output_type": "stream",
     "text": [
      "[CV]  n_estimators=51, max_leaf_nodes=23, max_depth=14, bootstrap=False, total=   0.2s\n",
      "[CV] n_estimators=268, max_leaf_nodes=5, max_depth=62, bootstrap=True \n",
      "[CV]  n_estimators=51, max_leaf_nodes=23, max_depth=14, bootstrap=False, total=   0.2s\n",
      "[CV] n_estimators=144, max_leaf_nodes=2, max_depth=100, bootstrap=False \n",
      "[CV]  n_estimators=144, max_leaf_nodes=2, max_depth=100, bootstrap=False, total=   0.4s\n",
      "[CV] n_estimators=144, max_leaf_nodes=2, max_depth=100, bootstrap=False \n",
      "[CV]  n_estimators=268, max_leaf_nodes=5, max_depth=62, bootstrap=True, total=   0.9s\n",
      "[CV] n_estimators=144, max_leaf_nodes=2, max_depth=100, bootstrap=False \n",
      "[CV]  n_estimators=268, max_leaf_nodes=5, max_depth=62, bootstrap=True, total=   0.9s\n",
      "[CV] n_estimators=144, max_leaf_nodes=17, max_depth=33, bootstrap=True \n",
      "[CV]  n_estimators=268, max_leaf_nodes=5, max_depth=62, bootstrap=True, total=   0.9s\n",
      "[CV] n_estimators=144, max_leaf_nodes=17, max_depth=33, bootstrap=True \n",
      "[CV]  n_estimators=144, max_leaf_nodes=2, max_depth=100, bootstrap=False, total=   0.5s\n",
      "[CV] n_estimators=144, max_leaf_nodes=17, max_depth=33, bootstrap=True \n",
      "[CV]  n_estimators=144, max_leaf_nodes=2, max_depth=100, bootstrap=False, total=   0.5s\n",
      "[CV] n_estimators=144, max_leaf_nodes=20, max_depth=81, bootstrap=False \n",
      "[CV]  n_estimators=144, max_leaf_nodes=17, max_depth=33, bootstrap=True, total=   0.6s\n",
      "[CV] n_estimators=144, max_leaf_nodes=20, max_depth=81, bootstrap=False \n",
      "[CV]  n_estimators=144, max_leaf_nodes=17, max_depth=33, bootstrap=True, total=   0.5s\n",
      "[CV] n_estimators=144, max_leaf_nodes=20, max_depth=81, bootstrap=False \n",
      "[CV]  n_estimators=144, max_leaf_nodes=17, max_depth=33, bootstrap=True, total=   0.5s\n",
      "[CV] n_estimators=51, max_leaf_nodes=14, max_depth=43, bootstrap=False \n",
      "[CV]  n_estimators=51, max_leaf_nodes=14, max_depth=43, bootstrap=False, total=   0.2s\n",
      "[CV] n_estimators=51, max_leaf_nodes=14, max_depth=43, bootstrap=False \n",
      "[CV]  n_estimators=144, max_leaf_nodes=20, max_depth=81, bootstrap=False, total=   0.6s\n",
      "[CV] n_estimators=51, max_leaf_nodes=14, max_depth=43, bootstrap=False \n",
      "[CV]  n_estimators=51, max_leaf_nodes=14, max_depth=43, bootstrap=False, total=   0.2s\n",
      "[CV] n_estimators=113, max_leaf_nodes=11, max_depth=100, bootstrap=True \n",
      "[CV]  n_estimators=144, max_leaf_nodes=20, max_depth=81, bootstrap=False, total=   0.6s\n",
      "[CV] n_estimators=113, max_leaf_nodes=11, max_depth=100, bootstrap=True \n",
      "[CV]  n_estimators=51, max_leaf_nodes=14, max_depth=43, bootstrap=False, total=   0.2s\n",
      "[CV] n_estimators=113, max_leaf_nodes=11, max_depth=100, bootstrap=True \n",
      "[CV]  n_estimators=144, max_leaf_nodes=20, max_depth=81, bootstrap=False, total=   0.7s\n",
      "[CV] n_estimators=206, max_leaf_nodes=14, max_depth=71, bootstrap=True \n",
      "[CV]  n_estimators=113, max_leaf_nodes=11, max_depth=100, bootstrap=True, total=   0.4s\n",
      "[CV] n_estimators=206, max_leaf_nodes=14, max_depth=71, bootstrap=True \n",
      "[CV]  n_estimators=113, max_leaf_nodes=11, max_depth=100, bootstrap=True, total=   0.4s\n",
      "[CV] n_estimators=206, max_leaf_nodes=14, max_depth=71, bootstrap=True \n",
      "[CV]  n_estimators=113, max_leaf_nodes=11, max_depth=100, bootstrap=True, total=   0.4s\n",
      "[CV] n_estimators=237, max_leaf_nodes=5, max_depth=24, bootstrap=False \n",
      "[CV]  n_estimators=206, max_leaf_nodes=14, max_depth=71, bootstrap=True, total=   0.7s\n",
      "[CV] n_estimators=237, max_leaf_nodes=5, max_depth=24, bootstrap=False \n",
      "[CV]  n_estimators=206, max_leaf_nodes=14, max_depth=71, bootstrap=True, total=   0.7s\n",
      "[CV] n_estimators=237, max_leaf_nodes=5, max_depth=24, bootstrap=False \n",
      "[CV]  n_estimators=206, max_leaf_nodes=14, max_depth=71, bootstrap=True, total=   0.7s\n",
      "[CV] n_estimators=20, max_leaf_nodes=11, max_depth=71, bootstrap=False \n",
      "[CV]  n_estimators=20, max_leaf_nodes=11, max_depth=71, bootstrap=False, total=   0.1s\n",
      "[CV] n_estimators=20, max_leaf_nodes=11, max_depth=71, bootstrap=False \n",
      "[CV]  n_estimators=237, max_leaf_nodes=5, max_depth=24, bootstrap=False, total=   0.9s\n",
      "[CV] n_estimators=20, max_leaf_nodes=11, max_depth=71, bootstrap=False \n",
      "[CV]  n_estimators=20, max_leaf_nodes=11, max_depth=71, bootstrap=False, total=   0.1s\n",
      "[CV] n_estimators=237, max_leaf_nodes=5, max_depth=81, bootstrap=True \n",
      "[CV]  n_estimators=20, max_leaf_nodes=11, max_depth=71, bootstrap=False, total=   0.1s\n",
      "[CV] n_estimators=237, max_leaf_nodes=5, max_depth=81, bootstrap=True \n",
      "[CV]  n_estimators=237, max_leaf_nodes=5, max_depth=24, bootstrap=False, total=   1.1s\n",
      "[CV] n_estimators=237, max_leaf_nodes=5, max_depth=81, bootstrap=True \n",
      "[CV]  n_estimators=237, max_leaf_nodes=5, max_depth=24, bootstrap=False, total=   1.4s\n",
      "[CV] n_estimators=20, max_leaf_nodes=23, max_depth=52, bootstrap=False \n",
      "[CV]  n_estimators=20, max_leaf_nodes=23, max_depth=52, bootstrap=False, total=   0.2s\n",
      "[CV] n_estimators=20, max_leaf_nodes=23, max_depth=52, bootstrap=False \n",
      "[CV]  n_estimators=237, max_leaf_nodes=5, max_depth=81, bootstrap=True, total=   1.4s\n",
      "[CV] n_estimators=20, max_leaf_nodes=23, max_depth=52, bootstrap=False \n",
      "[CV]  n_estimators=20, max_leaf_nodes=23, max_depth=52, bootstrap=False, total=   0.1s\n",
      "[CV] n_estimators=268, max_leaf_nodes=26, max_depth=62, bootstrap=False \n",
      "[CV]  n_estimators=237, max_leaf_nodes=5, max_depth=81, bootstrap=True, total=   1.4s\n",
      "[CV] n_estimators=268, max_leaf_nodes=26, max_depth=62, bootstrap=False \n",
      "[CV]  n_estimators=20, max_leaf_nodes=23, max_depth=52, bootstrap=False, total=   0.1s\n",
      "[CV] n_estimators=268, max_leaf_nodes=26, max_depth=62, bootstrap=False \n",
      "[CV]  n_estimators=237, max_leaf_nodes=5, max_depth=81, bootstrap=True, total=   1.3s\n",
      "[CV] n_estimators=268, max_leaf_nodes=2, max_depth=43, bootstrap=True \n",
      "[CV]  n_estimators=268, max_leaf_nodes=2, max_depth=43, bootstrap=True, total=   0.7s\n",
      "[CV] n_estimators=268, max_leaf_nodes=2, max_depth=43, bootstrap=True \n",
      "[CV]  n_estimators=268, max_leaf_nodes=26, max_depth=62, bootstrap=False, total=   1.3s\n",
      "[CV] n_estimators=268, max_leaf_nodes=2, max_depth=43, bootstrap=True \n",
      "[CV]  n_estimators=268, max_leaf_nodes=26, max_depth=62, bootstrap=False, total=   1.2s\n",
      "[CV] n_estimators=144, max_leaf_nodes=29, max_depth=52, bootstrap=False \n",
      "[CV]  n_estimators=268, max_leaf_nodes=26, max_depth=62, bootstrap=False, total=   1.3s\n",
      "[CV] n_estimators=144, max_leaf_nodes=29, max_depth=52, bootstrap=False \n",
      "[CV]  n_estimators=144, max_leaf_nodes=29, max_depth=52, bootstrap=False, total=   0.6s\n",
      "[CV] n_estimators=144, max_leaf_nodes=29, max_depth=52, bootstrap=False \n",
      "[CV]  n_estimators=268, max_leaf_nodes=2, max_depth=43, bootstrap=True, total=   0.8s\n",
      "[CV]  n_estimators=144, max_leaf_nodes=29, max_depth=52, bootstrap=False, total=   0.5s\n",
      "[CV] n_estimators=206, max_leaf_nodes=29, max_depth=5, bootstrap=True \n",
      "[CV] n_estimators=206, max_leaf_nodes=29, max_depth=5, bootstrap=True \n",
      "[CV]  n_estimators=268, max_leaf_nodes=2, max_depth=43, bootstrap=True, total=   0.8s\n",
      "[CV] n_estimators=206, max_leaf_nodes=29, max_depth=5, bootstrap=True \n",
      "[CV]  n_estimators=144, max_leaf_nodes=29, max_depth=52, bootstrap=False, total=   0.6s\n",
      "[CV] n_estimators=51, max_leaf_nodes=20, max_depth=33, bootstrap=False \n",
      "[CV]  n_estimators=51, max_leaf_nodes=20, max_depth=33, bootstrap=False, total=   0.2s\n",
      "[CV] n_estimators=51, max_leaf_nodes=20, max_depth=33, bootstrap=False \n",
      "[CV]  n_estimators=206, max_leaf_nodes=29, max_depth=5, bootstrap=True, total=   0.8s\n",
      "[CV] n_estimators=51, max_leaf_nodes=20, max_depth=33, bootstrap=False \n",
      "[CV]  n_estimators=206, max_leaf_nodes=29, max_depth=5, bootstrap=True, total=   0.8s\n",
      "[CV] n_estimators=82, max_leaf_nodes=8, max_depth=43, bootstrap=True .\n",
      "[CV]  n_estimators=206, max_leaf_nodes=29, max_depth=5, bootstrap=True, total=   0.8s\n",
      "[CV] n_estimators=82, max_leaf_nodes=8, max_depth=43, bootstrap=True .\n",
      "[CV]  n_estimators=51, max_leaf_nodes=20, max_depth=33, bootstrap=False, total=   0.2s\n",
      "[CV] n_estimators=82, max_leaf_nodes=8, max_depth=43, bootstrap=True .\n",
      "[CV]  n_estimators=51, max_leaf_nodes=20, max_depth=33, bootstrap=False, total=   0.2s\n",
      "[CV] n_estimators=51, max_leaf_nodes=2, max_depth=33, bootstrap=False \n",
      "[CV]  n_estimators=82, max_leaf_nodes=8, max_depth=43, bootstrap=True, total=   0.3s\n",
      "[CV] n_estimators=51, max_leaf_nodes=2, max_depth=33, bootstrap=False \n",
      "[CV]  n_estimators=82, max_leaf_nodes=8, max_depth=43, bootstrap=True, total=   0.3s\n",
      "[CV] n_estimators=51, max_leaf_nodes=2, max_depth=33, bootstrap=False \n",
      "[CV]  n_estimators=51, max_leaf_nodes=2, max_depth=33, bootstrap=False, total=   0.1s\n",
      "[CV] n_estimators=175, max_leaf_nodes=14, max_depth=71, bootstrap=False \n",
      "[CV]  n_estimators=51, max_leaf_nodes=2, max_depth=33, bootstrap=False, total=   0.2s\n",
      "[CV]  n_estimators=82, max_leaf_nodes=8, max_depth=43, bootstrap=True, total=   0.3s\n",
      "[CV] n_estimators=175, max_leaf_nodes=14, max_depth=71, bootstrap=False \n",
      "[CV] n_estimators=175, max_leaf_nodes=14, max_depth=71, bootstrap=False \n",
      "[CV]  n_estimators=51, max_leaf_nodes=2, max_depth=33, bootstrap=False, total=   0.2s\n",
      "[CV] n_estimators=268, max_leaf_nodes=8, max_depth=90, bootstrap=False \n",
      "[CV]  n_estimators=175, max_leaf_nodes=14, max_depth=71, bootstrap=False, total=   0.6s\n",
      "[CV] n_estimators=268, max_leaf_nodes=8, max_depth=90, bootstrap=False \n",
      "[CV]  n_estimators=175, max_leaf_nodes=14, max_depth=71, bootstrap=False, total=   0.5s\n",
      "[CV]  n_estimators=175, max_leaf_nodes=14, max_depth=71, bootstrap=False, total=   0.5s\n",
      "[CV] n_estimators=268, max_leaf_nodes=8, max_depth=90, bootstrap=False \n",
      "[CV] n_estimators=51, max_leaf_nodes=2, max_depth=100, bootstrap=True \n",
      "[CV]  n_estimators=51, max_leaf_nodes=2, max_depth=100, bootstrap=True, total=   0.2s\n",
      "[CV] n_estimators=51, max_leaf_nodes=2, max_depth=100, bootstrap=True \n",
      "[CV]  n_estimators=51, max_leaf_nodes=2, max_depth=100, bootstrap=True, total=   0.2s\n",
      "[CV] n_estimators=51, max_leaf_nodes=2, max_depth=100, bootstrap=True \n",
      "[CV]  n_estimators=268, max_leaf_nodes=8, max_depth=90, bootstrap=False, total=   0.9s\n",
      "[CV] n_estimators=51, max_leaf_nodes=14, max_depth=71, bootstrap=True \n",
      "[CV]  n_estimators=51, max_leaf_nodes=2, max_depth=100, bootstrap=True, total=   0.1s\n",
      "[CV] n_estimators=51, max_leaf_nodes=14, max_depth=71, bootstrap=True \n",
      "[CV]  n_estimators=51, max_leaf_nodes=14, max_depth=71, bootstrap=True, total=   0.2s\n",
      "[CV] n_estimators=51, max_leaf_nodes=14, max_depth=71, bootstrap=True \n",
      "[CV]  n_estimators=51, max_leaf_nodes=14, max_depth=71, bootstrap=True, total=   0.2s\n",
      "[CV] n_estimators=82, max_leaf_nodes=11, max_depth=62, bootstrap=False \n",
      "[CV]  n_estimators=51, max_leaf_nodes=14, max_depth=71, bootstrap=True, total=   0.2s\n",
      "[CV] n_estimators=82, max_leaf_nodes=11, max_depth=62, bootstrap=False \n",
      "[CV]  n_estimators=268, max_leaf_nodes=8, max_depth=90, bootstrap=False, total=   0.9s\n",
      "[CV] n_estimators=82, max_leaf_nodes=11, max_depth=62, bootstrap=False \n",
      "[CV]  n_estimators=268, max_leaf_nodes=8, max_depth=90, bootstrap=False, total=   1.0s\n",
      "[CV] n_estimators=175, max_leaf_nodes=23, max_depth=100, bootstrap=True \n",
      "[CV]  n_estimators=82, max_leaf_nodes=11, max_depth=62, bootstrap=False, total=   0.3s\n",
      "[CV] n_estimators=175, max_leaf_nodes=23, max_depth=100, bootstrap=True \n",
      "[CV]  n_estimators=82, max_leaf_nodes=11, max_depth=62, bootstrap=False, total=   0.3s\n",
      "[CV] n_estimators=175, max_leaf_nodes=23, max_depth=100, bootstrap=True \n",
      "[CV]  n_estimators=82, max_leaf_nodes=11, max_depth=62, bootstrap=False, total=   0.3s\n",
      "[CV] n_estimators=113, max_leaf_nodes=29, max_depth=81, bootstrap=False \n",
      "[CV]  n_estimators=175, max_leaf_nodes=23, max_depth=100, bootstrap=True, total=   0.6s\n",
      "[CV] n_estimators=113, max_leaf_nodes=29, max_depth=81, bootstrap=False \n",
      "[CV]  n_estimators=175, max_leaf_nodes=23, max_depth=100, bootstrap=True, total=   0.6s\n",
      "[CV]  n_estimators=113, max_leaf_nodes=29, max_depth=81, bootstrap=False, total=   0.4s\n",
      "[CV] n_estimators=113, max_leaf_nodes=29, max_depth=81, bootstrap=False \n",
      "[CV] n_estimators=237, max_leaf_nodes=11, max_depth=24, bootstrap=False \n",
      "[CV]  n_estimators=175, max_leaf_nodes=23, max_depth=100, bootstrap=True, total=   0.6s\n",
      "[CV] n_estimators=237, max_leaf_nodes=11, max_depth=24, bootstrap=False \n",
      "[CV]  n_estimators=113, max_leaf_nodes=29, max_depth=81, bootstrap=False, total=   0.5s\n",
      "[CV] n_estimators=237, max_leaf_nodes=11, max_depth=24, bootstrap=False \n",
      "[CV]  n_estimators=113, max_leaf_nodes=29, max_depth=81, bootstrap=False, total=   0.5s\n",
      "[CV] n_estimators=206, max_leaf_nodes=8, max_depth=52, bootstrap=False \n",
      "[CV]  n_estimators=237, max_leaf_nodes=11, max_depth=24, bootstrap=False, total=   0.9s\n",
      "[CV] n_estimators=206, max_leaf_nodes=8, max_depth=52, bootstrap=False \n",
      "[CV]  n_estimators=237, max_leaf_nodes=11, max_depth=24, bootstrap=False, total=   0.8s\n",
      "[CV] n_estimators=206, max_leaf_nodes=8, max_depth=52, bootstrap=False \n",
      "[CV]  n_estimators=206, max_leaf_nodes=8, max_depth=52, bootstrap=False, total=   0.7s\n",
      "[CV] n_estimators=113, max_leaf_nodes=11, max_depth=100, bootstrap=False \n",
      "[CV]  n_estimators=237, max_leaf_nodes=11, max_depth=24, bootstrap=False, total=   0.8s\n",
      "[CV] n_estimators=113, max_leaf_nodes=11, max_depth=100, bootstrap=False \n",
      "[CV]  n_estimators=206, max_leaf_nodes=8, max_depth=52, bootstrap=False, total=   0.7s\n",
      "[CV] n_estimators=113, max_leaf_nodes=11, max_depth=100, bootstrap=False \n",
      "[CV]  n_estimators=113, max_leaf_nodes=11, max_depth=100, bootstrap=False, total=   0.4s\n",
      "[CV] n_estimators=237, max_leaf_nodes=14, max_depth=24, bootstrap=True \n",
      "[CV]  n_estimators=113, max_leaf_nodes=11, max_depth=100, bootstrap=False, total=   0.4s\n",
      "[CV]  n_estimators=206, max_leaf_nodes=8, max_depth=52, bootstrap=False, total=   0.7s\n",
      "[CV] n_estimators=237, max_leaf_nodes=14, max_depth=24, bootstrap=True \n",
      "[CV] n_estimators=237, max_leaf_nodes=14, max_depth=24, bootstrap=True \n",
      "[CV]  n_estimators=113, max_leaf_nodes=11, max_depth=100, bootstrap=False, total=   0.4s\n",
      "[CV] n_estimators=113, max_leaf_nodes=23, max_depth=5, bootstrap=True \n",
      "[CV]  n_estimators=113, max_leaf_nodes=23, max_depth=5, bootstrap=True, total=   0.4s\n",
      "[CV] n_estimators=113, max_leaf_nodes=23, max_depth=5, bootstrap=True \n",
      "[CV]  n_estimators=237, max_leaf_nodes=14, max_depth=24, bootstrap=True, total=   0.7s\n",
      "[CV] n_estimators=113, max_leaf_nodes=23, max_depth=5, bootstrap=True \n",
      "[CV]  n_estimators=237, max_leaf_nodes=14, max_depth=24, bootstrap=True, total=   0.7s\n",
      "[CV] n_estimators=82, max_leaf_nodes=17, max_depth=52, bootstrap=True \n",
      "[CV]  n_estimators=237, max_leaf_nodes=14, max_depth=24, bootstrap=True, total=   0.8s\n",
      "[CV] n_estimators=82, max_leaf_nodes=17, max_depth=52, bootstrap=True \n",
      "[CV]  n_estimators=82, max_leaf_nodes=17, max_depth=52, bootstrap=True, total=   0.3s\n",
      "[CV] n_estimators=82, max_leaf_nodes=17, max_depth=52, bootstrap=True \n",
      "[CV]  n_estimators=82, max_leaf_nodes=17, max_depth=52, bootstrap=True, total=   0.3s\n",
      "[CV] n_estimators=206, max_leaf_nodes=5, max_depth=52, bootstrap=False \n",
      "[CV]  n_estimators=113, max_leaf_nodes=23, max_depth=5, bootstrap=True, total=   0.4s\n",
      "[CV] n_estimators=206, max_leaf_nodes=5, max_depth=52, bootstrap=False \n",
      "[CV]  n_estimators=113, max_leaf_nodes=23, max_depth=5, bootstrap=True, total=   0.4s\n",
      "[CV] n_estimators=206, max_leaf_nodes=5, max_depth=52, bootstrap=False \n",
      "[CV]  n_estimators=82, max_leaf_nodes=17, max_depth=52, bootstrap=True, total=   0.3s\n",
      "[CV] n_estimators=144, max_leaf_nodes=29, max_depth=5, bootstrap=False \n",
      "[CV]  n_estimators=206, max_leaf_nodes=5, max_depth=52, bootstrap=False, total=   0.7s\n",
      "[CV] n_estimators=144, max_leaf_nodes=29, max_depth=5, bootstrap=False \n",
      "[CV]  n_estimators=206, max_leaf_nodes=5, max_depth=52, bootstrap=False, total=   0.7s\n",
      "[CV] n_estimators=144, max_leaf_nodes=29, max_depth=5, bootstrap=False \n",
      "[CV]  n_estimators=206, max_leaf_nodes=5, max_depth=52, bootstrap=False, total=   0.7s\n",
      "[CV] n_estimators=20, max_leaf_nodes=29, max_depth=100, bootstrap=False \n",
      "[CV]  n_estimators=20, max_leaf_nodes=29, max_depth=100, bootstrap=False, total=   0.1s\n",
      "[CV] n_estimators=20, max_leaf_nodes=29, max_depth=100, bootstrap=False \n",
      "[CV]  n_estimators=144, max_leaf_nodes=29, max_depth=5, bootstrap=False, total=   0.6s\n",
      "[CV] n_estimators=20, max_leaf_nodes=29, max_depth=100, bootstrap=False \n",
      "[CV]  n_estimators=20, max_leaf_nodes=29, max_depth=100, bootstrap=False, total=   0.1s\n",
      "[CV] n_estimators=175, max_leaf_nodes=17, max_depth=52, bootstrap=True \n",
      "[CV]  n_estimators=20, max_leaf_nodes=29, max_depth=100, bootstrap=False, total=   0.1s\n",
      "[CV] n_estimators=175, max_leaf_nodes=17, max_depth=52, bootstrap=True \n",
      "[CV]  n_estimators=144, max_leaf_nodes=29, max_depth=5, bootstrap=False, total=   0.6s\n",
      "[CV]  n_estimators=144, max_leaf_nodes=29, max_depth=5, bootstrap=False, total=   0.6s\n",
      "[CV] n_estimators=175, max_leaf_nodes=17, max_depth=52, bootstrap=True \n",
      "[CV] n_estimators=144, max_leaf_nodes=14, max_depth=71, bootstrap=True \n",
      "[CV]  n_estimators=175, max_leaf_nodes=17, max_depth=52, bootstrap=True, total=   0.7s\n",
      "[CV] n_estimators=144, max_leaf_nodes=14, max_depth=71, bootstrap=True \n",
      "[CV]  n_estimators=175, max_leaf_nodes=17, max_depth=52, bootstrap=True, total=   0.7s\n",
      "[CV] n_estimators=144, max_leaf_nodes=14, max_depth=71, bootstrap=True \n",
      "[CV]  n_estimators=144, max_leaf_nodes=14, max_depth=71, bootstrap=True, total=   0.7s\n",
      "[CV] n_estimators=300, max_leaf_nodes=23, max_depth=90, bootstrap=True \n",
      "[CV]  n_estimators=175, max_leaf_nodes=17, max_depth=52, bootstrap=True, total=   0.9s\n",
      "[CV] n_estimators=300, max_leaf_nodes=23, max_depth=90, bootstrap=True \n",
      "[CV]  n_estimators=144, max_leaf_nodes=14, max_depth=71, bootstrap=True, total=   0.7s\n",
      "[CV] n_estimators=300, max_leaf_nodes=23, max_depth=90, bootstrap=True \n",
      "[CV]  n_estimators=144, max_leaf_nodes=14, max_depth=71, bootstrap=True, total=   0.6s\n",
      "[CV] n_estimators=20, max_leaf_nodes=2, max_depth=14, bootstrap=True .\n",
      "[CV]  n_estimators=20, max_leaf_nodes=2, max_depth=14, bootstrap=True, total=   0.1s\n",
      "[CV] n_estimators=20, max_leaf_nodes=2, max_depth=14, bootstrap=True .\n",
      "[CV]  n_estimators=20, max_leaf_nodes=2, max_depth=14, bootstrap=True, total=   0.0s\n",
      "[CV] n_estimators=20, max_leaf_nodes=2, max_depth=14, bootstrap=True .\n",
      "[CV]  n_estimators=20, max_leaf_nodes=2, max_depth=14, bootstrap=True, total=   0.1s\n",
      "[CV] n_estimators=237, max_leaf_nodes=2, max_depth=52, bootstrap=True \n",
      "[CV]  n_estimators=300, max_leaf_nodes=23, max_depth=90, bootstrap=True, total=   1.2s\n",
      "[CV] n_estimators=237, max_leaf_nodes=2, max_depth=52, bootstrap=True \n",
      "[CV]  n_estimators=300, max_leaf_nodes=23, max_depth=90, bootstrap=True, total=   1.1s\n",
      "[CV] n_estimators=237, max_leaf_nodes=2, max_depth=52, bootstrap=True \n",
      "[CV]  n_estimators=237, max_leaf_nodes=2, max_depth=52, bootstrap=True, total=   0.7s\n",
      "[CV] n_estimators=206, max_leaf_nodes=11, max_depth=81, bootstrap=False \n",
      "[CV]  n_estimators=300, max_leaf_nodes=23, max_depth=90, bootstrap=True, total=   1.2s\n",
      "[CV] n_estimators=206, max_leaf_nodes=11, max_depth=81, bootstrap=False \n",
      "[CV]  n_estimators=237, max_leaf_nodes=2, max_depth=52, bootstrap=True, total=   0.8s\n",
      "[CV] n_estimators=206, max_leaf_nodes=11, max_depth=81, bootstrap=False \n",
      "[CV]  n_estimators=237, max_leaf_nodes=2, max_depth=52, bootstrap=True, total=   0.7s\n",
      "[CV] n_estimators=82, max_leaf_nodes=20, max_depth=62, bootstrap=False \n",
      "[CV]  n_estimators=206, max_leaf_nodes=11, max_depth=81, bootstrap=False, total=   0.8s\n",
      "[CV] n_estimators=82, max_leaf_nodes=20, max_depth=62, bootstrap=False \n",
      "[CV]  n_estimators=206, max_leaf_nodes=11, max_depth=81, bootstrap=False, total=   0.8s\n",
      "[CV] n_estimators=82, max_leaf_nodes=20, max_depth=62, bootstrap=False \n",
      "[CV]  n_estimators=82, max_leaf_nodes=20, max_depth=62, bootstrap=False, total=   0.3s\n",
      "[CV] n_estimators=175, max_leaf_nodes=26, max_depth=43, bootstrap=True \n",
      "[CV]  n_estimators=82, max_leaf_nodes=20, max_depth=62, bootstrap=False, total=   0.4s\n",
      "[CV] n_estimators=175, max_leaf_nodes=26, max_depth=43, bootstrap=True \n",
      "[CV]  n_estimators=82, max_leaf_nodes=20, max_depth=62, bootstrap=False, total=   0.5s\n",
      "[CV] n_estimators=175, max_leaf_nodes=26, max_depth=43, bootstrap=True \n",
      "[CV]  n_estimators=206, max_leaf_nodes=11, max_depth=81, bootstrap=False, total=   0.9s\n",
      "[CV] n_estimators=51, max_leaf_nodes=26, max_depth=52, bootstrap=True \n",
      "[CV]  n_estimators=51, max_leaf_nodes=26, max_depth=52, bootstrap=True, total=   0.2s\n",
      "[CV] n_estimators=51, max_leaf_nodes=26, max_depth=52, bootstrap=True \n",
      "[CV]  n_estimators=175, max_leaf_nodes=26, max_depth=43, bootstrap=True, total=   1.0s\n",
      "[CV] n_estimators=51, max_leaf_nodes=26, max_depth=52, bootstrap=True \n",
      "[CV]  n_estimators=51, max_leaf_nodes=26, max_depth=52, bootstrap=True, total=   0.2s\n",
      "[CV] n_estimators=20, max_leaf_nodes=17, max_depth=33, bootstrap=True \n",
      "[CV]  n_estimators=175, max_leaf_nodes=26, max_depth=43, bootstrap=True, total=   0.8s\n",
      "[CV] n_estimators=20, max_leaf_nodes=17, max_depth=33, bootstrap=True \n",
      "[CV]  n_estimators=20, max_leaf_nodes=17, max_depth=33, bootstrap=True, total=   0.1s\n",
      "[CV] n_estimators=20, max_leaf_nodes=17, max_depth=33, bootstrap=True \n",
      "[CV]  n_estimators=51, max_leaf_nodes=26, max_depth=52, bootstrap=True, total=   0.3s\n",
      "[CV] n_estimators=51, max_leaf_nodes=11, max_depth=100, bootstrap=False \n",
      "[CV]  n_estimators=20, max_leaf_nodes=17, max_depth=33, bootstrap=True, total=   0.1s\n",
      "[CV] n_estimators=51, max_leaf_nodes=11, max_depth=100, bootstrap=False \n",
      "[CV]  n_estimators=175, max_leaf_nodes=26, max_depth=43, bootstrap=True, total=   0.9s\n",
      "[CV] n_estimators=51, max_leaf_nodes=11, max_depth=100, bootstrap=False \n",
      "[CV]  n_estimators=20, max_leaf_nodes=17, max_depth=33, bootstrap=True, total=   0.1s\n",
      "[CV] n_estimators=300, max_leaf_nodes=5, max_depth=71, bootstrap=True \n",
      "[CV]  n_estimators=51, max_leaf_nodes=11, max_depth=100, bootstrap=False, total=   0.2s\n",
      "[CV] n_estimators=300, max_leaf_nodes=5, max_depth=71, bootstrap=True \n",
      "[CV]  n_estimators=51, max_leaf_nodes=11, max_depth=100, bootstrap=False, total=   0.2s\n",
      "[CV] n_estimators=300, max_leaf_nodes=5, max_depth=71, bootstrap=True \n",
      "[CV]  n_estimators=51, max_leaf_nodes=11, max_depth=100, bootstrap=False, total=   0.2s\n",
      "[CV] n_estimators=237, max_leaf_nodes=2, max_depth=81, bootstrap=True \n",
      "[CV]  n_estimators=237, max_leaf_nodes=2, max_depth=81, bootstrap=True, total=   0.7s\n",
      "[CV] n_estimators=237, max_leaf_nodes=2, max_depth=81, bootstrap=True \n",
      "[CV]  n_estimators=300, max_leaf_nodes=5, max_depth=71, bootstrap=True, total=   1.0s\n",
      "[CV] n_estimators=237, max_leaf_nodes=2, max_depth=81, bootstrap=True \n",
      "[CV]  n_estimators=300, max_leaf_nodes=5, max_depth=71, bootstrap=True, total=   1.0s\n",
      "[CV]  n_estimators=300, max_leaf_nodes=5, max_depth=71, bootstrap=True, total=   1.0s\n",
      "[CV]  n_estimators=237, max_leaf_nodes=2, max_depth=81, bootstrap=True, total=   0.6s\n",
      "[CV]  n_estimators=237, max_leaf_nodes=2, max_depth=81, bootstrap=True, total=   0.5s\n"
     ]
    },
    {
     "name": "stderr",
     "output_type": "stream",
     "text": [
      "[Parallel(n_jobs=-1)]: Done 300 out of 300 | elapsed:   45.2s finished\n"
     ]
    },
    {
     "data": {
      "text/plain": [
       "RandomizedSearchCV(cv=3, error_score='raise',\n",
       "          estimator=RandomForestRegressor(bootstrap=True, criterion='mse', max_depth=None,\n",
       "           max_features='auto', max_leaf_nodes=None,\n",
       "           min_impurity_decrease=0.0, min_impurity_split=None,\n",
       "           min_samples_leaf=1, min_samples_split=2,\n",
       "           min_weight_fraction_leaf=0.0, n_estimators=10, n_jobs=1,\n",
       "           oob_score=False, random_state=None, verbose=0, warm_start=False),\n",
       "          fit_params=None, iid=True, n_iter=100, n_jobs=-1,\n",
       "          param_distributions={'n_estimators': [20, 51, 82, 113, 144, 175, 206, 237, 268, 300], 'max_depth': [5, 14, 24, 33, 43, 52, 62, 71, 81, 90, 100], 'max_leaf_nodes': range(2, 30, 3), 'bootstrap': [True, False]},\n",
       "          pre_dispatch='2*n_jobs', random_state=42, refit=True,\n",
       "          return_train_score=True, scoring=None, verbose=2)"
      ]
     },
     "execution_count": 433,
     "metadata": {},
     "output_type": "execute_result"
    }
   ],
   "source": [
    "from sklearn.model_selection import RandomizedSearchCV\n",
    "# Use the random grid to search for best hyperparameters\n",
    "# First create the base model to tune\n",
    "rf = RandomForestRegressor()\n",
    "# Random search of parameters, using 3 fold cross validation, \n",
    "# search across 100 different combinations, and use all available cores\n",
    "rf_random = RandomizedSearchCV(estimator = rf, param_distributions = random_grid, n_iter = 100, cv = 3, verbose=2, random_state=42, n_jobs = -1)\n",
    "# Fit the random search model\n",
    "rf_random.fit(X_train, y_train)\n"
   ]
  },
  {
   "cell_type": "code",
   "execution_count": 434,
   "metadata": {},
   "outputs": [
    {
     "name": "stdout",
     "output_type": "stream",
     "text": [
      "Model Performance\n",
      "Average Error: 0.5922 degrees.\n",
      "Accuracy = 60.08%.\n",
      "MAPE = 39.92%.\n",
      "Model Performance\n",
      "Average Error: 0.5923 degrees.\n",
      "Accuracy = 59.94%.\n",
      "MAPE = 40.06%.\n",
      "Improvement of -0.24%.\n"
     ]
    }
   ],
   "source": [
    "def evaluate(model, test_features, test_labels):\n",
    "    predictions = model.predict(test_features)\n",
    "    errors = abs(predictions - test_labels)\n",
    "    mape = 100 * np.mean(errors / test_labels)\n",
    "    accuracy = 100 - mape\n",
    "    print('Model Performance')\n",
    "    print('Average Error: {:0.4f} degrees.'.format(np.mean(errors)))\n",
    "    print('Accuracy = {:0.2f}%.'.format(accuracy))\n",
    "    print('MAPE = {:0.2f}%.'.format(mape))\n",
    "    \n",
    "    return accuracy\n",
    "base_model = RandomForestRegressor(max_depth=6, n_estimators=30, n_jobs=-1, max_leaf_nodes=30, random_state=99)\n",
    "# base_model = RandomForestRegressor(n_estimators = 10, random_state = 42)\n",
    "base_model.fit(X_train, y_train)\n",
    "base_accuracy = evaluate(base_model, X_test, y_test)\n",
    "best_random = rf_random.best_estimator_\n",
    "random_accuracy = evaluate(best_random, X_test, y_test)\n",
    "print('Improvement of {:0.2f}%.'.format( 100 * (random_accuracy - base_accuracy) / base_accuracy))"
   ]
  },
  {
   "cell_type": "code",
   "execution_count": 435,
   "metadata": {},
   "outputs": [
    {
     "data": {
      "text/plain": [
       "[<matplotlib.lines.Line2D at 0x10ff5eb38>]"
      ]
     },
     "execution_count": 435,
     "metadata": {},
     "output_type": "execute_result"
    },
    {
     "data": {
      "image/png": "[encoded data removed]",
      "text/plain": [
       "<matplotlib.figure.Figure at 0x11397a128>"
      ]
     },
     "metadata": {},
     "output_type": "display_data"
    }
   ],
   "source": [
    "fig = plt.figure(figsize=(12,8))\n",
    "ax = fig.add_subplot(111)\n",
    "\n",
    "ax.scatter(y_test, base_model.predict(X_test), color='steelblue', alpha=0.3)\n",
    "# ax.scatter(y_test, predicted, color='limegreen', alpha=0.3)\n",
    "# ax.scatter(y_test, p_OS, color='steelblue', alpha=0.3)\n",
    "\n",
    "ax.plot([0,10], [0,10], 'r')\n"
   ]
  },
  {
   "cell_type": "code",
   "execution_count": 277,
   "metadata": {},
   "outputs": [],
   "source": [
    "from sklearn import linear_model"
   ]
  },
  {
   "cell_type": "code",
   "execution_count": 436,
   "metadata": {},
   "outputs": [
    {
     "name": "stdout",
     "output_type": "stream",
     "text": [
      "The R-squared we found for IS OLS is: -5.215061661705458\n",
      "The R-squared we found for OS OLS is: -4.7597978010768545\n"
     ]
    }
   ],
   "source": [
    "#OLS\n",
    "# Create linear regression object\n",
    "model = linear_model.LinearRegression(fit_intercept=False)\n",
    "\n",
    "# Train the model using the training set\n",
    "model.fit(X=X_train, y=y_train)\n",
    "\n",
    "# Make predictions using the testing set\n",
    "predicted = model.predict(X_test)\n",
    "\n",
    "# Find R^2 for InSample (train sample)\n",
    "R_2_IS = model.score(X=X_train, y=y_train)\n",
    "\n",
    "# Find R^2 for OutSample (test sample)\n",
    "R_2_OS = model.score(X=X_test, y=y_test)\n",
    "\n",
    "# A worse model will give negative R^2\n",
    "print(\"The R-squared we found for IS OLS is: {0}\".format(R_2_IS))\n",
    "print(\"The R-squared we found for OS OLS is: {0}\".format(R_2_OS))"
   ]
  },
  {
   "cell_type": "code",
   "execution_count": 437,
   "metadata": {},
   "outputs": [
    {
     "name": "stdout",
     "output_type": "stream",
     "text": [
      "The R-squared we found for IS Lasso is: 0.0\n",
      "The R-squared we found for OS Lasso is: -0.0023543674846033813\n"
     ]
    }
   ],
   "source": [
    "#For Lasso\n",
    "lasso_alpha = 300\n",
    "\n",
    "# Create Lasso regression object\n",
    "Lasso=linear_model.Lasso(fit_intercept=True, alpha=lasso_alpha)\n",
    "\n",
    "# Train the model using the training set\n",
    "Lasso.fit(X_train, y_train)\n",
    "\n",
    "# Prediction on the InSample data (train) \n",
    "p_IS=Lasso.predict(X_train)\n",
    "\n",
    "# InSample R^2: \n",
    "print(\"The R-squared we found for IS Lasso is: {0}\".format(Lasso.score(X=X_train, y=y_train)))\n",
    "\n",
    "# Prediction on the OutSample data (test) \n",
    "p_OS=Lasso.predict(X_test)\n",
    "\n",
    "# OutSample R^2: \n",
    "print(\"The R-squared we found for OS Lasso is: {0}\".format(Lasso.score(X=X_test, y=y_test)))"
   ]
  },
  {
   "cell_type": "code",
   "execution_count": 438,
   "metadata": {},
   "outputs": [
    {
     "name": "stdout",
     "output_type": "stream",
     "text": [
      "The R-squared we found for IS Ridge is: 0.22953634974026582\n",
      "The R-squared we found for OS Ridge is: 0.18771401385761854\n"
     ]
    }
   ],
   "source": [
    "# For Ridge\n",
    "ridge_alpha = 1\n",
    "\n",
    "# Create Ridge regression object\n",
    "Ridge=linear_model.Ridge(fit_intercept=True,alpha=ridge_alpha) \n",
    "\n",
    "# Train the model using the training set\n",
    "Ridge.fit(X_train, y_train)\n",
    "\n",
    "# Prediction on the InSample data (train) \n",
    "p_IS=Ridge.predict(X_train)\n",
    "\n",
    "# InSample R^2: \n",
    "print(\"The R-squared we found for IS Ridge is: {0}\".format(Ridge.score(X_train, y_train)))\n",
    "    \n",
    "# Prediction on the OutSample data (test) \n",
    "p_OS=Ridge.predict(X_test)\n",
    "\n",
    "# OutSample R^2: \n",
    "print(\"The R-squared we found for OS Ridge is: {0}\".format(Ridge.score(X_test,y_test)))"
   ]
  },
  {
   "cell_type": "code",
   "execution_count": 308,
   "metadata": {},
   "outputs": [],
   "source": [
    "train_x = X_train\n",
    "train_y = y_train"
   ]
  },
  {
   "cell_type": "code",
   "execution_count": 439,
   "metadata": {},
   "outputs": [
    {
     "data": {
      "text/plain": [
       "6.320327092885611"
      ]
     },
     "execution_count": 439,
     "metadata": {},
     "output_type": "execute_result"
    }
   ],
   "source": [
    "mean_squared_error(y_test, predicted)"
   ]
  },
  {
   "cell_type": "code",
   "execution_count": 440,
   "metadata": {},
   "outputs": [
    {
     "data": {
      "text/plain": [
       "(-2.3297662486278887, 0.9447308186144597)"
      ]
     },
     "execution_count": 440,
     "metadata": {},
     "output_type": "execute_result"
    }
   ],
   "source": [
    "mean(list(predicted - y_test)), std(list(predicted - y_test))"
   ]
  },
  {
   "cell_type": "code",
   "execution_count": null,
   "metadata": {},
   "outputs": [],
   "source": [
    "# from sklearn.model_selection import GridSearchCV\n",
    "# param_grid ={'alpha':np.logspace(-4, 0, 200)}\n",
    "\n",
    "# OS=[]\n",
    "# for i in range(10):\n",
    "#     X_train, X_test, y_train, y_test = train_test_split(X, y, test_size = 0.4, random_state = i)\n",
    "#     rid=linear_model.Ridge()\n",
    "#     gr=GridSearchCV(rid,param_grid=param_grid)\n",
    "#     rs=gr.fit(X_train,y_train)\n",
    "#     print rs.best_params_\n",
    "#     OS.append(1-((rs.predict(X_test)-y_test)**2).mean()/y_test.var())\n",
    "# print np.mean(OS)"
   ]
  },
  {
   "cell_type": "code",
   "execution_count": null,
   "metadata": {},
   "outputs": [],
   "source": []
  },
  {
   "cell_type": "code",
   "execution_count": 420,
   "metadata": {},
   "outputs": [
    {
     "data": {
      "text/plain": [
       "MLPRegressor(activation='relu', alpha=0.01, batch_size='auto', beta_1=0.9,\n",
       "       beta_2=0.999, early_stopping=False, epsilon=1e-08,\n",
       "       hidden_layer_sizes=(100,), learning_rate='adaptive',\n",
       "       learning_rate_init=0.05, max_iter=1000, momentum=0.9,\n",
       "       nesterovs_momentum=True, power_t=0.5, random_state=2018,\n",
       "       shuffle=True, solver='lbfgs', tol=0.0001, validation_fraction=0.1,\n",
       "       verbose=False, warm_start=False)"
      ]
     },
     "execution_count": 420,
     "metadata": {},
     "output_type": "execute_result"
    }
   ],
   "source": [
    "nn = MLPRegressor(hidden_layer_sizes=(100,),\n",
    "                    activation='relu',\n",
    "                    solver='lbfgs',\n",
    "                    learning_rate='adaptive',\n",
    "                    max_iter=1000,\n",
    "                    learning_rate_init=0.05,\n",
    "                    alpha=0.01,\n",
    "                    random_state=2018)\n",
    "nn.fit(X_train, y_train)"
   ]
  },
  {
   "cell_type": "code",
   "execution_count": 421,
   "metadata": {},
   "outputs": [
    {
     "data": {
      "text/plain": [
       "0.5131003335138118"
      ]
     },
     "execution_count": 421,
     "metadata": {},
     "output_type": "execute_result"
    }
   ],
   "source": [
    "nn.score(X_train, y_train)"
   ]
  },
  {
   "cell_type": "code",
   "execution_count": 422,
   "metadata": {},
   "outputs": [],
   "source": [
    "nn_predicted = nn.predict(X_test)"
   ]
  },
  {
   "cell_type": "code",
   "execution_count": 423,
   "metadata": {},
   "outputs": [
    {
     "data": {
      "text/plain": [
       "[<matplotlib.lines.Line2D at 0x110af74e0>]"
      ]
     },
     "execution_count": 423,
     "metadata": {},
     "output_type": "execute_result"
    },
    {
     "data": {
      "image/png": "[encoded data removed]",
      "text/plain": [
       "<matplotlib.figure.Figure at 0x11368b668>"
      ]
     },
     "metadata": {},
     "output_type": "display_data"
    }
   ],
   "source": [
    "fig = plt.figure(figsize=(12,8))\n",
    "ax = fig.add_subplot(111)\n",
    "\n",
    "ax.scatter(y_test, nn_predicted, color='steelblue', alpha=0.3)\n",
    "ax.plot([0,10], [0,10], 'indianred')"
   ]
  },
  {
   "cell_type": "code",
   "execution_count": 261,
   "metadata": {},
   "outputs": [
    {
     "data": {
      "text/html": [
       "<div>\n",
       "<style scoped>\n",
       "    .dataframe tbody tr th:only-of-type {\n",
       "        vertical-align: middle;\n",
       "    }\n",
       "\n",
       "    .dataframe tbody tr th {\n",
       "        vertical-align: top;\n",
       "    }\n",
       "\n",
       "    .dataframe thead th {\n",
       "        text-align: right;\n",
       "    }\n",
       "</style>\n",
       "<table border=\"1\" class=\"dataframe\">\n",
       "  <thead>\n",
       "    <tr style=\"text-align: right;\">\n",
       "      <th></th>\n",
       "      <th>segment</th>\n",
       "      <th>buslane</th>\n",
       "      <th>dayofweek</th>\n",
       "      <th>holiday</th>\n",
       "      <th>halfhourly</th>\n",
       "      <th>timeinseconds</th>\n",
       "      <th>intersections</th>\n",
       "      <th>busstops</th>\n",
       "    </tr>\n",
       "    <tr>\n",
       "      <th>NewVehicleRef</th>\n",
       "      <th></th>\n",
       "      <th></th>\n",
       "      <th></th>\n",
       "      <th></th>\n",
       "      <th></th>\n",
       "      <th></th>\n",
       "      <th></th>\n",
       "      <th></th>\n",
       "    </tr>\n",
       "  </thead>\n",
       "  <tbody>\n",
       "    <tr>\n",
       "      <th>MTA NYCT_3828_1</th>\n",
       "      <td>1</td>\n",
       "      <td>False</td>\n",
       "      <td>6</td>\n",
       "      <td>1</td>\n",
       "      <td>3</td>\n",
       "      <td>63126</td>\n",
       "      <td>11</td>\n",
       "      <td>4</td>\n",
       "    </tr>\n",
       "    <tr>\n",
       "      <th>MTA NYCT_3828_1</th>\n",
       "      <td>1</td>\n",
       "      <td>True</td>\n",
       "      <td>5</td>\n",
       "      <td>0</td>\n",
       "      <td>5</td>\n",
       "      <td>67120</td>\n",
       "      <td>11</td>\n",
       "      <td>4</td>\n",
       "    </tr>\n",
       "    <tr>\n",
       "      <th>MTA NYCT_3828_1</th>\n",
       "      <td>1</td>\n",
       "      <td>True</td>\n",
       "      <td>2</td>\n",
       "      <td>0</td>\n",
       "      <td>2</td>\n",
       "      <td>61332</td>\n",
       "      <td>11</td>\n",
       "      <td>4</td>\n",
       "    </tr>\n",
       "    <tr>\n",
       "      <th>MTA NYCT_3828_1</th>\n",
       "      <td>2</td>\n",
       "      <td>False</td>\n",
       "      <td>6</td>\n",
       "      <td>1</td>\n",
       "      <td>3</td>\n",
       "      <td>63476</td>\n",
       "      <td>15</td>\n",
       "      <td>5</td>\n",
       "    </tr>\n",
       "    <tr>\n",
       "      <th>MTA NYCT_3828_1</th>\n",
       "      <td>2</td>\n",
       "      <td>True</td>\n",
       "      <td>5</td>\n",
       "      <td>0</td>\n",
       "      <td>5</td>\n",
       "      <td>67340</td>\n",
       "      <td>15</td>\n",
       "      <td>5</td>\n",
       "    </tr>\n",
       "  </tbody>\n",
       "</table>\n",
       "</div>"
      ],
      "text/plain": [
       "                 segment  buslane  dayofweek  holiday  halfhourly  \\\n",
       "NewVehicleRef                                                       \n",
       "MTA NYCT_3828_1        1    False          6        1           3   \n",
       "MTA NYCT_3828_1        1     True          5        0           5   \n",
       "MTA NYCT_3828_1        1     True          2        0           2   \n",
       "MTA NYCT_3828_1        2    False          6        1           3   \n",
       "MTA NYCT_3828_1        2     True          5        0           5   \n",
       "\n",
       "                 timeinseconds  intersections  busstops  \n",
       "NewVehicleRef                                            \n",
       "MTA NYCT_3828_1          63126             11         4  \n",
       "MTA NYCT_3828_1          67120             11         4  \n",
       "MTA NYCT_3828_1          61332             11         4  \n",
       "MTA NYCT_3828_1          63476             15         5  \n",
       "MTA NYCT_3828_1          67340             15         5  "
      ]
     },
     "execution_count": 261,
     "metadata": {},
     "output_type": "execute_result"
    }
   ],
   "source": [
    "X.head()"
   ]
  },
  {
   "cell_type": "code",
   "execution_count": null,
   "metadata": {},
   "outputs": [],
   "source": []
  },
  {
   "cell_type": "code",
   "execution_count": null,
   "metadata": {},
   "outputs": [],
   "source": []
  },
  {
   "cell_type": "code",
   "execution_count": null,
   "metadata": {},
   "outputs": [],
   "source": []
  },
  {
   "cell_type": "code",
   "execution_count": null,
   "metadata": {},
   "outputs": [],
   "source": []
  },
  {
   "cell_type": "code",
   "execution_count": 55,
   "metadata": {},
   "outputs": [
    {
     "ename": "KeyboardInterrupt",
     "evalue": "",
     "output_type": "error",
     "traceback": [
      "\u001b[0;31m---------------------------------------------------------------------------\u001b[0m",
      "\u001b[0;31mKeyboardInterrupt\u001b[0m                         Traceback (most recent call last)",
      "\u001b[0;32m<ipython-input-55-5e645aadabe4>\u001b[0m in \u001b[0;36m<module>\u001b[0;34m()\u001b[0m\n\u001b[1;32m      5\u001b[0m \u001b[0mrf\u001b[0m \u001b[0;34m=\u001b[0m \u001b[0mRandomForestRegressor\u001b[0m\u001b[0;34m(\u001b[0m\u001b[0mn_jobs\u001b[0m\u001b[0;34m=\u001b[0m\u001b[0;34m-\u001b[0m\u001b[0;36m1\u001b[0m\u001b[0;34m)\u001b[0m\u001b[0;34m\u001b[0m\u001b[0m\n\u001b[1;32m      6\u001b[0m \u001b[0mgs\u001b[0m \u001b[0;34m=\u001b[0m \u001b[0mGridSearchCV\u001b[0m\u001b[0;34m(\u001b[0m\u001b[0mrf\u001b[0m\u001b[0;34m,\u001b[0m\u001b[0mparam_grid\u001b[0m\u001b[0;34m=\u001b[0m\u001b[0mparam_grid\u001b[0m\u001b[0;34m,\u001b[0m\u001b[0mscoring\u001b[0m\u001b[0;34m=\u001b[0m\u001b[0;34m'neg_mean_squared_error'\u001b[0m\u001b[0;34m)\u001b[0m\u001b[0;34m\u001b[0m\u001b[0m\n\u001b[0;32m----> 7\u001b[0;31m \u001b[0mrs\u001b[0m \u001b[0;34m=\u001b[0m \u001b[0mgs\u001b[0m\u001b[0;34m.\u001b[0m\u001b[0mfit\u001b[0m\u001b[0;34m(\u001b[0m\u001b[0mX_train\u001b[0m\u001b[0;34m,\u001b[0m\u001b[0my_train\u001b[0m\u001b[0;34m)\u001b[0m\u001b[0;34m\u001b[0m\u001b[0m\n\u001b[0m\u001b[1;32m      8\u001b[0m \u001b[0mprint\u001b[0m\u001b[0;34m(\u001b[0m\u001b[0mrs\u001b[0m\u001b[0;34m.\u001b[0m\u001b[0mbest_params_\u001b[0m\u001b[0;34m)\u001b[0m\u001b[0;34m\u001b[0m\u001b[0m\n",
      "\u001b[0;32m~/anaconda/lib/python3.6/site-packages/sklearn/model_selection/_search.py\u001b[0m in \u001b[0;36mfit\u001b[0;34m(self, X, y, groups, **fit_params)\u001b[0m\n\u001b[1;32m    636\u001b[0m                                   error_score=self.error_score)\n\u001b[1;32m    637\u001b[0m           for parameters, (train, test) in product(candidate_params,\n\u001b[0;32m--> 638\u001b[0;31m                                                    cv.split(X, y, groups)))\n\u001b[0m\u001b[1;32m    639\u001b[0m \u001b[0;34m\u001b[0m\u001b[0m\n\u001b[1;32m    640\u001b[0m         \u001b[0;31m# if one choose to see train score, \"out\" will contain train score info\u001b[0m\u001b[0;34m\u001b[0m\u001b[0;34m\u001b[0m\u001b[0m\n",
      "\u001b[0;32m~/anaconda/lib/python3.6/site-packages/sklearn/externals/joblib/parallel.py\u001b[0m in \u001b[0;36m__call__\u001b[0;34m(self, iterable)\u001b[0m\n\u001b[1;32m    777\u001b[0m             \u001b[0;31m# was dispatched. In particular this covers the edge\u001b[0m\u001b[0;34m\u001b[0m\u001b[0;34m\u001b[0m\u001b[0m\n\u001b[1;32m    778\u001b[0m             \u001b[0;31m# case of Parallel used with an exhausted iterator.\u001b[0m\u001b[0;34m\u001b[0m\u001b[0;34m\u001b[0m\u001b[0m\n\u001b[0;32m--> 779\u001b[0;31m             \u001b[0;32mwhile\u001b[0m \u001b[0mself\u001b[0m\u001b[0;34m.\u001b[0m\u001b[0mdispatch_one_batch\u001b[0m\u001b[0;34m(\u001b[0m\u001b[0miterator\u001b[0m\u001b[0;34m)\u001b[0m\u001b[0;34m:\u001b[0m\u001b[0;34m\u001b[0m\u001b[0m\n\u001b[0m\u001b[1;32m    780\u001b[0m                 \u001b[0mself\u001b[0m\u001b[0;34m.\u001b[0m\u001b[0m_iterating\u001b[0m \u001b[0;34m=\u001b[0m \u001b[0;32mTrue\u001b[0m\u001b[0;34m\u001b[0m\u001b[0m\n\u001b[1;32m    781\u001b[0m             \u001b[0;32melse\u001b[0m\u001b[0;34m:\u001b[0m\u001b[0;34m\u001b[0m\u001b[0m\n",
      "\u001b[0;32m~/anaconda/lib/python3.6/site-packages/sklearn/externals/joblib/parallel.py\u001b[0m in \u001b[0;36mdispatch_one_batch\u001b[0;34m(self, iterator)\u001b[0m\n\u001b[1;32m    623\u001b[0m                 \u001b[0;32mreturn\u001b[0m \u001b[0;32mFalse\u001b[0m\u001b[0;34m\u001b[0m\u001b[0m\n\u001b[1;32m    624\u001b[0m             \u001b[0;32melse\u001b[0m\u001b[0;34m:\u001b[0m\u001b[0;34m\u001b[0m\u001b[0m\n\u001b[0;32m--> 625\u001b[0;31m                 \u001b[0mself\u001b[0m\u001b[0;34m.\u001b[0m\u001b[0m_dispatch\u001b[0m\u001b[0;34m(\u001b[0m\u001b[0mtasks\u001b[0m\u001b[0;34m)\u001b[0m\u001b[0;34m\u001b[0m\u001b[0m\n\u001b[0m\u001b[1;32m    626\u001b[0m                 \u001b[0;32mreturn\u001b[0m \u001b[0;32mTrue\u001b[0m\u001b[0;34m\u001b[0m\u001b[0m\n\u001b[1;32m    627\u001b[0m \u001b[0;34m\u001b[0m\u001b[0m\n",
      "\u001b[0;32m~/anaconda/lib/python3.6/site-packages/sklearn/externals/joblib/parallel.py\u001b[0m in \u001b[0;36m_dispatch\u001b[0;34m(self, batch)\u001b[0m\n\u001b[1;32m    586\u001b[0m         \u001b[0mdispatch_timestamp\u001b[0m \u001b[0;34m=\u001b[0m \u001b[0mtime\u001b[0m\u001b[0;34m.\u001b[0m\u001b[0mtime\u001b[0m\u001b[0;34m(\u001b[0m\u001b[0;34m)\u001b[0m\u001b[0;34m\u001b[0m\u001b[0m\n\u001b[1;32m    587\u001b[0m         \u001b[0mcb\u001b[0m \u001b[0;34m=\u001b[0m \u001b[0mBatchCompletionCallBack\u001b[0m\u001b[0;34m(\u001b[0m\u001b[0mdispatch_timestamp\u001b[0m\u001b[0;34m,\u001b[0m \u001b[0mlen\u001b[0m\u001b[0;34m(\u001b[0m\u001b[0mbatch\u001b[0m\u001b[0;34m)\u001b[0m\u001b[0;34m,\u001b[0m \u001b[0mself\u001b[0m\u001b[0;34m)\u001b[0m\u001b[0;34m\u001b[0m\u001b[0m\n\u001b[0;32m--> 588\u001b[0;31m         \u001b[0mjob\u001b[0m \u001b[0;34m=\u001b[0m \u001b[0mself\u001b[0m\u001b[0;34m.\u001b[0m\u001b[0m_backend\u001b[0m\u001b[0;34m.\u001b[0m\u001b[0mapply_async\u001b[0m\u001b[0;34m(\u001b[0m\u001b[0mbatch\u001b[0m\u001b[0;34m,\u001b[0m \u001b[0mcallback\u001b[0m\u001b[0;34m=\u001b[0m\u001b[0mcb\u001b[0m\u001b[0;34m)\u001b[0m\u001b[0;34m\u001b[0m\u001b[0m\n\u001b[0m\u001b[1;32m    589\u001b[0m         \u001b[0mself\u001b[0m\u001b[0;34m.\u001b[0m\u001b[0m_jobs\u001b[0m\u001b[0;34m.\u001b[0m\u001b[0mappend\u001b[0m\u001b[0;34m(\u001b[0m\u001b[0mjob\u001b[0m\u001b[0;34m)\u001b[0m\u001b[0;34m\u001b[0m\u001b[0m\n\u001b[1;32m    590\u001b[0m \u001b[0;34m\u001b[0m\u001b[0m\n",
      "\u001b[0;32m~/anaconda/lib/python3.6/site-packages/sklearn/externals/joblib/_parallel_backends.py\u001b[0m in \u001b[0;36mapply_async\u001b[0;34m(self, func, callback)\u001b[0m\n\u001b[1;32m    109\u001b[0m     \u001b[0;32mdef\u001b[0m \u001b[0mapply_async\u001b[0m\u001b[0;34m(\u001b[0m\u001b[0mself\u001b[0m\u001b[0;34m,\u001b[0m \u001b[0mfunc\u001b[0m\u001b[0;34m,\u001b[0m \u001b[0mcallback\u001b[0m\u001b[0;34m=\u001b[0m\u001b[0;32mNone\u001b[0m\u001b[0;34m)\u001b[0m\u001b[0;34m:\u001b[0m\u001b[0;34m\u001b[0m\u001b[0m\n\u001b[1;32m    110\u001b[0m         \u001b[0;34m\"\"\"Schedule a func to be run\"\"\"\u001b[0m\u001b[0;34m\u001b[0m\u001b[0m\n\u001b[0;32m--> 111\u001b[0;31m         \u001b[0mresult\u001b[0m \u001b[0;34m=\u001b[0m \u001b[0mImmediateResult\u001b[0m\u001b[0;34m(\u001b[0m\u001b[0mfunc\u001b[0m\u001b[0;34m)\u001b[0m\u001b[0;34m\u001b[0m\u001b[0m\n\u001b[0m\u001b[1;32m    112\u001b[0m         \u001b[0;32mif\u001b[0m \u001b[0mcallback\u001b[0m\u001b[0;34m:\u001b[0m\u001b[0;34m\u001b[0m\u001b[0m\n\u001b[1;32m    113\u001b[0m             \u001b[0mcallback\u001b[0m\u001b[0;34m(\u001b[0m\u001b[0mresult\u001b[0m\u001b[0;34m)\u001b[0m\u001b[0;34m\u001b[0m\u001b[0m\n",
      "\u001b[0;32m~/anaconda/lib/python3.6/site-packages/sklearn/externals/joblib/_parallel_backends.py\u001b[0m in \u001b[0;36m__init__\u001b[0;34m(self, batch)\u001b[0m\n\u001b[1;32m    330\u001b[0m         \u001b[0;31m# Don't delay the application, to avoid keeping the input\u001b[0m\u001b[0;34m\u001b[0m\u001b[0;34m\u001b[0m\u001b[0m\n\u001b[1;32m    331\u001b[0m         \u001b[0;31m# arguments in memory\u001b[0m\u001b[0;34m\u001b[0m\u001b[0;34m\u001b[0m\u001b[0m\n\u001b[0;32m--> 332\u001b[0;31m         \u001b[0mself\u001b[0m\u001b[0;34m.\u001b[0m\u001b[0mresults\u001b[0m \u001b[0;34m=\u001b[0m \u001b[0mbatch\u001b[0m\u001b[0;34m(\u001b[0m\u001b[0;34m)\u001b[0m\u001b[0;34m\u001b[0m\u001b[0m\n\u001b[0m\u001b[1;32m    333\u001b[0m \u001b[0;34m\u001b[0m\u001b[0m\n\u001b[1;32m    334\u001b[0m     \u001b[0;32mdef\u001b[0m \u001b[0mget\u001b[0m\u001b[0;34m(\u001b[0m\u001b[0mself\u001b[0m\u001b[0;34m)\u001b[0m\u001b[0;34m:\u001b[0m\u001b[0;34m\u001b[0m\u001b[0m\n",
      "\u001b[0;32m~/anaconda/lib/python3.6/site-packages/sklearn/externals/joblib/parallel.py\u001b[0m in \u001b[0;36m__call__\u001b[0;34m(self)\u001b[0m\n\u001b[1;32m    129\u001b[0m \u001b[0;34m\u001b[0m\u001b[0m\n\u001b[1;32m    130\u001b[0m     \u001b[0;32mdef\u001b[0m \u001b[0m__call__\u001b[0m\u001b[0;34m(\u001b[0m\u001b[0mself\u001b[0m\u001b[0;34m)\u001b[0m\u001b[0;34m:\u001b[0m\u001b[0;34m\u001b[0m\u001b[0m\n\u001b[0;32m--> 131\u001b[0;31m         \u001b[0;32mreturn\u001b[0m \u001b[0;34m[\u001b[0m\u001b[0mfunc\u001b[0m\u001b[0;34m(\u001b[0m\u001b[0;34m*\u001b[0m\u001b[0margs\u001b[0m\u001b[0;34m,\u001b[0m \u001b[0;34m**\u001b[0m\u001b[0mkwargs\u001b[0m\u001b[0;34m)\u001b[0m \u001b[0;32mfor\u001b[0m \u001b[0mfunc\u001b[0m\u001b[0;34m,\u001b[0m \u001b[0margs\u001b[0m\u001b[0;34m,\u001b[0m \u001b[0mkwargs\u001b[0m \u001b[0;32min\u001b[0m \u001b[0mself\u001b[0m\u001b[0;34m.\u001b[0m\u001b[0mitems\u001b[0m\u001b[0;34m]\u001b[0m\u001b[0;34m\u001b[0m\u001b[0m\n\u001b[0m\u001b[1;32m    132\u001b[0m \u001b[0;34m\u001b[0m\u001b[0m\n\u001b[1;32m    133\u001b[0m     \u001b[0;32mdef\u001b[0m \u001b[0m__len__\u001b[0m\u001b[0;34m(\u001b[0m\u001b[0mself\u001b[0m\u001b[0;34m)\u001b[0m\u001b[0;34m:\u001b[0m\u001b[0;34m\u001b[0m\u001b[0m\n",
      "\u001b[0;32m~/anaconda/lib/python3.6/site-packages/sklearn/externals/joblib/parallel.py\u001b[0m in \u001b[0;36m<listcomp>\u001b[0;34m(.0)\u001b[0m\n\u001b[1;32m    129\u001b[0m \u001b[0;34m\u001b[0m\u001b[0m\n\u001b[1;32m    130\u001b[0m     \u001b[0;32mdef\u001b[0m \u001b[0m__call__\u001b[0m\u001b[0;34m(\u001b[0m\u001b[0mself\u001b[0m\u001b[0;34m)\u001b[0m\u001b[0;34m:\u001b[0m\u001b[0;34m\u001b[0m\u001b[0m\n\u001b[0;32m--> 131\u001b[0;31m         \u001b[0;32mreturn\u001b[0m \u001b[0;34m[\u001b[0m\u001b[0mfunc\u001b[0m\u001b[0;34m(\u001b[0m\u001b[0;34m*\u001b[0m\u001b[0margs\u001b[0m\u001b[0;34m,\u001b[0m \u001b[0;34m**\u001b[0m\u001b[0mkwargs\u001b[0m\u001b[0;34m)\u001b[0m \u001b[0;32mfor\u001b[0m \u001b[0mfunc\u001b[0m\u001b[0;34m,\u001b[0m \u001b[0margs\u001b[0m\u001b[0;34m,\u001b[0m \u001b[0mkwargs\u001b[0m \u001b[0;32min\u001b[0m \u001b[0mself\u001b[0m\u001b[0;34m.\u001b[0m\u001b[0mitems\u001b[0m\u001b[0;34m]\u001b[0m\u001b[0;34m\u001b[0m\u001b[0m\n\u001b[0m\u001b[1;32m    132\u001b[0m \u001b[0;34m\u001b[0m\u001b[0m\n\u001b[1;32m    133\u001b[0m     \u001b[0;32mdef\u001b[0m \u001b[0m__len__\u001b[0m\u001b[0;34m(\u001b[0m\u001b[0mself\u001b[0m\u001b[0;34m)\u001b[0m\u001b[0;34m:\u001b[0m\u001b[0;34m\u001b[0m\u001b[0m\n",
      "\u001b[0;32m~/anaconda/lib/python3.6/site-packages/sklearn/model_selection/_validation.py\u001b[0m in \u001b[0;36m_fit_and_score\u001b[0;34m(estimator, X, y, scorer, train, test, verbose, parameters, fit_params, return_train_score, return_parameters, return_n_test_samples, return_times, error_score)\u001b[0m\n\u001b[1;32m    435\u001b[0m             \u001b[0mestimator\u001b[0m\u001b[0;34m.\u001b[0m\u001b[0mfit\u001b[0m\u001b[0;34m(\u001b[0m\u001b[0mX_train\u001b[0m\u001b[0;34m,\u001b[0m \u001b[0;34m**\u001b[0m\u001b[0mfit_params\u001b[0m\u001b[0;34m)\u001b[0m\u001b[0;34m\u001b[0m\u001b[0m\n\u001b[1;32m    436\u001b[0m         \u001b[0;32melse\u001b[0m\u001b[0;34m:\u001b[0m\u001b[0;34m\u001b[0m\u001b[0m\n\u001b[0;32m--> 437\u001b[0;31m             \u001b[0mestimator\u001b[0m\u001b[0;34m.\u001b[0m\u001b[0mfit\u001b[0m\u001b[0;34m(\u001b[0m\u001b[0mX_train\u001b[0m\u001b[0;34m,\u001b[0m \u001b[0my_train\u001b[0m\u001b[0;34m,\u001b[0m \u001b[0;34m**\u001b[0m\u001b[0mfit_params\u001b[0m\u001b[0;34m)\u001b[0m\u001b[0;34m\u001b[0m\u001b[0m\n\u001b[0m\u001b[1;32m    438\u001b[0m \u001b[0;34m\u001b[0m\u001b[0m\n\u001b[1;32m    439\u001b[0m     \u001b[0;32mexcept\u001b[0m \u001b[0mException\u001b[0m \u001b[0;32mas\u001b[0m \u001b[0me\u001b[0m\u001b[0;34m:\u001b[0m\u001b[0;34m\u001b[0m\u001b[0m\n",
      "\u001b[0;32m~/anaconda/lib/python3.6/site-packages/sklearn/ensemble/forest.py\u001b[0m in \u001b[0;36mfit\u001b[0;34m(self, X, y, sample_weight)\u001b[0m\n\u001b[1;32m    325\u001b[0m                     \u001b[0mt\u001b[0m\u001b[0;34m,\u001b[0m \u001b[0mself\u001b[0m\u001b[0;34m,\u001b[0m \u001b[0mX\u001b[0m\u001b[0;34m,\u001b[0m \u001b[0my\u001b[0m\u001b[0;34m,\u001b[0m \u001b[0msample_weight\u001b[0m\u001b[0;34m,\u001b[0m \u001b[0mi\u001b[0m\u001b[0;34m,\u001b[0m \u001b[0mlen\u001b[0m\u001b[0;34m(\u001b[0m\u001b[0mtrees\u001b[0m\u001b[0;34m)\u001b[0m\u001b[0;34m,\u001b[0m\u001b[0;34m\u001b[0m\u001b[0m\n\u001b[1;32m    326\u001b[0m                     verbose=self.verbose, class_weight=self.class_weight)\n\u001b[0;32m--> 327\u001b[0;31m                 for i, t in enumerate(trees))\n\u001b[0m\u001b[1;32m    328\u001b[0m \u001b[0;34m\u001b[0m\u001b[0m\n\u001b[1;32m    329\u001b[0m             \u001b[0;31m# Collect newly grown trees\u001b[0m\u001b[0;34m\u001b[0m\u001b[0;34m\u001b[0m\u001b[0m\n",
      "\u001b[0;32m~/anaconda/lib/python3.6/site-packages/sklearn/externals/joblib/parallel.py\u001b[0m in \u001b[0;36m__call__\u001b[0;34m(self, iterable)\u001b[0m\n\u001b[1;32m    787\u001b[0m                 \u001b[0;31m# consumption.\u001b[0m\u001b[0;34m\u001b[0m\u001b[0;34m\u001b[0m\u001b[0m\n\u001b[1;32m    788\u001b[0m                 \u001b[0mself\u001b[0m\u001b[0;34m.\u001b[0m\u001b[0m_iterating\u001b[0m \u001b[0;34m=\u001b[0m \u001b[0;32mFalse\u001b[0m\u001b[0;34m\u001b[0m\u001b[0m\n\u001b[0;32m--> 789\u001b[0;31m             \u001b[0mself\u001b[0m\u001b[0;34m.\u001b[0m\u001b[0mretrieve\u001b[0m\u001b[0;34m(\u001b[0m\u001b[0;34m)\u001b[0m\u001b[0;34m\u001b[0m\u001b[0m\n\u001b[0m\u001b[1;32m    790\u001b[0m             \u001b[0;31m# Make sure that we get a last message telling us we are done\u001b[0m\u001b[0;34m\u001b[0m\u001b[0;34m\u001b[0m\u001b[0m\n\u001b[1;32m    791\u001b[0m             \u001b[0melapsed_time\u001b[0m \u001b[0;34m=\u001b[0m \u001b[0mtime\u001b[0m\u001b[0;34m.\u001b[0m\u001b[0mtime\u001b[0m\u001b[0;34m(\u001b[0m\u001b[0;34m)\u001b[0m \u001b[0;34m-\u001b[0m \u001b[0mself\u001b[0m\u001b[0;34m.\u001b[0m\u001b[0m_start_time\u001b[0m\u001b[0;34m\u001b[0m\u001b[0m\n",
      "\u001b[0;32m~/anaconda/lib/python3.6/site-packages/sklearn/externals/joblib/parallel.py\u001b[0m in \u001b[0;36mretrieve\u001b[0;34m(self)\u001b[0m\n\u001b[1;32m    697\u001b[0m             \u001b[0;32mtry\u001b[0m\u001b[0;34m:\u001b[0m\u001b[0;34m\u001b[0m\u001b[0m\n\u001b[1;32m    698\u001b[0m                 \u001b[0;32mif\u001b[0m \u001b[0mgetattr\u001b[0m\u001b[0;34m(\u001b[0m\u001b[0mself\u001b[0m\u001b[0;34m.\u001b[0m\u001b[0m_backend\u001b[0m\u001b[0;34m,\u001b[0m \u001b[0;34m'supports_timeout'\u001b[0m\u001b[0;34m,\u001b[0m \u001b[0;32mFalse\u001b[0m\u001b[0;34m)\u001b[0m\u001b[0;34m:\u001b[0m\u001b[0;34m\u001b[0m\u001b[0m\n\u001b[0;32m--> 699\u001b[0;31m                     \u001b[0mself\u001b[0m\u001b[0;34m.\u001b[0m\u001b[0m_output\u001b[0m\u001b[0;34m.\u001b[0m\u001b[0mextend\u001b[0m\u001b[0;34m(\u001b[0m\u001b[0mjob\u001b[0m\u001b[0;34m.\u001b[0m\u001b[0mget\u001b[0m\u001b[0;34m(\u001b[0m\u001b[0mtimeout\u001b[0m\u001b[0;34m=\u001b[0m\u001b[0mself\u001b[0m\u001b[0;34m.\u001b[0m\u001b[0mtimeout\u001b[0m\u001b[0;34m)\u001b[0m\u001b[0;34m)\u001b[0m\u001b[0;34m\u001b[0m\u001b[0m\n\u001b[0m\u001b[1;32m    700\u001b[0m                 \u001b[0;32melse\u001b[0m\u001b[0;34m:\u001b[0m\u001b[0;34m\u001b[0m\u001b[0m\n\u001b[1;32m    701\u001b[0m                     \u001b[0mself\u001b[0m\u001b[0;34m.\u001b[0m\u001b[0m_output\u001b[0m\u001b[0;34m.\u001b[0m\u001b[0mextend\u001b[0m\u001b[0;34m(\u001b[0m\u001b[0mjob\u001b[0m\u001b[0;34m.\u001b[0m\u001b[0mget\u001b[0m\u001b[0;34m(\u001b[0m\u001b[0;34m)\u001b[0m\u001b[0;34m)\u001b[0m\u001b[0;34m\u001b[0m\u001b[0m\n",
      "\u001b[0;32m~/anaconda/lib/python3.6/multiprocessing/pool.py\u001b[0m in \u001b[0;36mget\u001b[0;34m(self, timeout)\u001b[0m\n\u001b[1;32m    636\u001b[0m \u001b[0;34m\u001b[0m\u001b[0m\n\u001b[1;32m    637\u001b[0m     \u001b[0;32mdef\u001b[0m \u001b[0mget\u001b[0m\u001b[0;34m(\u001b[0m\u001b[0mself\u001b[0m\u001b[0;34m,\u001b[0m \u001b[0mtimeout\u001b[0m\u001b[0;34m=\u001b[0m\u001b[0;32mNone\u001b[0m\u001b[0;34m)\u001b[0m\u001b[0;34m:\u001b[0m\u001b[0;34m\u001b[0m\u001b[0m\n\u001b[0;32m--> 638\u001b[0;31m         \u001b[0mself\u001b[0m\u001b[0;34m.\u001b[0m\u001b[0mwait\u001b[0m\u001b[0;34m(\u001b[0m\u001b[0mtimeout\u001b[0m\u001b[0;34m)\u001b[0m\u001b[0;34m\u001b[0m\u001b[0m\n\u001b[0m\u001b[1;32m    639\u001b[0m         \u001b[0;32mif\u001b[0m \u001b[0;32mnot\u001b[0m \u001b[0mself\u001b[0m\u001b[0;34m.\u001b[0m\u001b[0mready\u001b[0m\u001b[0;34m(\u001b[0m\u001b[0;34m)\u001b[0m\u001b[0;34m:\u001b[0m\u001b[0;34m\u001b[0m\u001b[0m\n\u001b[1;32m    640\u001b[0m             \u001b[0;32mraise\u001b[0m \u001b[0mTimeoutError\u001b[0m\u001b[0;34m\u001b[0m\u001b[0m\n",
      "\u001b[0;32m~/anaconda/lib/python3.6/multiprocessing/pool.py\u001b[0m in \u001b[0;36mwait\u001b[0;34m(self, timeout)\u001b[0m\n\u001b[1;32m    633\u001b[0m \u001b[0;34m\u001b[0m\u001b[0m\n\u001b[1;32m    634\u001b[0m     \u001b[0;32mdef\u001b[0m \u001b[0mwait\u001b[0m\u001b[0;34m(\u001b[0m\u001b[0mself\u001b[0m\u001b[0;34m,\u001b[0m \u001b[0mtimeout\u001b[0m\u001b[0;34m=\u001b[0m\u001b[0;32mNone\u001b[0m\u001b[0;34m)\u001b[0m\u001b[0;34m:\u001b[0m\u001b[0;34m\u001b[0m\u001b[0m\n\u001b[0;32m--> 635\u001b[0;31m         \u001b[0mself\u001b[0m\u001b[0;34m.\u001b[0m\u001b[0m_event\u001b[0m\u001b[0;34m.\u001b[0m\u001b[0mwait\u001b[0m\u001b[0;34m(\u001b[0m\u001b[0mtimeout\u001b[0m\u001b[0;34m)\u001b[0m\u001b[0;34m\u001b[0m\u001b[0m\n\u001b[0m\u001b[1;32m    636\u001b[0m \u001b[0;34m\u001b[0m\u001b[0m\n\u001b[1;32m    637\u001b[0m     \u001b[0;32mdef\u001b[0m \u001b[0mget\u001b[0m\u001b[0;34m(\u001b[0m\u001b[0mself\u001b[0m\u001b[0;34m,\u001b[0m \u001b[0mtimeout\u001b[0m\u001b[0;34m=\u001b[0m\u001b[0;32mNone\u001b[0m\u001b[0;34m)\u001b[0m\u001b[0;34m:\u001b[0m\u001b[0;34m\u001b[0m\u001b[0m\n",
      "\u001b[0;32m~/anaconda/lib/python3.6/threading.py\u001b[0m in \u001b[0;36mwait\u001b[0;34m(self, timeout)\u001b[0m\n\u001b[1;32m    549\u001b[0m             \u001b[0msignaled\u001b[0m \u001b[0;34m=\u001b[0m \u001b[0mself\u001b[0m\u001b[0;34m.\u001b[0m\u001b[0m_flag\u001b[0m\u001b[0;34m\u001b[0m\u001b[0m\n\u001b[1;32m    550\u001b[0m             \u001b[0;32mif\u001b[0m \u001b[0;32mnot\u001b[0m \u001b[0msignaled\u001b[0m\u001b[0;34m:\u001b[0m\u001b[0;34m\u001b[0m\u001b[0m\n\u001b[0;32m--> 551\u001b[0;31m                 \u001b[0msignaled\u001b[0m \u001b[0;34m=\u001b[0m \u001b[0mself\u001b[0m\u001b[0;34m.\u001b[0m\u001b[0m_cond\u001b[0m\u001b[0;34m.\u001b[0m\u001b[0mwait\u001b[0m\u001b[0;34m(\u001b[0m\u001b[0mtimeout\u001b[0m\u001b[0;34m)\u001b[0m\u001b[0;34m\u001b[0m\u001b[0m\n\u001b[0m\u001b[1;32m    552\u001b[0m             \u001b[0;32mreturn\u001b[0m \u001b[0msignaled\u001b[0m\u001b[0;34m\u001b[0m\u001b[0m\n\u001b[1;32m    553\u001b[0m \u001b[0;34m\u001b[0m\u001b[0m\n",
      "\u001b[0;32m~/anaconda/lib/python3.6/threading.py\u001b[0m in \u001b[0;36mwait\u001b[0;34m(self, timeout)\u001b[0m\n\u001b[1;32m    293\u001b[0m         \u001b[0;32mtry\u001b[0m\u001b[0;34m:\u001b[0m    \u001b[0;31m# restore state no matter what (e.g., KeyboardInterrupt)\u001b[0m\u001b[0;34m\u001b[0m\u001b[0m\n\u001b[1;32m    294\u001b[0m             \u001b[0;32mif\u001b[0m \u001b[0mtimeout\u001b[0m \u001b[0;32mis\u001b[0m \u001b[0;32mNone\u001b[0m\u001b[0;34m:\u001b[0m\u001b[0;34m\u001b[0m\u001b[0m\n\u001b[0;32m--> 295\u001b[0;31m                 \u001b[0mwaiter\u001b[0m\u001b[0;34m.\u001b[0m\u001b[0macquire\u001b[0m\u001b[0;34m(\u001b[0m\u001b[0;34m)\u001b[0m\u001b[0;34m\u001b[0m\u001b[0m\n\u001b[0m\u001b[1;32m    296\u001b[0m                 \u001b[0mgotit\u001b[0m \u001b[0;34m=\u001b[0m \u001b[0;32mTrue\u001b[0m\u001b[0;34m\u001b[0m\u001b[0m\n\u001b[1;32m    297\u001b[0m             \u001b[0;32melse\u001b[0m\u001b[0;34m:\u001b[0m\u001b[0;34m\u001b[0m\u001b[0m\n",
      "\u001b[0;31mKeyboardInterrupt\u001b[0m: "
     ]
    }
   ],
   "source": [
    "param_grid = {'max_depth':range(3,15),\n",
    "              'n_estimators':range(1,100,5),\n",
    "              'max_leaf_nodes':range(2,30,3),\n",
    "              'random_state':range(1,100000,7000)}\n",
    "rf = RandomForestRegressor(n_jobs=-1)\n",
    "gs = GridSearchCV(rf,param_grid=param_grid,scoring='neg_mean_squared_error')\n",
    "rs = gs.fit(X_train,y_train)\n",
    "print(rs.best_params_)"
   ]
  },
  {
   "cell_type": "code",
   "execution_count": null,
   "metadata": {},
   "outputs": [],
   "source": []
  }
 ],
 "metadata": {
  "kernelspec": {
   "display_name": "Python 3",
   "language": "python",
   "name": "python3"
  },
  "language_info": {
   "codemirror_mode": {
    "name": "ipython",
    "version": 3
   },
   "file_extension": ".py",
   "mimetype": "text/x-python",
   "name": "python",
   "nbconvert_exporter": "python",
   "pygments_lexer": "ipython3",
   "version": "3.6.3"
  }
 },
 "nbformat": 4,
 "nbformat_minor": 2
}
