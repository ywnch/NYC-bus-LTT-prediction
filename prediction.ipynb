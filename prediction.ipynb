{
 "cells": [
  {
   "cell_type": "code",
   "execution_count": 113,
   "metadata": {},
   "outputs": [
    {
     "name": "stdout",
     "output_type": "stream",
     "text": [
      "Populating the interactive namespace from numpy and matplotlib\n"
     ]
    }
   ],
   "source": [
    "import numpy as np\n",
    "import pandas as pd\n",
    "import matplotlib.pyplot as plt\n",
    "\n",
    "from scipy import stats\n",
    "from sklearn.metrics import mean_squared_error\n",
    "from sklearn.model_selection import GridSearchCV\n",
    "from sklearn.model_selection import train_test_split\n",
    "from sklearn.ensemble import RandomForestRegressor\n",
    "\n",
    "%pylab inline"
   ]
  },
  {
   "cell_type": "code",
   "execution_count": 91,
   "metadata": {},
   "outputs": [
    {
     "data": {
      "text/html": [
       "<div>\n",
       "<style scoped>\n",
       "    .dataframe tbody tr th:only-of-type {\n",
       "        vertical-align: middle;\n",
       "    }\n",
       "\n",
       "    .dataframe tbody tr th {\n",
       "        vertical-align: top;\n",
       "    }\n",
       "\n",
       "    .dataframe thead th {\n",
       "        text-align: right;\n",
       "    }\n",
       "</style>\n",
       "<table border=\"1\" class=\"dataframe\">\n",
       "  <thead>\n",
       "    <tr style=\"text-align: right;\">\n",
       "      <th></th>\n",
       "      <th>Timestamp_x</th>\n",
       "      <th>segment_id</th>\n",
       "      <th>HalfHourly</th>\n",
       "      <th>intersections_y</th>\n",
       "      <th>busstops_y</th>\n",
       "      <th>DayOfWeek_y</th>\n",
       "      <th>Holiday_y</th>\n",
       "      <th>BusLane_y</th>\n",
       "      <th>AvgSpeed</th>\n",
       "    </tr>\n",
       "    <tr>\n",
       "      <th>NewVehicleRef</th>\n",
       "      <th></th>\n",
       "      <th></th>\n",
       "      <th></th>\n",
       "      <th></th>\n",
       "      <th></th>\n",
       "      <th></th>\n",
       "      <th></th>\n",
       "      <th></th>\n",
       "      <th></th>\n",
       "    </tr>\n",
       "  </thead>\n",
       "  <tbody>\n",
       "    <tr>\n",
       "      <th>MTA NYCT_3829_1</th>\n",
       "      <td>2018-04-08 16:00:17.604000-04:00</td>\n",
       "      <td>2</td>\n",
       "      <td>0</td>\n",
       "      <td>15</td>\n",
       "      <td>5</td>\n",
       "      <td>7</td>\n",
       "      <td>1</td>\n",
       "      <td>False</td>\n",
       "      <td>2.445659</td>\n",
       "    </tr>\n",
       "    <tr>\n",
       "      <th>MTA NYCT_3829_1</th>\n",
       "      <td>2018-04-08 16:07:40.959000-04:00</td>\n",
       "      <td>3</td>\n",
       "      <td>0</td>\n",
       "      <td>16</td>\n",
       "      <td>6</td>\n",
       "      <td>7</td>\n",
       "      <td>1</td>\n",
       "      <td>False</td>\n",
       "      <td>1.806298</td>\n",
       "    </tr>\n",
       "    <tr>\n",
       "      <th>MTA NYCT_3829_1</th>\n",
       "      <td>2018-04-08 16:16:56.783000-04:00</td>\n",
       "      <td>4</td>\n",
       "      <td>0</td>\n",
       "      <td>9</td>\n",
       "      <td>1</td>\n",
       "      <td>7</td>\n",
       "      <td>1</td>\n",
       "      <td>False</td>\n",
       "      <td>1.597098</td>\n",
       "    </tr>\n",
       "    <tr>\n",
       "      <th>MTA NYCT_3829_1</th>\n",
       "      <td>2018-04-08 16:21:42.724000-04:00</td>\n",
       "      <td>5</td>\n",
       "      <td>0</td>\n",
       "      <td>8</td>\n",
       "      <td>3</td>\n",
       "      <td>7</td>\n",
       "      <td>1</td>\n",
       "      <td>False</td>\n",
       "      <td>2.701809</td>\n",
       "    </tr>\n",
       "    <tr>\n",
       "      <th>MTA NYCT_3829_1</th>\n",
       "      <td>2018-04-08 16:23:49.024000-04:00</td>\n",
       "      <td>6</td>\n",
       "      <td>0</td>\n",
       "      <td>9</td>\n",
       "      <td>3</td>\n",
       "      <td>7</td>\n",
       "      <td>1</td>\n",
       "      <td>False</td>\n",
       "      <td>3.600640</td>\n",
       "    </tr>\n",
       "  </tbody>\n",
       "</table>\n",
       "</div>"
      ],
      "text/plain": [
       "                                      Timestamp_x  segment_id  HalfHourly  \\\n",
       "NewVehicleRef                                                               \n",
       "MTA NYCT_3829_1  2018-04-08 16:00:17.604000-04:00           2           0   \n",
       "MTA NYCT_3829_1  2018-04-08 16:07:40.959000-04:00           3           0   \n",
       "MTA NYCT_3829_1  2018-04-08 16:16:56.783000-04:00           4           0   \n",
       "MTA NYCT_3829_1  2018-04-08 16:21:42.724000-04:00           5           0   \n",
       "MTA NYCT_3829_1  2018-04-08 16:23:49.024000-04:00           6           0   \n",
       "\n",
       "                 intersections_y  busstops_y  DayOfWeek_y  Holiday_y  \\\n",
       "NewVehicleRef                                                          \n",
       "MTA NYCT_3829_1               15           5            7          1   \n",
       "MTA NYCT_3829_1               16           6            7          1   \n",
       "MTA NYCT_3829_1                9           1            7          1   \n",
       "MTA NYCT_3829_1                8           3            7          1   \n",
       "MTA NYCT_3829_1                9           3            7          1   \n",
       "\n",
       "                 BusLane_y  AvgSpeed  \n",
       "NewVehicleRef                         \n",
       "MTA NYCT_3829_1      False  2.445659  \n",
       "MTA NYCT_3829_1      False  1.806298  \n",
       "MTA NYCT_3829_1      False  1.597098  \n",
       "MTA NYCT_3829_1      False  2.701809  \n",
       "MTA NYCT_3829_1      False  3.600640  "
      ]
     },
     "execution_count": 91,
     "metadata": {},
     "output_type": "execute_result"
    }
   ],
   "source": [
    "df = pd.read_csv(\"bus_train.csv\", index_col=0)\n",
    "df2 = pd.read_csv(\"bus_train_1.csv\", index_col=0)\n",
    "df.head()"
   ]
  },
  {
   "cell_type": "code",
   "execution_count": 85,
   "metadata": {},
   "outputs": [
    {
     "data": {
      "text/plain": [
       "Index(['Timestamp_x', 'segment_id', 'HalfHourly', 'intersections_y',\n",
       "       'busstops_y', 'DayOfWeek_y', 'Holiday_y', 'BusLane_y', 'AvgSpeed'],\n",
       "      dtype='object')"
      ]
     },
     "execution_count": 85,
     "metadata": {},
     "output_type": "execute_result"
    }
   ],
   "source": [
    "df.columns"
   ]
  },
  {
   "cell_type": "code",
   "execution_count": 92,
   "metadata": {},
   "outputs": [
    {
     "data": {
      "text/plain": [
       "Index(['NewVehicleRef', 'Timestamp_x', 'segment_id', 'BusLane_x',\n",
       "       'DayOfWeek_x', 'Holiday_x', 'HalfHourly', 'timeinseconds',\n",
       "       'intersections', 'busstops', 'AvgSpeed'],\n",
       "      dtype='object')"
      ]
     },
     "execution_count": 92,
     "metadata": {},
     "output_type": "execute_result"
    }
   ],
   "source": [
    "df2.columns"
   ]
  },
  {
   "cell_type": "code",
   "execution_count": 94,
   "metadata": {},
   "outputs": [],
   "source": [
    "df = df[['Timestamp_x', 'segment_id', 'BusLane_y', 'DayOfWeek_y', 'Holiday_y',\n",
    "         'HalfHourly', 'intersections_y', 'busstops_y', 'AvgSpeed']]\n",
    "df2 = df2[['NewVehicleRef', 'Timestamp_x', 'segment_id', 'BusLane_x',\n",
    "       'DayOfWeek_x', 'Holiday_x', 'HalfHourly', 'timeinseconds',\n",
    "       'intersections', 'busstops', 'AvgSpeed']]"
   ]
  },
  {
   "cell_type": "code",
   "execution_count": 95,
   "metadata": {},
   "outputs": [],
   "source": [
    "df.columns = ['timestamp', 'segment', 'buslane', 'dayofweek', 'holiday',\n",
    "              'halfhourly', 'intersections', 'busstops', 'avgspeed']\n",
    "df2.columns = ['NewVehicleRef', 'timestamp', 'segment', 'buslane',\n",
    "               'dayofweek', 'holiday', 'halfhourly', 'timeinseconds',\n",
    "               'intersections', 'busstops', 'avgspeed']"
   ]
  },
  {
   "cell_type": "code",
   "execution_count": 90,
   "metadata": {},
   "outputs": [
    {
     "data": {
      "text/plain": [
       "(1103, 11)"
      ]
     },
     "execution_count": 90,
     "metadata": {},
     "output_type": "execute_result"
    }
   ],
   "source": [
    "df.shape"
   ]
  },
  {
   "cell_type": "code",
   "execution_count": 97,
   "metadata": {},
   "outputs": [
    {
     "data": {
      "text/plain": [
       "(0.09066183136899365, 0.09066183136899365)"
      ]
     },
     "execution_count": 97,
     "metadata": {},
     "output_type": "execute_result"
    }
   ],
   "source": [
    "len(df[df['avgspeed'] < 0]) / len(df) * 100, len(df2[df2['avgspeed'] < 0]) / len(df2) * 100"
   ]
  },
  {
   "cell_type": "code",
   "execution_count": 98,
   "metadata": {},
   "outputs": [],
   "source": [
    "df = df[df['avgspeed'] > 0]\n",
    "df2 = df2[df2['avgspeed'] > 0]"
   ]
  },
  {
   "cell_type": "code",
   "execution_count": 123,
   "metadata": {},
   "outputs": [],
   "source": [
    "# X = df[['segment', 'buslane', 'dayofweek', 'holiday',\n",
    "#         'halfhourly', 'intersections', 'busstops']]\n",
    "# y = df['avgspeed']\n",
    "\n",
    "\n",
    "X = df2[['segment', 'buslane', 'dayofweek', 'holiday',\n",
    "         'halfhourly', 'intersections', 'busstops', 'timeinseconds']]\n",
    "y = df2['avgspeed']"
   ]
  },
  {
   "cell_type": "code",
   "execution_count": 124,
   "metadata": {},
   "outputs": [],
   "source": [
    "X_train, X_test, y_train, y_test = train_test_split(X, y, test_size = 0.3, random_state = 2018)"
   ]
  },
  {
   "cell_type": "code",
   "execution_count": 125,
   "metadata": {},
   "outputs": [
    {
     "data": {
      "text/plain": [
       "Index(['segment', 'buslane', 'dayofweek', 'holiday', 'intersections',\n",
       "       'busstops', 'timeinseconds'],\n",
       "      dtype='object')"
      ]
     },
     "execution_count": 125,
     "metadata": {},
     "output_type": "execute_result"
    }
   ],
   "source": [
    "X.columns"
   ]
  },
  {
   "cell_type": "code",
   "execution_count": 126,
   "metadata": {},
   "outputs": [
    {
     "data": {
      "text/plain": [
       "RandomForestRegressor(bootstrap=True, criterion='mse', max_depth=6,\n",
       "           max_features='auto', max_leaf_nodes=30,\n",
       "           min_impurity_decrease=0.0, min_impurity_split=None,\n",
       "           min_samples_leaf=1, min_samples_split=2,\n",
       "           min_weight_fraction_leaf=0.0, n_estimators=30, n_jobs=-1,\n",
       "           oob_score=False, random_state=99, verbose=0, warm_start=False)"
      ]
     },
     "execution_count": 126,
     "metadata": {},
     "output_type": "execute_result"
    }
   ],
   "source": [
    "rf = RandomForestRegressor(max_depth=6, n_estimators=30, n_jobs=-1, max_leaf_nodes=30, random_state=99)\n",
    "rf.fit(X_train, y_train)"
   ]
  },
  {
   "cell_type": "code",
   "execution_count": 121,
   "metadata": {},
   "outputs": [
    {
     "name": "stdout",
     "output_type": "stream",
     "text": [
      "[0.23276078 0.11560015 0.22108912 0.01411618 0.02299195 0.03273442\n",
      " 0.00725923 0.35344817]\n"
     ]
    }
   ],
   "source": [
    "print(rf.feature_importances_)"
   ]
  },
  {
   "cell_type": "code",
   "execution_count": 127,
   "metadata": {},
   "outputs": [
    {
     "name": "stdout",
     "output_type": "stream",
     "text": [
      "[0.23392804 0.11745669 0.22552411 0.01146322 0.0320695  0.00474196\n",
      " 0.37481647]\n"
     ]
    }
   ],
   "source": [
    "print(rf.feature_importances_)"
   ]
  },
  {
   "cell_type": "code",
   "execution_count": 78,
   "metadata": {},
   "outputs": [
    {
     "name": "stdout",
     "output_type": "stream",
     "text": [
      "[0.50692696 0.3914724  0.03187845 0.00698343 0.0427406  0.00382212\n",
      " 0.01617605]\n"
     ]
    }
   ],
   "source": [
    "print(rf.feature_importances_)"
   ]
  },
  {
   "cell_type": "code",
   "execution_count": 73,
   "metadata": {},
   "outputs": [
    {
     "name": "stdout",
     "output_type": "stream",
     "text": [
      "[0.56280532 0.39846152 0.03057554 0.0016259  0.00406385 0.\n",
      " 0.00246788]\n"
     ]
    }
   ],
   "source": [
    "print(rf.feature_importances_)"
   ]
  },
  {
   "cell_type": "code",
   "execution_count": 104,
   "metadata": {},
   "outputs": [
    {
     "name": "stdout",
     "output_type": "stream",
     "text": [
      "[2.48533393]\n"
     ]
    }
   ],
   "source": [
    "print(rf.predict([[2, 3, 15, 5, 2, 0, 1]]))"
   ]
  },
  {
   "cell_type": "code",
   "execution_count": 105,
   "metadata": {},
   "outputs": [
    {
     "name": "stdout",
     "output_type": "stream",
     "text": [
      "[4.17051684]\n"
     ]
    }
   ],
   "source": [
    "print(rf.predict([[2, 3, 15, 5, 7, 1, 0]]))"
   ]
  },
  {
   "cell_type": "code",
   "execution_count": 116,
   "metadata": {},
   "outputs": [
    {
     "data": {
      "text/plain": [
       "2.3536132859294634"
      ]
     },
     "execution_count": 116,
     "metadata": {},
     "output_type": "execute_result"
    }
   ],
   "source": [
    "df['avgspeed'].mean()"
   ]
  },
  {
   "cell_type": "code",
   "execution_count": 128,
   "metadata": {},
   "outputs": [
    {
     "data": {
      "text/plain": [
       "(-0.00766076708132315, 0.879658085407971)"
      ]
     },
     "execution_count": 128,
     "metadata": {},
     "output_type": "execute_result"
    }
   ],
   "source": [
    "res = list(rf.predict(X_test) - y_test)\n",
    "np.mean(res), np.std(res)"
   ]
  },
  {
   "cell_type": "code",
   "execution_count": 122,
   "metadata": {},
   "outputs": [
    {
     "data": {
      "text/plain": [
       "(-0.00725837596219538, 0.8796210918621244)"
      ]
     },
     "execution_count": 122,
     "metadata": {},
     "output_type": "execute_result"
    }
   ],
   "source": [
    "res = list(rf.predict(X_test) - y_test)\n",
    "np.mean(res), np.std(res)"
   ]
  },
  {
   "cell_type": "code",
   "execution_count": 115,
   "metadata": {},
   "outputs": [
    {
     "name": "stdout",
     "output_type": "stream",
     "text": [
      "[1.83099109 2.76172275 2.08599388 2.59479956 2.2864508  2.08943553\n",
      " 2.0400443  2.69615055 2.05382341 2.7118128  2.85065963 2.33032445\n",
      " 2.61262991 1.68575198 2.263362   2.13001068 2.53345245 2.83731718\n",
      " 2.15350852 4.26678602 2.79990225 2.05382341 2.08837637 2.04363378\n",
      " 2.04363378 3.3435932  2.30383198 2.12624436 2.88442769 2.31174668\n",
      " 2.31029551 2.05416215 1.85460519 3.22135935 2.05932266 2.05625648\n",
      " 2.04363378 2.05573318 2.75892332 2.10748557 3.96749291 2.94772145\n",
      " 2.12224026 2.05625648 2.10748557 1.67836736 1.83295328 2.06462157\n",
      " 3.58387296 3.52811214 7.42875575 2.89840805 2.24487406 2.18625371\n",
      " 2.76172275 2.06462157 2.36934862 2.08943553 2.08781149 2.05932266\n",
      " 2.05416215 2.83731718 2.04363378 2.51484288 2.64770211 2.90636646\n",
      " 2.35435179 2.05382341 2.05625648 0.89567576 1.88810447 2.61262991\n",
      " 2.05625648 2.33032445 2.4505328  2.05932266 1.71511601 2.14857698\n",
      " 4.83137444 2.03813453 2.69208816 2.03813453 2.94772145 3.5601098\n",
      " 2.88331994 2.88442769 6.09106742 2.09343963 2.05625648 2.05932266\n",
      " 2.05932266 2.89840805 1.68575198 1.9024467  2.19464004 2.05382341\n",
      " 2.09251462 2.1201592  2.09251462 2.04363378 2.88915493 2.39859586\n",
      " 1.71511601 2.05625648 2.19667825 2.38429486 2.13844051 2.32977093\n",
      " 2.40290443 2.20139036 2.07304939 2.04543923 2.28735678 1.83295328\n",
      " 2.07304939 2.86478422 2.05625648 2.05932266 2.03813453 0.66384015\n",
      " 2.26944104 2.05382341 5.37494792 2.04363378 2.03093013 2.76268505\n",
      " 3.50020886 2.03813453 2.31105731 1.68575198 2.14857698 2.31105731\n",
      " 1.71511601 2.03813453 2.7727927  1.88810447 1.67836736 2.88442769\n",
      " 2.04363378 2.24487406 2.05382341 2.36934862 2.06605466 2.05573318\n",
      " 2.74719181 2.76580139 2.34896712 3.52811214 2.08943553 2.74182694\n",
      " 2.08837637 2.18625371 2.76268505 2.03813453 2.28735678 2.75892332\n",
      " 2.7118128  2.36754246 2.74182694 3.7182659  3.91911699 3.04092449\n",
      " 2.03813453 2.04893269 3.20821616 2.62113565 1.71511601 2.12624436\n",
      " 2.93063569 2.05382341 2.34896712 2.03813453 2.03813453 4.04715388\n",
      " 2.03813453 2.03813453 1.62006011 2.03813453 2.03813453 5.16261995\n",
      " 2.14437427 4.83137444 1.95031546 4.8153836  2.01590618 1.74236875\n",
      " 2.06605466 1.83295328 2.24607686 2.05382341 2.05416215 2.01524125\n",
      " 1.67836736 2.24421421 5.83035993 2.14547933 2.76268505 2.04973575\n",
      " 2.09594295 0.66384015 2.82616456 3.32751942 2.03813453 2.53345245\n",
      " 2.30828165 2.05382341 2.61786549 2.09343963 2.05382341 2.74182694\n",
      " 2.04363378 3.49677184 2.14857698 2.04527024 3.49414386 2.15350852\n",
      " 2.06175573 3.96749291 2.06175573 2.04363378 3.3435932  2.17194116\n",
      " 1.73091826 2.03813453 2.18625371 2.01035437 2.61786549 2.1161551\n",
      " 2.08837637 2.34101045 2.12224026 2.03697439 2.32977093 2.64770211\n",
      " 1.67836736 6.38053828 2.04973575 2.99540964 2.76268505 4.72547499\n",
      " 2.25163854 2.37450722 2.14547933 1.72179344 4.83137444 2.05775163\n",
      " 4.26678602 3.16019846 4.8153836  1.72656649 2.51484288 2.04973575\n",
      " 1.9024467  2.20531313 2.06175573 2.22957426 2.03813453 2.08943553\n",
      " 2.0400443  2.0400443  2.04363378 2.34896712 2.05625648 2.06462157\n",
      " 2.48384136 3.61999508 2.7118128  3.52065067 2.83731718 2.62113565\n",
      " 2.06462157 2.05932266 1.71511601 2.76580139 1.83099109 2.61255524\n",
      " 2.05912232 5.98290213 2.05932266 2.7118128  2.05382341 2.05573318\n",
      " 2.1014422  2.05912232 2.58380328 2.09594295 3.45011247 2.06175573\n",
      " 2.02128551 2.05932266 1.67836736 2.05775163 2.47645395 2.05932266\n",
      " 5.19728749 3.45011247 2.05775163 2.04363378 2.1782824  2.05382341\n",
      " 5.83035993 2.1201592  2.04363378 2.05625648 2.19667825 1.68575198\n",
      " 2.05775163 3.05388597 2.93401275 2.14547933 3.64139252 2.05382341\n",
      " 1.74236875 2.05573318 2.2879103  2.05932266 1.80933918 2.08599388\n",
      " 2.85065963 2.06175573 2.82616456 2.24607686 3.22135935 2.14437427\n",
      " 2.08599388 1.68575198 1.72656649]\n",
      "Number of predictions: 327\n",
      "MSE: 0.887343191086806\n"
     ]
    }
   ],
   "source": [
    "modelPred = rf.predict(X_test)\n",
    "\n",
    "print(modelPred)\n",
    "print(\"Number of predictions:\", len(modelPred))\n",
    "\n",
    "MSE = mean_squared_error(y_test, modelPred)\n",
    "\n",
    "print(\"MSE:\", MSE)"
   ]
  },
  {
   "cell_type": "code",
   "execution_count": 131,
   "metadata": {},
   "outputs": [
    {
     "name": "stdout",
     "output_type": "stream",
     "text": [
      "{'n_estimators': [20, 51, 82, 113, 144, 175, 206, 237, 268, 300], 'max_depth': [5, 14, 24, 33, 43, 52, 62, 71, 81, 90, 100], 'max_leaf_nodes': range(2, 30, 3), 'bootstrap': [True, False]}\n"
     ]
    }
   ],
   "source": [
    "# Number of trees in random forest\n",
    "n_estimators = [int(x) for x in np.linspace(start = 20, stop = 300, num = 10)]\n",
    "# Number of features to consider at every split\n",
    "# max_features = ['auto', 'sqrt']\n",
    "# Maximum number of levels in tree\n",
    "max_depth = [int(x) for x in np.linspace(5, 100, num = 11)]\n",
    "# Minimum number of samples required to split a node\n",
    "# min_samples_split = [2, 5, 10]\n",
    "# Minimum number of samples required at each leaf node\n",
    "# min_samples_leaf = [1, 2, 4]\n",
    "# Method of selecting samples for training each tree\n",
    "bootstrap = [True, False]\n",
    "# Create the random grid\n",
    "random_grid = {'n_estimators': n_estimators,\n",
    "               'max_depth': max_depth,\n",
    "               'max_leaf_nodes': range(2,30,3),\n",
    "               'bootstrap': bootstrap}\n",
    "print(random_grid)\n",
    "\n"
   ]
  },
  {
   "cell_type": "code",
   "execution_count": 133,
   "metadata": {},
   "outputs": [
    {
     "name": "stdout",
     "output_type": "stream",
     "text": [
      "Fitting 3 folds for each of 100 candidates, totalling 300 fits\n",
      "[CV] n_estimators=51, max_leaf_nodes=17, max_depth=33, bootstrap=False \n",
      "[CV] n_estimators=51, max_leaf_nodes=17, max_depth=33, bootstrap=False \n",
      "[CV] n_estimators=51, max_leaf_nodes=17, max_depth=33, bootstrap=False \n",
      "[CV] n_estimators=144, max_leaf_nodes=11, max_depth=24, bootstrap=False \n",
      "[CV]  n_estimators=51, max_leaf_nodes=17, max_depth=33, bootstrap=False, total=   0.2s\n",
      "[CV] n_estimators=144, max_leaf_nodes=11, max_depth=24, bootstrap=False \n",
      "[CV]  n_estimators=51, max_leaf_nodes=17, max_depth=33, bootstrap=False, total=   0.2s\n",
      "[CV] n_estimators=144, max_leaf_nodes=11, max_depth=24, bootstrap=False \n",
      "[CV]  n_estimators=51, max_leaf_nodes=17, max_depth=33, bootstrap=False, total=   0.2s\n",
      "[CV] n_estimators=51, max_leaf_nodes=20, max_depth=62, bootstrap=False \n",
      "[CV]  n_estimators=51, max_leaf_nodes=20, max_depth=62, bootstrap=False, total=   0.2s\n",
      "[CV] n_estimators=51, max_leaf_nodes=20, max_depth=62, bootstrap=False \n",
      "[CV]  n_estimators=144, max_leaf_nodes=11, max_depth=24, bootstrap=False, total=   0.5s\n",
      "[CV] n_estimators=51, max_leaf_nodes=20, max_depth=62, bootstrap=False \n",
      "[CV]  n_estimators=51, max_leaf_nodes=20, max_depth=62, bootstrap=False, total=   0.2s\n",
      "[CV] n_estimators=175, max_leaf_nodes=11, max_depth=62, bootstrap=False \n",
      "[CV]  n_estimators=144, max_leaf_nodes=11, max_depth=24, bootstrap=False, total=   0.5s\n",
      "[CV] n_estimators=175, max_leaf_nodes=11, max_depth=62, bootstrap=False \n",
      "[CV]  n_estimators=144, max_leaf_nodes=11, max_depth=24, bootstrap=False, total=   0.5s\n",
      "[CV] n_estimators=175, max_leaf_nodes=11, max_depth=62, bootstrap=False \n",
      "[CV]  n_estimators=51, max_leaf_nodes=20, max_depth=62, bootstrap=False, total=   0.2s\n",
      "[CV] n_estimators=206, max_leaf_nodes=23, max_depth=43, bootstrap=False \n",
      "[CV]  n_estimators=175, max_leaf_nodes=11, max_depth=62, bootstrap=False, total=   0.6s\n",
      "[CV] n_estimators=206, max_leaf_nodes=23, max_depth=43, bootstrap=False \n",
      "[CV]  n_estimators=175, max_leaf_nodes=11, max_depth=62, bootstrap=False, total=   0.5s\n",
      "[CV]  n_estimators=175, max_leaf_nodes=11, max_depth=62, bootstrap=False, total=   0.5s\n",
      "[CV] n_estimators=206, max_leaf_nodes=23, max_depth=43, bootstrap=False \n",
      "[CV] n_estimators=20, max_leaf_nodes=5, max_depth=5, bootstrap=False .\n",
      "[CV]  n_estimators=20, max_leaf_nodes=5, max_depth=5, bootstrap=False, total=   0.1s\n",
      "[CV] n_estimators=20, max_leaf_nodes=5, max_depth=5, bootstrap=False .\n",
      "[CV]  n_estimators=20, max_leaf_nodes=5, max_depth=5, bootstrap=False, total=   0.1s\n",
      "[CV] n_estimators=20, max_leaf_nodes=5, max_depth=5, bootstrap=False .\n",
      "[CV]  n_estimators=20, max_leaf_nodes=5, max_depth=5, bootstrap=False, total=   0.1s\n",
      "[CV] n_estimators=144, max_leaf_nodes=29, max_depth=43, bootstrap=False \n",
      "[CV]  n_estimators=206, max_leaf_nodes=23, max_depth=43, bootstrap=False, total=   0.8s\n",
      "[CV] n_estimators=144, max_leaf_nodes=29, max_depth=43, bootstrap=False \n",
      "[CV]  n_estimators=206, max_leaf_nodes=23, max_depth=43, bootstrap=False, total=   0.8s\n",
      "[CV] n_estimators=144, max_leaf_nodes=29, max_depth=43, bootstrap=False \n",
      "[CV]  n_estimators=206, max_leaf_nodes=23, max_depth=43, bootstrap=False, total=   0.8s\n",
      "[CV] n_estimators=20, max_leaf_nodes=11, max_depth=52, bootstrap=True \n",
      "[CV]  n_estimators=144, max_leaf_nodes=29, max_depth=43, bootstrap=False, total=   0.5s\n",
      "[CV] n_estimators=20, max_leaf_nodes=11, max_depth=52, bootstrap=True \n",
      "[CV]  n_estimators=20, max_leaf_nodes=11, max_depth=52, bootstrap=True, total=   0.1s\n",
      "[CV] n_estimators=20, max_leaf_nodes=11, max_depth=52, bootstrap=True \n",
      "[CV]  n_estimators=20, max_leaf_nodes=11, max_depth=52, bootstrap=True, total=   0.1s\n",
      "[CV] n_estimators=51, max_leaf_nodes=17, max_depth=62, bootstrap=True \n",
      "[CV]  n_estimators=144, max_leaf_nodes=29, max_depth=43, bootstrap=False, total=   0.6s\n",
      "[CV] n_estimators=51, max_leaf_nodes=17, max_depth=62, bootstrap=True \n",
      "[CV]  n_estimators=20, max_leaf_nodes=11, max_depth=52, bootstrap=True, total=   0.1s\n",
      "[CV] n_estimators=51, max_leaf_nodes=17, max_depth=62, bootstrap=True \n",
      "[CV]  n_estimators=51, max_leaf_nodes=17, max_depth=62, bootstrap=True, total=   0.2s\n",
      "[CV]  n_estimators=51, max_leaf_nodes=17, max_depth=62, bootstrap=True, total=   0.2s\n",
      "[CV] n_estimators=300, max_leaf_nodes=5, max_depth=81, bootstrap=True \n",
      "[CV] n_estimators=300, max_leaf_nodes=5, max_depth=81, bootstrap=True \n",
      "[CV]  n_estimators=51, max_leaf_nodes=17, max_depth=62, bootstrap=True, total=   0.2s\n",
      "[CV] n_estimators=300, max_leaf_nodes=5, max_depth=81, bootstrap=True \n",
      "[CV]  n_estimators=144, max_leaf_nodes=29, max_depth=43, bootstrap=False, total=   0.6s\n",
      "[CV] n_estimators=51, max_leaf_nodes=23, max_depth=71, bootstrap=True \n",
      "[CV]  n_estimators=51, max_leaf_nodes=23, max_depth=71, bootstrap=True, total=   0.2s\n",
      "[CV] n_estimators=51, max_leaf_nodes=23, max_depth=71, bootstrap=True \n",
      "[CV]  n_estimators=51, max_leaf_nodes=23, max_depth=71, bootstrap=True, total=   0.2s\n",
      "[CV] n_estimators=51, max_leaf_nodes=23, max_depth=71, bootstrap=True \n",
      "[CV]  n_estimators=51, max_leaf_nodes=23, max_depth=71, bootstrap=True, total=   0.2s\n",
      "[CV] n_estimators=268, max_leaf_nodes=23, max_depth=71, bootstrap=False \n",
      "[CV]  n_estimators=300, max_leaf_nodes=5, max_depth=81, bootstrap=True, total=   0.9s\n",
      "[CV] n_estimators=268, max_leaf_nodes=23, max_depth=71, bootstrap=False \n",
      "[CV]  n_estimators=300, max_leaf_nodes=5, max_depth=81, bootstrap=True, total=   1.0s\n",
      "[CV] n_estimators=268, max_leaf_nodes=23, max_depth=71, bootstrap=False \n",
      "[CV]  n_estimators=300, max_leaf_nodes=5, max_depth=81, bootstrap=True, total=   1.0s\n",
      "[CV] n_estimators=175, max_leaf_nodes=5, max_depth=90, bootstrap=True \n"
     ]
    },
    {
     "name": "stderr",
     "output_type": "stream",
     "text": [
      "[Parallel(n_jobs=-1)]: Done  33 tasks      | elapsed:    3.6s\n"
     ]
    },
    {
     "name": "stdout",
     "output_type": "stream",
     "text": [
      "[CV]  n_estimators=175, max_leaf_nodes=5, max_depth=90, bootstrap=True, total=   0.5s\n",
      "[CV] n_estimators=175, max_leaf_nodes=5, max_depth=90, bootstrap=True \n",
      "[CV]  n_estimators=268, max_leaf_nodes=23, max_depth=71, bootstrap=False, total=   1.0s\n",
      "[CV] n_estimators=175, max_leaf_nodes=5, max_depth=90, bootstrap=True \n",
      "[CV]  n_estimators=268, max_leaf_nodes=23, max_depth=71, bootstrap=False, total=   0.9s\n",
      "[CV] n_estimators=175, max_leaf_nodes=5, max_depth=90, bootstrap=False \n",
      "[CV]  n_estimators=268, max_leaf_nodes=23, max_depth=71, bootstrap=False, total=   1.0s\n",
      "[CV] n_estimators=175, max_leaf_nodes=5, max_depth=90, bootstrap=False \n",
      "[CV]  n_estimators=175, max_leaf_nodes=5, max_depth=90, bootstrap=True, total=   0.6s\n",
      "[CV] n_estimators=175, max_leaf_nodes=5, max_depth=90, bootstrap=False \n",
      "[CV]  n_estimators=175, max_leaf_nodes=5, max_depth=90, bootstrap=True, total=   0.5s\n",
      "[CV] n_estimators=206, max_leaf_nodes=23, max_depth=71, bootstrap=False \n",
      "[CV]  n_estimators=175, max_leaf_nodes=5, max_depth=90, bootstrap=False, total=   0.5s\n",
      "[CV] n_estimators=206, max_leaf_nodes=23, max_depth=71, bootstrap=False \n",
      "[CV]  n_estimators=175, max_leaf_nodes=5, max_depth=90, bootstrap=False, total=   0.5s\n",
      "[CV] n_estimators=206, max_leaf_nodes=23, max_depth=71, bootstrap=False \n",
      "[CV]  n_estimators=175, max_leaf_nodes=5, max_depth=90, bootstrap=False, total=   0.6s\n",
      "[CV] n_estimators=237, max_leaf_nodes=11, max_depth=90, bootstrap=True \n",
      "[CV]  n_estimators=206, max_leaf_nodes=23, max_depth=71, bootstrap=False, total=   0.8s\n",
      "[CV] n_estimators=237, max_leaf_nodes=11, max_depth=90, bootstrap=True \n",
      "[CV]  n_estimators=206, max_leaf_nodes=23, max_depth=71, bootstrap=False, total=   0.7s\n",
      "[CV] n_estimators=237, max_leaf_nodes=11, max_depth=90, bootstrap=True \n",
      "[CV]  n_estimators=206, max_leaf_nodes=23, max_depth=71, bootstrap=False, total=   0.7s\n",
      "[CV] n_estimators=82, max_leaf_nodes=20, max_depth=43, bootstrap=False \n",
      "[CV]  n_estimators=237, max_leaf_nodes=11, max_depth=90, bootstrap=True, total=   0.7s\n",
      "[CV] n_estimators=82, max_leaf_nodes=20, max_depth=43, bootstrap=False \n",
      "[CV]  n_estimators=82, max_leaf_nodes=20, max_depth=43, bootstrap=False, total=   0.3s\n",
      "[CV] n_estimators=82, max_leaf_nodes=20, max_depth=43, bootstrap=False \n",
      "[CV]  n_estimators=82, max_leaf_nodes=20, max_depth=43, bootstrap=False, total=   0.3s\n",
      "[CV] n_estimators=300, max_leaf_nodes=23, max_depth=14, bootstrap=True \n",
      "[CV]  n_estimators=82, max_leaf_nodes=20, max_depth=43, bootstrap=False, total=   0.3s\n",
      "[CV] n_estimators=300, max_leaf_nodes=23, max_depth=14, bootstrap=True \n",
      "[CV]  n_estimators=237, max_leaf_nodes=11, max_depth=90, bootstrap=True, total=   0.8s\n",
      "[CV] n_estimators=300, max_leaf_nodes=23, max_depth=14, bootstrap=True \n",
      "[CV]  n_estimators=237, max_leaf_nodes=11, max_depth=90, bootstrap=True, total=   0.8s\n",
      "[CV] n_estimators=113, max_leaf_nodes=8, max_depth=62, bootstrap=False \n",
      "[CV]  n_estimators=113, max_leaf_nodes=8, max_depth=62, bootstrap=False, total=   0.4s\n",
      "[CV] n_estimators=113, max_leaf_nodes=8, max_depth=62, bootstrap=False \n",
      "[CV]  n_estimators=113, max_leaf_nodes=8, max_depth=62, bootstrap=False, total=   0.3s\n",
      "[CV] n_estimators=113, max_leaf_nodes=8, max_depth=62, bootstrap=False \n",
      "[CV]  n_estimators=300, max_leaf_nodes=23, max_depth=14, bootstrap=True, total=   1.0s\n",
      "[CV] n_estimators=82, max_leaf_nodes=23, max_depth=33, bootstrap=False \n",
      "[CV]  n_estimators=300, max_leaf_nodes=23, max_depth=14, bootstrap=True, total=   1.1s\n",
      "[CV] n_estimators=82, max_leaf_nodes=23, max_depth=33, bootstrap=False \n",
      "[CV]  n_estimators=300, max_leaf_nodes=23, max_depth=14, bootstrap=True, total=   1.0s\n",
      "[CV] n_estimators=82, max_leaf_nodes=23, max_depth=33, bootstrap=False \n",
      "[CV]  n_estimators=113, max_leaf_nodes=8, max_depth=62, bootstrap=False, total=   0.5s\n",
      "[CV] n_estimators=237, max_leaf_nodes=20, max_depth=100, bootstrap=False \n",
      "[CV]  n_estimators=82, max_leaf_nodes=23, max_depth=33, bootstrap=False, total=   0.3s\n",
      "[CV] n_estimators=237, max_leaf_nodes=20, max_depth=100, bootstrap=False \n",
      "[CV]  n_estimators=82, max_leaf_nodes=23, max_depth=33, bootstrap=False, total=   0.3s\n",
      "[CV] n_estimators=237, max_leaf_nodes=20, max_depth=100, bootstrap=False \n",
      "[CV]  n_estimators=82, max_leaf_nodes=23, max_depth=33, bootstrap=False, total=   0.3s\n",
      "[CV] n_estimators=206, max_leaf_nodes=5, max_depth=62, bootstrap=False \n",
      "[CV]  n_estimators=206, max_leaf_nodes=5, max_depth=62, bootstrap=False, total=   0.6s\n",
      "[CV] n_estimators=206, max_leaf_nodes=5, max_depth=62, bootstrap=False \n",
      "[CV]  n_estimators=237, max_leaf_nodes=20, max_depth=100, bootstrap=False, total=   0.8s\n",
      "[CV]  n_estimators=237, max_leaf_nodes=20, max_depth=100, bootstrap=False, total=   0.7s\n",
      "[CV] n_estimators=206, max_leaf_nodes=5, max_depth=62, bootstrap=False \n",
      "[CV] n_estimators=206, max_leaf_nodes=14, max_depth=52, bootstrap=False \n",
      "[CV]  n_estimators=237, max_leaf_nodes=20, max_depth=100, bootstrap=False, total=   0.8s\n",
      "[CV] n_estimators=206, max_leaf_nodes=14, max_depth=52, bootstrap=False \n",
      "[CV]  n_estimators=206, max_leaf_nodes=5, max_depth=62, bootstrap=False, total=   0.6s\n",
      "[CV] n_estimators=206, max_leaf_nodes=14, max_depth=52, bootstrap=False \n",
      "[CV]  n_estimators=206, max_leaf_nodes=5, max_depth=62, bootstrap=False, total=   0.6s\n",
      "[CV] n_estimators=268, max_leaf_nodes=2, max_depth=62, bootstrap=False \n",
      "[CV]  n_estimators=206, max_leaf_nodes=14, max_depth=52, bootstrap=False, total=   0.6s\n",
      "[CV] n_estimators=268, max_leaf_nodes=2, max_depth=62, bootstrap=False \n",
      "[CV]  n_estimators=206, max_leaf_nodes=14, max_depth=52, bootstrap=False, total=   0.6s\n",
      "[CV] n_estimators=268, max_leaf_nodes=2, max_depth=62, bootstrap=False \n",
      "[CV]  n_estimators=206, max_leaf_nodes=14, max_depth=52, bootstrap=False, total=   0.6s\n",
      "[CV] n_estimators=51, max_leaf_nodes=17, max_depth=24, bootstrap=True \n",
      "[CV]  n_estimators=51, max_leaf_nodes=17, max_depth=24, bootstrap=True, total=   0.2s\n",
      "[CV] n_estimators=51, max_leaf_nodes=17, max_depth=24, bootstrap=True \n",
      "[CV]  n_estimators=268, max_leaf_nodes=2, max_depth=62, bootstrap=False, total=   0.7s\n",
      "[CV] n_estimators=51, max_leaf_nodes=17, max_depth=24, bootstrap=True \n",
      "[CV]  n_estimators=268, max_leaf_nodes=2, max_depth=62, bootstrap=False, total=   0.7s\n",
      "[CV] n_estimators=300, max_leaf_nodes=2, max_depth=90, bootstrap=False \n",
      "[CV]  n_estimators=268, max_leaf_nodes=2, max_depth=62, bootstrap=False, total=   0.7s\n",
      "[CV] n_estimators=300, max_leaf_nodes=2, max_depth=90, bootstrap=False \n",
      "[CV]  n_estimators=51, max_leaf_nodes=17, max_depth=24, bootstrap=True, total=   0.2s\n",
      "[CV] n_estimators=300, max_leaf_nodes=2, max_depth=90, bootstrap=False \n",
      "[CV]  n_estimators=51, max_leaf_nodes=17, max_depth=24, bootstrap=True, total=   0.2s\n",
      "[CV] n_estimators=82, max_leaf_nodes=2, max_depth=62, bootstrap=True .\n",
      "[CV]  n_estimators=82, max_leaf_nodes=2, max_depth=62, bootstrap=True, total=   0.2s\n",
      "[CV] n_estimators=82, max_leaf_nodes=2, max_depth=62, bootstrap=True .\n",
      "[CV]  n_estimators=82, max_leaf_nodes=2, max_depth=62, bootstrap=True, total=   0.3s\n",
      "[CV] n_estimators=82, max_leaf_nodes=2, max_depth=62, bootstrap=True .\n",
      "[CV]  n_estimators=300, max_leaf_nodes=2, max_depth=90, bootstrap=False, total=   0.9s\n",
      "[CV] n_estimators=51, max_leaf_nodes=5, max_depth=52, bootstrap=False \n",
      "[CV]  n_estimators=82, max_leaf_nodes=2, max_depth=62, bootstrap=True, total=   0.2s\n",
      "[CV] n_estimators=51, max_leaf_nodes=5, max_depth=52, bootstrap=False \n",
      "[CV]  n_estimators=300, max_leaf_nodes=2, max_depth=90, bootstrap=False, total=   0.9s\n",
      "[CV] n_estimators=51, max_leaf_nodes=5, max_depth=52, bootstrap=False \n",
      "[CV]  n_estimators=51, max_leaf_nodes=5, max_depth=52, bootstrap=False, total=   0.2s\n",
      "[CV] n_estimators=206, max_leaf_nodes=26, max_depth=43, bootstrap=True \n",
      "[CV]  n_estimators=300, max_leaf_nodes=2, max_depth=90, bootstrap=False, total=   0.9s\n",
      "[CV] n_estimators=206, max_leaf_nodes=26, max_depth=43, bootstrap=True \n",
      "[CV]  n_estimators=51, max_leaf_nodes=5, max_depth=52, bootstrap=False, total=   0.2s\n",
      "[CV] n_estimators=206, max_leaf_nodes=26, max_depth=43, bootstrap=True \n",
      "[CV]  n_estimators=51, max_leaf_nodes=5, max_depth=52, bootstrap=False, total=   0.2s\n",
      "[CV] n_estimators=300, max_leaf_nodes=8, max_depth=5, bootstrap=True .\n",
      "[CV]  n_estimators=206, max_leaf_nodes=26, max_depth=43, bootstrap=True, total=   0.6s\n",
      "[CV] n_estimators=300, max_leaf_nodes=8, max_depth=5, bootstrap=True .\n",
      "[CV]  n_estimators=206, max_leaf_nodes=26, max_depth=43, bootstrap=True, total=   0.7s\n",
      "[CV] n_estimators=300, max_leaf_nodes=8, max_depth=5, bootstrap=True .\n",
      "[CV]  n_estimators=206, max_leaf_nodes=26, max_depth=43, bootstrap=True, total=   0.6s\n",
      "[CV] n_estimators=20, max_leaf_nodes=2, max_depth=90, bootstrap=True .\n",
      "[CV]  n_estimators=20, max_leaf_nodes=2, max_depth=90, bootstrap=True, total=   0.1s\n",
      "[CV] n_estimators=20, max_leaf_nodes=2, max_depth=90, bootstrap=True .\n",
      "[CV]  n_estimators=20, max_leaf_nodes=2, max_depth=90, bootstrap=True, total=   0.0s\n",
      "[CV] n_estimators=20, max_leaf_nodes=2, max_depth=90, bootstrap=True .\n",
      "[CV]  n_estimators=20, max_leaf_nodes=2, max_depth=90, bootstrap=True, total=   0.1s\n",
      "[CV] n_estimators=268, max_leaf_nodes=2, max_depth=52, bootstrap=True \n",
      "[CV]  n_estimators=300, max_leaf_nodes=8, max_depth=5, bootstrap=True, total=   0.9s\n",
      "[CV] n_estimators=268, max_leaf_nodes=2, max_depth=52, bootstrap=True \n",
      "[CV]  n_estimators=300, max_leaf_nodes=8, max_depth=5, bootstrap=True, total=   1.0s\n",
      "[CV] n_estimators=268, max_leaf_nodes=2, max_depth=52, bootstrap=True \n",
      "[CV]  n_estimators=300, max_leaf_nodes=8, max_depth=5, bootstrap=True, total=   1.0s\n",
      "[CV] n_estimators=82, max_leaf_nodes=26, max_depth=90, bootstrap=False \n",
      "[CV]  n_estimators=268, max_leaf_nodes=2, max_depth=52, bootstrap=True, total=   0.8s\n",
      "[CV] n_estimators=82, max_leaf_nodes=26, max_depth=90, bootstrap=False \n",
      "[CV]  n_estimators=268, max_leaf_nodes=2, max_depth=52, bootstrap=True, total=   0.8s\n",
      "[CV] n_estimators=82, max_leaf_nodes=26, max_depth=90, bootstrap=False \n",
      "[CV]  n_estimators=82, max_leaf_nodes=26, max_depth=90, bootstrap=False, total=   0.3s\n",
      "[CV] n_estimators=300, max_leaf_nodes=26, max_depth=81, bootstrap=True \n",
      "[CV]  n_estimators=82, max_leaf_nodes=26, max_depth=90, bootstrap=False, total=   0.3s\n",
      "[CV] n_estimators=300, max_leaf_nodes=26, max_depth=81, bootstrap=True \n",
      "[CV]  n_estimators=82, max_leaf_nodes=26, max_depth=90, bootstrap=False, total=   0.3s\n",
      "[CV] n_estimators=300, max_leaf_nodes=26, max_depth=81, bootstrap=True \n",
      "[CV]  n_estimators=268, max_leaf_nodes=2, max_depth=52, bootstrap=True, total=   1.0s\n",
      "[CV] n_estimators=237, max_leaf_nodes=17, max_depth=90, bootstrap=False \n",
      "[CV]  n_estimators=300, max_leaf_nodes=26, max_depth=81, bootstrap=True, total=   1.3s\n",
      "[CV] n_estimators=237, max_leaf_nodes=17, max_depth=90, bootstrap=False \n",
      "[CV]  n_estimators=300, max_leaf_nodes=26, max_depth=81, bootstrap=True, total=   1.2s\n",
      "[CV] n_estimators=237, max_leaf_nodes=17, max_depth=90, bootstrap=False \n",
      "[CV]  n_estimators=300, max_leaf_nodes=26, max_depth=81, bootstrap=True, total=   1.2s\n",
      "[CV] n_estimators=82, max_leaf_nodes=29, max_depth=71, bootstrap=True \n",
      "[CV]  n_estimators=237, max_leaf_nodes=17, max_depth=90, bootstrap=False, total=   0.9s\n",
      "[CV] n_estimators=82, max_leaf_nodes=29, max_depth=71, bootstrap=True \n",
      "[CV]  n_estimators=82, max_leaf_nodes=29, max_depth=71, bootstrap=True, total=   0.3s\n",
      "[CV] n_estimators=82, max_leaf_nodes=29, max_depth=71, bootstrap=True \n",
      "[CV]  n_estimators=82, max_leaf_nodes=29, max_depth=71, bootstrap=True, total=   0.3s\n",
      "[CV] n_estimators=175, max_leaf_nodes=29, max_depth=90, bootstrap=False \n",
      "[CV]  n_estimators=82, max_leaf_nodes=29, max_depth=71, bootstrap=True, total=   0.3s\n",
      "[CV] n_estimators=175, max_leaf_nodes=29, max_depth=90, bootstrap=False \n",
      "[CV]  n_estimators=237, max_leaf_nodes=17, max_depth=90, bootstrap=False, total=   0.9s\n",
      "[CV] n_estimators=175, max_leaf_nodes=29, max_depth=90, bootstrap=False \n",
      "[CV]  n_estimators=237, max_leaf_nodes=17, max_depth=90, bootstrap=False, total=   0.9s\n",
      "[CV] n_estimators=175, max_leaf_nodes=23, max_depth=24, bootstrap=True \n",
      "[CV]  n_estimators=175, max_leaf_nodes=29, max_depth=90, bootstrap=False, total=   0.7s\n",
      "[CV] n_estimators=175, max_leaf_nodes=23, max_depth=24, bootstrap=True \n",
      "[CV]  n_estimators=175, max_leaf_nodes=29, max_depth=90, bootstrap=False, total=   0.7s\n",
      "[CV] n_estimators=175, max_leaf_nodes=23, max_depth=24, bootstrap=True \n",
      "[CV]  n_estimators=175, max_leaf_nodes=29, max_depth=90, bootstrap=False, total=   0.7s\n",
      "[CV] n_estimators=144, max_leaf_nodes=17, max_depth=24, bootstrap=True \n",
      "[CV]  n_estimators=175, max_leaf_nodes=23, max_depth=24, bootstrap=True, total=   0.6s\n",
      "[CV] n_estimators=144, max_leaf_nodes=17, max_depth=24, bootstrap=True \n",
      "[CV]  n_estimators=175, max_leaf_nodes=23, max_depth=24, bootstrap=True, total=   0.6s\n",
      "[CV] n_estimators=144, max_leaf_nodes=17, max_depth=24, bootstrap=True \n",
      "[CV]  n_estimators=144, max_leaf_nodes=17, max_depth=24, bootstrap=True, total=   0.4s\n",
      "[CV] n_estimators=206, max_leaf_nodes=2, max_depth=33, bootstrap=True \n",
      "[CV]  n_estimators=175, max_leaf_nodes=23, max_depth=24, bootstrap=True, total=   0.6s\n",
      "[CV] n_estimators=206, max_leaf_nodes=2, max_depth=33, bootstrap=True \n",
      "[CV]  n_estimators=144, max_leaf_nodes=17, max_depth=24, bootstrap=True, total=   0.5s\n",
      "[CV] n_estimators=206, max_leaf_nodes=2, max_depth=33, bootstrap=True \n",
      "[CV]  n_estimators=144, max_leaf_nodes=17, max_depth=24, bootstrap=True, total=   0.5s\n",
      "[CV] n_estimators=113, max_leaf_nodes=26, max_depth=62, bootstrap=False \n",
      "[CV]  n_estimators=206, max_leaf_nodes=2, max_depth=33, bootstrap=True, total=   0.6s\n",
      "[CV] n_estimators=113, max_leaf_nodes=26, max_depth=62, bootstrap=False \n",
      "[CV]  n_estimators=206, max_leaf_nodes=2, max_depth=33, bootstrap=True, total=   0.6s\n",
      "[CV] n_estimators=113, max_leaf_nodes=26, max_depth=62, bootstrap=False \n",
      "[CV]  n_estimators=206, max_leaf_nodes=2, max_depth=33, bootstrap=True, total=   0.6s\n",
      "[CV] n_estimators=300, max_leaf_nodes=26, max_depth=5, bootstrap=False \n",
      "[CV]  n_estimators=113, max_leaf_nodes=26, max_depth=62, bootstrap=False, total=   0.5s\n",
      "[CV] n_estimators=300, max_leaf_nodes=26, max_depth=5, bootstrap=False \n",
      "[CV]  n_estimators=113, max_leaf_nodes=26, max_depth=62, bootstrap=False, total=   0.4s\n",
      "[CV] n_estimators=300, max_leaf_nodes=26, max_depth=5, bootstrap=False \n",
      "[CV]  n_estimators=113, max_leaf_nodes=26, max_depth=62, bootstrap=False, total=   0.4s\n",
      "[CV] n_estimators=300, max_leaf_nodes=17, max_depth=71, bootstrap=True \n",
      "[CV]  n_estimators=300, max_leaf_nodes=26, max_depth=5, bootstrap=False, total=   1.1s\n",
      "[CV] n_estimators=300, max_leaf_nodes=17, max_depth=71, bootstrap=True \n",
      "[CV]  n_estimators=300, max_leaf_nodes=26, max_depth=5, bootstrap=False, total=   1.1s\n",
      "[CV] n_estimators=300, max_leaf_nodes=17, max_depth=71, bootstrap=True \n",
      "[CV]  n_estimators=300, max_leaf_nodes=26, max_depth=5, bootstrap=False, total=   1.0s\n",
      "[CV] n_estimators=268, max_leaf_nodes=20, max_depth=14, bootstrap=True \n",
      "[CV]  n_estimators=300, max_leaf_nodes=17, max_depth=71, bootstrap=True, total=   0.9s\n",
      "[CV] n_estimators=268, max_leaf_nodes=20, max_depth=14, bootstrap=True \n",
      "[CV]  n_estimators=300, max_leaf_nodes=17, max_depth=71, bootstrap=True, total=   0.8s\n",
      "[CV] n_estimators=268, max_leaf_nodes=20, max_depth=14, bootstrap=True \n",
      "[CV]  n_estimators=300, max_leaf_nodes=17, max_depth=71, bootstrap=True, total=   0.8s\n",
      "[CV] n_estimators=268, max_leaf_nodes=20, max_depth=62, bootstrap=True \n",
      "[CV]  n_estimators=268, max_leaf_nodes=20, max_depth=14, bootstrap=True, total=   0.7s\n",
      "[CV] n_estimators=268, max_leaf_nodes=20, max_depth=62, bootstrap=True \n",
      "[CV]  n_estimators=268, max_leaf_nodes=20, max_depth=14, bootstrap=True, total=   0.7s\n",
      "[CV] n_estimators=268, max_leaf_nodes=20, max_depth=62, bootstrap=True \n",
      "[CV]  n_estimators=268, max_leaf_nodes=20, max_depth=14, bootstrap=True, total=   0.8s\n",
      "[CV] n_estimators=144, max_leaf_nodes=26, max_depth=14, bootstrap=True \n",
      "[CV]  n_estimators=268, max_leaf_nodes=20, max_depth=62, bootstrap=True, total=   0.8s\n",
      "[CV] n_estimators=144, max_leaf_nodes=26, max_depth=14, bootstrap=True \n",
      "[CV]  n_estimators=268, max_leaf_nodes=20, max_depth=62, bootstrap=True, total=   0.8s\n",
      "[CV] n_estimators=144, max_leaf_nodes=26, max_depth=14, bootstrap=True \n",
      "[CV]  n_estimators=268, max_leaf_nodes=20, max_depth=62, bootstrap=True, total=   0.8s\n",
      "[CV] n_estimators=144, max_leaf_nodes=5, max_depth=43, bootstrap=True \n",
      "[CV]  n_estimators=144, max_leaf_nodes=26, max_depth=14, bootstrap=True, total=   0.4s\n",
      "[CV] n_estimators=144, max_leaf_nodes=5, max_depth=43, bootstrap=True \n",
      "[CV]  n_estimators=144, max_leaf_nodes=26, max_depth=14, bootstrap=True, total=   0.5s\n",
      "[CV] n_estimators=144, max_leaf_nodes=5, max_depth=43, bootstrap=True \n",
      "[CV]  n_estimators=144, max_leaf_nodes=26, max_depth=14, bootstrap=True, total=   0.4s\n",
      "[CV] n_estimators=51, max_leaf_nodes=14, max_depth=71, bootstrap=False \n",
      "[CV]  n_estimators=144, max_leaf_nodes=5, max_depth=43, bootstrap=True, total=   0.4s\n",
      "[CV] n_estimators=51, max_leaf_nodes=14, max_depth=71, bootstrap=False \n",
      "[CV]  n_estimators=51, max_leaf_nodes=14, max_depth=71, bootstrap=False, total=   0.2s\n",
      "[CV] n_estimators=51, max_leaf_nodes=14, max_depth=71, bootstrap=False \n",
      "[CV]  n_estimators=51, max_leaf_nodes=14, max_depth=71, bootstrap=False, total=   0.1s\n",
      "[CV] n_estimators=113, max_leaf_nodes=20, max_depth=33, bootstrap=False \n",
      "[CV]  n_estimators=51, max_leaf_nodes=14, max_depth=71, bootstrap=False, total=   0.3s\n",
      "[CV] n_estimators=113, max_leaf_nodes=20, max_depth=33, bootstrap=False \n",
      "[CV]  n_estimators=144, max_leaf_nodes=5, max_depth=43, bootstrap=True, total=   0.6s\n",
      "[CV] n_estimators=113, max_leaf_nodes=20, max_depth=33, bootstrap=False \n",
      "[CV]  n_estimators=144, max_leaf_nodes=5, max_depth=43, bootstrap=True, total=   0.6s\n",
      "[CV] n_estimators=51, max_leaf_nodes=5, max_depth=14, bootstrap=True .\n",
      "[CV]  n_estimators=51, max_leaf_nodes=5, max_depth=14, bootstrap=True, total=   0.1s\n",
      "[CV] n_estimators=51, max_leaf_nodes=5, max_depth=14, bootstrap=True .\n",
      "[CV]  n_estimators=113, max_leaf_nodes=20, max_depth=33, bootstrap=False, total=   0.5s\n",
      "[CV] n_estimators=51, max_leaf_nodes=5, max_depth=14, bootstrap=True .\n",
      "[CV]  n_estimators=113, max_leaf_nodes=20, max_depth=33, bootstrap=False, total=   0.4s\n",
      "[CV] n_estimators=82, max_leaf_nodes=14, max_depth=71, bootstrap=True \n",
      "[CV]  n_estimators=51, max_leaf_nodes=5, max_depth=14, bootstrap=True, total=   0.2s\n",
      "[CV] n_estimators=82, max_leaf_nodes=14, max_depth=71, bootstrap=True \n",
      "[CV]  n_estimators=113, max_leaf_nodes=20, max_depth=33, bootstrap=False, total=   0.4s\n",
      "[CV] n_estimators=82, max_leaf_nodes=14, max_depth=71, bootstrap=True \n",
      "[CV]  n_estimators=51, max_leaf_nodes=5, max_depth=14, bootstrap=True, total=   0.2s\n",
      "[CV] n_estimators=20, max_leaf_nodes=5, max_depth=100, bootstrap=False \n",
      "[CV]  n_estimators=20, max_leaf_nodes=5, max_depth=100, bootstrap=False, total=   0.1s\n",
      "[CV] n_estimators=20, max_leaf_nodes=5, max_depth=100, bootstrap=False \n",
      "[CV]  n_estimators=20, max_leaf_nodes=5, max_depth=100, bootstrap=False, total=   0.0s\n",
      "[CV] n_estimators=20, max_leaf_nodes=5, max_depth=100, bootstrap=False \n",
      "[CV]  n_estimators=82, max_leaf_nodes=14, max_depth=71, bootstrap=True, total=   0.2s\n",
      "[CV] n_estimators=51, max_leaf_nodes=23, max_depth=14, bootstrap=False \n",
      "[CV]  n_estimators=20, max_leaf_nodes=5, max_depth=100, bootstrap=False, total=   0.1s\n",
      "[CV] n_estimators=51, max_leaf_nodes=23, max_depth=14, bootstrap=False \n",
      "[CV]  n_estimators=82, max_leaf_nodes=14, max_depth=71, bootstrap=True, total=   0.2s\n",
      "[CV] n_estimators=51, max_leaf_nodes=23, max_depth=14, bootstrap=False \n",
      "[CV]  n_estimators=82, max_leaf_nodes=14, max_depth=71, bootstrap=True, total=   0.2s\n",
      "[CV] n_estimators=268, max_leaf_nodes=5, max_depth=62, bootstrap=True \n",
      "[CV]  n_estimators=51, max_leaf_nodes=23, max_depth=14, bootstrap=False, total=   0.2s\n",
      "[CV]  n_estimators=51, max_leaf_nodes=23, max_depth=14, bootstrap=False, total=   0.1s\n",
      "[CV] n_estimators=268, max_leaf_nodes=5, max_depth=62, bootstrap=True \n",
      "[CV] n_estimators=268, max_leaf_nodes=5, max_depth=62, bootstrap=True \n",
      "[CV]  n_estimators=51, max_leaf_nodes=23, max_depth=14, bootstrap=False, total=   0.1s\n",
      "[CV] n_estimators=144, max_leaf_nodes=2, max_depth=100, bootstrap=False \n"
     ]
    },
    {
     "name": "stderr",
     "output_type": "stream",
     "text": [
      "[Parallel(n_jobs=-1)]: Done 154 tasks      | elapsed:   22.3s\n"
     ]
    },
    {
     "name": "stdout",
     "output_type": "stream",
     "text": [
      "[CV]  n_estimators=144, max_leaf_nodes=2, max_depth=100, bootstrap=False, total=   0.3s\n",
      "[CV] n_estimators=144, max_leaf_nodes=2, max_depth=100, bootstrap=False \n",
      "[CV]  n_estimators=268, max_leaf_nodes=5, max_depth=62, bootstrap=True, total=   0.6s\n",
      "[CV] n_estimators=144, max_leaf_nodes=2, max_depth=100, bootstrap=False \n",
      "[CV]  n_estimators=268, max_leaf_nodes=5, max_depth=62, bootstrap=True, total=   0.6s\n",
      "[CV] n_estimators=144, max_leaf_nodes=17, max_depth=33, bootstrap=True \n",
      "[CV]  n_estimators=268, max_leaf_nodes=5, max_depth=62, bootstrap=True, total=   0.7s\n",
      "[CV] n_estimators=144, max_leaf_nodes=17, max_depth=33, bootstrap=True \n",
      "[CV]  n_estimators=144, max_leaf_nodes=2, max_depth=100, bootstrap=False, total=   0.4s\n",
      "[CV] n_estimators=144, max_leaf_nodes=17, max_depth=33, bootstrap=True \n",
      "[CV]  n_estimators=144, max_leaf_nodes=2, max_depth=100, bootstrap=False, total=   0.4s\n",
      "[CV] n_estimators=144, max_leaf_nodes=20, max_depth=81, bootstrap=False \n",
      "[CV]  n_estimators=144, max_leaf_nodes=17, max_depth=33, bootstrap=True, total=   0.4s\n",
      "[CV] n_estimators=144, max_leaf_nodes=20, max_depth=81, bootstrap=False \n",
      "[CV]  n_estimators=144, max_leaf_nodes=17, max_depth=33, bootstrap=True, total=   0.4s\n",
      "[CV] n_estimators=144, max_leaf_nodes=20, max_depth=81, bootstrap=False \n",
      "[CV]  n_estimators=144, max_leaf_nodes=17, max_depth=33, bootstrap=True, total=   0.4s\n",
      "[CV] n_estimators=51, max_leaf_nodes=14, max_depth=43, bootstrap=False \n",
      "[CV]  n_estimators=51, max_leaf_nodes=14, max_depth=43, bootstrap=False, total=   0.1s\n",
      "[CV] n_estimators=51, max_leaf_nodes=14, max_depth=43, bootstrap=False \n",
      "[CV]  n_estimators=144, max_leaf_nodes=20, max_depth=81, bootstrap=False, total=   0.4s\n",
      "[CV] n_estimators=51, max_leaf_nodes=14, max_depth=43, bootstrap=False \n",
      "[CV]  n_estimators=51, max_leaf_nodes=14, max_depth=43, bootstrap=False, total=   0.1s\n",
      "[CV] n_estimators=113, max_leaf_nodes=11, max_depth=100, bootstrap=True \n",
      "[CV]  n_estimators=144, max_leaf_nodes=20, max_depth=81, bootstrap=False, total=   0.4s\n",
      "[CV] n_estimators=113, max_leaf_nodes=11, max_depth=100, bootstrap=True \n",
      "[CV]  n_estimators=51, max_leaf_nodes=14, max_depth=43, bootstrap=False, total=   0.2s\n",
      "[CV] n_estimators=113, max_leaf_nodes=11, max_depth=100, bootstrap=True \n",
      "[CV]  n_estimators=144, max_leaf_nodes=20, max_depth=81, bootstrap=False, total=   0.4s\n",
      "[CV] n_estimators=206, max_leaf_nodes=14, max_depth=71, bootstrap=True \n",
      "[CV]  n_estimators=113, max_leaf_nodes=11, max_depth=100, bootstrap=True, total=   0.3s\n",
      "[CV] n_estimators=206, max_leaf_nodes=14, max_depth=71, bootstrap=True \n",
      "[CV]  n_estimators=113, max_leaf_nodes=11, max_depth=100, bootstrap=True, total=   0.3s\n",
      "[CV]  n_estimators=113, max_leaf_nodes=11, max_depth=100, bootstrap=True, total=   0.3s\n",
      "[CV] n_estimators=206, max_leaf_nodes=14, max_depth=71, bootstrap=True \n",
      "[CV] n_estimators=237, max_leaf_nodes=5, max_depth=24, bootstrap=False \n",
      "[CV]  n_estimators=206, max_leaf_nodes=14, max_depth=71, bootstrap=True, total=   0.6s\n",
      "[CV] n_estimators=237, max_leaf_nodes=5, max_depth=24, bootstrap=False \n",
      "[CV]  n_estimators=206, max_leaf_nodes=14, max_depth=71, bootstrap=True, total=   0.5s\n",
      "[CV] n_estimators=237, max_leaf_nodes=5, max_depth=24, bootstrap=False \n",
      "[CV]  n_estimators=206, max_leaf_nodes=14, max_depth=71, bootstrap=True, total=   0.5s\n",
      "[CV] n_estimators=20, max_leaf_nodes=11, max_depth=71, bootstrap=False \n",
      "[CV]  n_estimators=237, max_leaf_nodes=5, max_depth=24, bootstrap=False, total=   0.5s\n",
      "[CV] n_estimators=20, max_leaf_nodes=11, max_depth=71, bootstrap=False \n",
      "[CV]  n_estimators=20, max_leaf_nodes=11, max_depth=71, bootstrap=False, total=   0.1s\n",
      "[CV] n_estimators=20, max_leaf_nodes=11, max_depth=71, bootstrap=False \n",
      "[CV]  n_estimators=20, max_leaf_nodes=11, max_depth=71, bootstrap=False, total=   0.1s\n",
      "[CV] n_estimators=237, max_leaf_nodes=5, max_depth=81, bootstrap=True \n",
      "[CV]  n_estimators=20, max_leaf_nodes=11, max_depth=71, bootstrap=False, total=   0.1s\n",
      "[CV] n_estimators=237, max_leaf_nodes=5, max_depth=81, bootstrap=True \n",
      "[CV]  n_estimators=237, max_leaf_nodes=5, max_depth=24, bootstrap=False, total=   0.6s\n",
      "[CV] n_estimators=237, max_leaf_nodes=5, max_depth=81, bootstrap=True \n",
      "[CV]  n_estimators=237, max_leaf_nodes=5, max_depth=24, bootstrap=False, total=   0.7s\n",
      "[CV] n_estimators=20, max_leaf_nodes=23, max_depth=52, bootstrap=False \n",
      "[CV]  n_estimators=20, max_leaf_nodes=23, max_depth=52, bootstrap=False, total=   0.0s\n",
      "[CV] n_estimators=20, max_leaf_nodes=23, max_depth=52, bootstrap=False \n",
      "[CV]  n_estimators=20, max_leaf_nodes=23, max_depth=52, bootstrap=False, total=   0.0s\n",
      "[CV]  n_estimators=237, max_leaf_nodes=5, max_depth=81, bootstrap=True, total=   0.6s\n",
      "[CV] n_estimators=20, max_leaf_nodes=23, max_depth=52, bootstrap=False \n",
      "[CV] n_estimators=268, max_leaf_nodes=26, max_depth=62, bootstrap=False \n",
      "[CV]  n_estimators=237, max_leaf_nodes=5, max_depth=81, bootstrap=True, total=   0.6s\n",
      "[CV] n_estimators=268, max_leaf_nodes=26, max_depth=62, bootstrap=False \n",
      "[CV]  n_estimators=20, max_leaf_nodes=23, max_depth=52, bootstrap=False, total=   0.1s\n",
      "[CV] n_estimators=268, max_leaf_nodes=26, max_depth=62, bootstrap=False \n",
      "[CV]  n_estimators=237, max_leaf_nodes=5, max_depth=81, bootstrap=True, total=   0.6s\n",
      "[CV] n_estimators=268, max_leaf_nodes=2, max_depth=43, bootstrap=True \n",
      "[CV]  n_estimators=268, max_leaf_nodes=26, max_depth=62, bootstrap=False, total=   0.9s\n",
      "[CV]  n_estimators=268, max_leaf_nodes=26, max_depth=62, bootstrap=False, total=   0.8s\n",
      "[CV] n_estimators=268, max_leaf_nodes=2, max_depth=43, bootstrap=True \n",
      "[CV] n_estimators=268, max_leaf_nodes=2, max_depth=43, bootstrap=True \n",
      "[CV]  n_estimators=268, max_leaf_nodes=26, max_depth=62, bootstrap=False, total=   0.9s\n",
      "[CV] n_estimators=144, max_leaf_nodes=29, max_depth=52, bootstrap=False \n",
      "[CV]  n_estimators=268, max_leaf_nodes=2, max_depth=43, bootstrap=True, total=   0.7s\n",
      "[CV] n_estimators=144, max_leaf_nodes=29, max_depth=52, bootstrap=False \n",
      "[CV]  n_estimators=144, max_leaf_nodes=29, max_depth=52, bootstrap=False, total=   0.4s\n",
      "[CV] n_estimators=144, max_leaf_nodes=29, max_depth=52, bootstrap=False \n",
      "[CV]  n_estimators=144, max_leaf_nodes=29, max_depth=52, bootstrap=False, total=   0.5s\n",
      "[CV] n_estimators=206, max_leaf_nodes=29, max_depth=5, bootstrap=True \n",
      "[CV]  n_estimators=268, max_leaf_nodes=2, max_depth=43, bootstrap=True, total=   0.7s\n",
      "[CV] n_estimators=206, max_leaf_nodes=29, max_depth=5, bootstrap=True \n",
      "[CV]  n_estimators=268, max_leaf_nodes=2, max_depth=43, bootstrap=True, total=   0.7s\n",
      "[CV] n_estimators=206, max_leaf_nodes=29, max_depth=5, bootstrap=True \n",
      "[CV]  n_estimators=144, max_leaf_nodes=29, max_depth=52, bootstrap=False, total=   0.4s\n",
      "[CV] n_estimators=51, max_leaf_nodes=20, max_depth=33, bootstrap=False \n",
      "[CV]  n_estimators=51, max_leaf_nodes=20, max_depth=33, bootstrap=False, total=   0.1s\n",
      "[CV] n_estimators=51, max_leaf_nodes=20, max_depth=33, bootstrap=False \n",
      "[CV]  n_estimators=206, max_leaf_nodes=29, max_depth=5, bootstrap=True, total=   0.5s\n",
      "[CV] n_estimators=51, max_leaf_nodes=20, max_depth=33, bootstrap=False \n",
      "[CV]  n_estimators=51, max_leaf_nodes=20, max_depth=33, bootstrap=False, total=   0.1s\n",
      "[CV] n_estimators=82, max_leaf_nodes=8, max_depth=43, bootstrap=True .\n",
      "[CV]  n_estimators=206, max_leaf_nodes=29, max_depth=5, bootstrap=True, total=   0.6s\n",
      "[CV] n_estimators=82, max_leaf_nodes=8, max_depth=43, bootstrap=True .\n",
      "[CV]  n_estimators=51, max_leaf_nodes=20, max_depth=33, bootstrap=False, total=   0.1s\n",
      "[CV] n_estimators=82, max_leaf_nodes=8, max_depth=43, bootstrap=True .\n",
      "[CV]  n_estimators=206, max_leaf_nodes=29, max_depth=5, bootstrap=True, total=   0.6s\n",
      "[CV] n_estimators=51, max_leaf_nodes=2, max_depth=33, bootstrap=False \n",
      "[CV]  n_estimators=51, max_leaf_nodes=2, max_depth=33, bootstrap=False, total=   0.3s\n",
      "[CV] n_estimators=51, max_leaf_nodes=2, max_depth=33, bootstrap=False \n",
      "[CV]  n_estimators=82, max_leaf_nodes=8, max_depth=43, bootstrap=True, total=   0.4s\n",
      "[CV] n_estimators=51, max_leaf_nodes=2, max_depth=33, bootstrap=False \n",
      "[CV]  n_estimators=82, max_leaf_nodes=8, max_depth=43, bootstrap=True, total=   0.4s\n",
      "[CV] n_estimators=175, max_leaf_nodes=14, max_depth=71, bootstrap=False \n",
      "[CV]  n_estimators=82, max_leaf_nodes=8, max_depth=43, bootstrap=True, total=   0.4s\n",
      "[CV] n_estimators=175, max_leaf_nodes=14, max_depth=71, bootstrap=False \n",
      "[CV]  n_estimators=51, max_leaf_nodes=2, max_depth=33, bootstrap=False, total=   0.1s\n",
      "[CV] n_estimators=175, max_leaf_nodes=14, max_depth=71, bootstrap=False \n",
      "[CV]  n_estimators=51, max_leaf_nodes=2, max_depth=33, bootstrap=False, total=   0.1s\n",
      "[CV] n_estimators=268, max_leaf_nodes=8, max_depth=90, bootstrap=False \n",
      "[CV]  n_estimators=175, max_leaf_nodes=14, max_depth=71, bootstrap=False, total=   0.4s\n",
      "[CV] n_estimators=268, max_leaf_nodes=8, max_depth=90, bootstrap=False \n",
      "[CV]  n_estimators=175, max_leaf_nodes=14, max_depth=71, bootstrap=False, total=   0.5s\n",
      "[CV] n_estimators=268, max_leaf_nodes=8, max_depth=90, bootstrap=False \n",
      "[CV]  n_estimators=175, max_leaf_nodes=14, max_depth=71, bootstrap=False, total=   0.5s\n",
      "[CV] n_estimators=51, max_leaf_nodes=2, max_depth=100, bootstrap=True \n",
      "[CV]  n_estimators=51, max_leaf_nodes=2, max_depth=100, bootstrap=True, total=   0.1s\n",
      "[CV] n_estimators=51, max_leaf_nodes=2, max_depth=100, bootstrap=True \n",
      "[CV]  n_estimators=51, max_leaf_nodes=2, max_depth=100, bootstrap=True, total=   0.1s\n",
      "[CV]  n_estimators=268, max_leaf_nodes=8, max_depth=90, bootstrap=False, total=   0.7s\n",
      "[CV] n_estimators=51, max_leaf_nodes=2, max_depth=100, bootstrap=True \n",
      "[CV] n_estimators=51, max_leaf_nodes=14, max_depth=71, bootstrap=True \n",
      "[CV]  n_estimators=51, max_leaf_nodes=2, max_depth=100, bootstrap=True, total=   0.1s\n",
      "[CV] n_estimators=51, max_leaf_nodes=14, max_depth=71, bootstrap=True \n",
      "[CV]  n_estimators=51, max_leaf_nodes=14, max_depth=71, bootstrap=True, total=   0.2s\n",
      "[CV] n_estimators=51, max_leaf_nodes=14, max_depth=71, bootstrap=True \n",
      "[CV]  n_estimators=51, max_leaf_nodes=14, max_depth=71, bootstrap=True, total=   0.1s\n",
      "[CV] n_estimators=82, max_leaf_nodes=11, max_depth=62, bootstrap=False \n",
      "[CV]  n_estimators=51, max_leaf_nodes=14, max_depth=71, bootstrap=True, total=   0.1s\n",
      "[CV] n_estimators=82, max_leaf_nodes=11, max_depth=62, bootstrap=False \n",
      "[CV]  n_estimators=268, max_leaf_nodes=8, max_depth=90, bootstrap=False, total=   0.7s\n",
      "[CV] n_estimators=82, max_leaf_nodes=11, max_depth=62, bootstrap=False \n",
      "[CV]  n_estimators=268, max_leaf_nodes=8, max_depth=90, bootstrap=False, total=   0.8s\n",
      "[CV] n_estimators=175, max_leaf_nodes=23, max_depth=100, bootstrap=True \n",
      "[CV]  n_estimators=82, max_leaf_nodes=11, max_depth=62, bootstrap=False, total=   0.2s\n",
      "[CV]  n_estimators=82, max_leaf_nodes=11, max_depth=62, bootstrap=False, total=   0.2s\n",
      "[CV] n_estimators=175, max_leaf_nodes=23, max_depth=100, bootstrap=True \n",
      "[CV] n_estimators=175, max_leaf_nodes=23, max_depth=100, bootstrap=True \n",
      "[CV]  n_estimators=82, max_leaf_nodes=11, max_depth=62, bootstrap=False, total=   0.2s\n",
      "[CV] n_estimators=113, max_leaf_nodes=29, max_depth=81, bootstrap=False \n",
      "[CV]  n_estimators=175, max_leaf_nodes=23, max_depth=100, bootstrap=True, total=   0.5s\n",
      "[CV] n_estimators=113, max_leaf_nodes=29, max_depth=81, bootstrap=False \n",
      "[CV]  n_estimators=113, max_leaf_nodes=29, max_depth=81, bootstrap=False, total=   0.3s\n",
      "[CV] n_estimators=113, max_leaf_nodes=29, max_depth=81, bootstrap=False \n",
      "[CV]  n_estimators=175, max_leaf_nodes=23, max_depth=100, bootstrap=True, total=   0.5s\n",
      "[CV]  n_estimators=175, max_leaf_nodes=23, max_depth=100, bootstrap=True, total=   0.5s\n",
      "[CV] n_estimators=237, max_leaf_nodes=11, max_depth=24, bootstrap=False \n",
      "[CV] n_estimators=237, max_leaf_nodes=11, max_depth=24, bootstrap=False \n",
      "[CV]  n_estimators=113, max_leaf_nodes=29, max_depth=81, bootstrap=False, total=   0.4s\n",
      "[CV] n_estimators=237, max_leaf_nodes=11, max_depth=24, bootstrap=False \n",
      "[CV]  n_estimators=113, max_leaf_nodes=29, max_depth=81, bootstrap=False, total=   0.3s\n",
      "[CV] n_estimators=206, max_leaf_nodes=8, max_depth=52, bootstrap=False \n",
      "[CV]  n_estimators=237, max_leaf_nodes=11, max_depth=24, bootstrap=False, total=   0.6s\n",
      "[CV]  n_estimators=237, max_leaf_nodes=11, max_depth=24, bootstrap=False, total=   0.6s\n",
      "[CV] n_estimators=206, max_leaf_nodes=8, max_depth=52, bootstrap=False \n",
      "[CV] n_estimators=206, max_leaf_nodes=8, max_depth=52, bootstrap=False \n",
      "[CV]  n_estimators=206, max_leaf_nodes=8, max_depth=52, bootstrap=False, total=   0.5s\n",
      "[CV] n_estimators=113, max_leaf_nodes=11, max_depth=100, bootstrap=False \n",
      "[CV]  n_estimators=237, max_leaf_nodes=11, max_depth=24, bootstrap=False, total=   0.6s\n",
      "[CV] n_estimators=113, max_leaf_nodes=11, max_depth=100, bootstrap=False \n",
      "[CV]  n_estimators=113, max_leaf_nodes=11, max_depth=100, bootstrap=False, total=   0.3s\n",
      "[CV] n_estimators=113, max_leaf_nodes=11, max_depth=100, bootstrap=False \n",
      "[CV]  n_estimators=206, max_leaf_nodes=8, max_depth=52, bootstrap=False, total=   0.5s\n",
      "[CV] n_estimators=237, max_leaf_nodes=14, max_depth=24, bootstrap=True \n",
      "[CV]  n_estimators=206, max_leaf_nodes=8, max_depth=52, bootstrap=False, total=   0.5s\n",
      "[CV] n_estimators=237, max_leaf_nodes=14, max_depth=24, bootstrap=True \n",
      "[CV]  n_estimators=113, max_leaf_nodes=11, max_depth=100, bootstrap=False, total=   0.3s\n",
      "[CV] n_estimators=237, max_leaf_nodes=14, max_depth=24, bootstrap=True \n",
      "[CV]  n_estimators=113, max_leaf_nodes=11, max_depth=100, bootstrap=False, total=   0.3s\n",
      "[CV] n_estimators=113, max_leaf_nodes=23, max_depth=5, bootstrap=True \n",
      "[CV]  n_estimators=113, max_leaf_nodes=23, max_depth=5, bootstrap=True, total=   0.3s\n",
      "[CV] n_estimators=113, max_leaf_nodes=23, max_depth=5, bootstrap=True \n",
      "[CV]  n_estimators=237, max_leaf_nodes=14, max_depth=24, bootstrap=True, total=   0.6s\n",
      "[CV]  n_estimators=237, max_leaf_nodes=14, max_depth=24, bootstrap=True, total=   0.5s\n",
      "[CV] n_estimators=113, max_leaf_nodes=23, max_depth=5, bootstrap=True \n",
      "[CV] n_estimators=82, max_leaf_nodes=17, max_depth=52, bootstrap=True \n",
      "[CV]  n_estimators=237, max_leaf_nodes=14, max_depth=24, bootstrap=True, total=   0.6s\n",
      "[CV] n_estimators=82, max_leaf_nodes=17, max_depth=52, bootstrap=True \n",
      "[CV]  n_estimators=82, max_leaf_nodes=17, max_depth=52, bootstrap=True, total=   0.2s\n",
      "[CV] n_estimators=82, max_leaf_nodes=17, max_depth=52, bootstrap=True \n",
      "[CV]  n_estimators=113, max_leaf_nodes=23, max_depth=5, bootstrap=True, total=   0.3s\n",
      "[CV] n_estimators=206, max_leaf_nodes=5, max_depth=52, bootstrap=False \n",
      "[CV]  n_estimators=82, max_leaf_nodes=17, max_depth=52, bootstrap=True, total=   0.3s\n",
      "[CV] n_estimators=206, max_leaf_nodes=5, max_depth=52, bootstrap=False \n",
      "[CV]  n_estimators=113, max_leaf_nodes=23, max_depth=5, bootstrap=True, total=   0.4s\n",
      "[CV] n_estimators=206, max_leaf_nodes=5, max_depth=52, bootstrap=False \n",
      "[CV]  n_estimators=82, max_leaf_nodes=17, max_depth=52, bootstrap=True, total=   0.3s\n",
      "[CV] n_estimators=144, max_leaf_nodes=29, max_depth=5, bootstrap=False \n",
      "[CV]  n_estimators=206, max_leaf_nodes=5, max_depth=52, bootstrap=False, total=   0.6s\n",
      "[CV] n_estimators=144, max_leaf_nodes=29, max_depth=5, bootstrap=False \n",
      "[CV]  n_estimators=206, max_leaf_nodes=5, max_depth=52, bootstrap=False, total=   0.5s\n",
      "[CV] n_estimators=144, max_leaf_nodes=29, max_depth=5, bootstrap=False \n",
      "[CV]  n_estimators=206, max_leaf_nodes=5, max_depth=52, bootstrap=False, total=   0.5s\n",
      "[CV] n_estimators=20, max_leaf_nodes=29, max_depth=100, bootstrap=False \n",
      "[CV]  n_estimators=144, max_leaf_nodes=29, max_depth=5, bootstrap=False, total=   0.4s\n",
      "[CV] n_estimators=20, max_leaf_nodes=29, max_depth=100, bootstrap=False \n",
      "[CV]  n_estimators=20, max_leaf_nodes=29, max_depth=100, bootstrap=False, total=   0.1s\n",
      "[CV] n_estimators=20, max_leaf_nodes=29, max_depth=100, bootstrap=False \n",
      "[CV]  n_estimators=20, max_leaf_nodes=29, max_depth=100, bootstrap=False, total=   0.1s\n",
      "[CV] n_estimators=175, max_leaf_nodes=17, max_depth=52, bootstrap=True \n",
      "[CV]  n_estimators=20, max_leaf_nodes=29, max_depth=100, bootstrap=False, total=   0.1s\n",
      "[CV] n_estimators=175, max_leaf_nodes=17, max_depth=52, bootstrap=True \n",
      "[CV]  n_estimators=144, max_leaf_nodes=29, max_depth=5, bootstrap=False, total=   0.4s\n",
      "[CV] n_estimators=175, max_leaf_nodes=17, max_depth=52, bootstrap=True \n",
      "[CV]  n_estimators=144, max_leaf_nodes=29, max_depth=5, bootstrap=False, total=   0.4s\n",
      "[CV] n_estimators=144, max_leaf_nodes=14, max_depth=71, bootstrap=True \n",
      "[CV]  n_estimators=175, max_leaf_nodes=17, max_depth=52, bootstrap=True, total=   0.4s\n",
      "[CV] n_estimators=144, max_leaf_nodes=14, max_depth=71, bootstrap=True \n",
      "[CV]  n_estimators=175, max_leaf_nodes=17, max_depth=52, bootstrap=True, total=   0.4s\n",
      "[CV] n_estimators=144, max_leaf_nodes=14, max_depth=71, bootstrap=True \n",
      "[CV]  n_estimators=144, max_leaf_nodes=14, max_depth=71, bootstrap=True, total=   0.3s\n",
      "[CV] n_estimators=300, max_leaf_nodes=23, max_depth=90, bootstrap=True \n",
      "[CV]  n_estimators=175, max_leaf_nodes=17, max_depth=52, bootstrap=True, total=   0.4s\n",
      "[CV] n_estimators=300, max_leaf_nodes=23, max_depth=90, bootstrap=True \n",
      "[CV]  n_estimators=144, max_leaf_nodes=14, max_depth=71, bootstrap=True, total=   0.4s\n",
      "[CV] n_estimators=300, max_leaf_nodes=23, max_depth=90, bootstrap=True \n",
      "[CV]  n_estimators=144, max_leaf_nodes=14, max_depth=71, bootstrap=True, total=   0.4s\n",
      "[CV] n_estimators=20, max_leaf_nodes=2, max_depth=14, bootstrap=True .\n",
      "[CV]  n_estimators=20, max_leaf_nodes=2, max_depth=14, bootstrap=True, total=   0.0s\n",
      "[CV] n_estimators=20, max_leaf_nodes=2, max_depth=14, bootstrap=True .\n",
      "[CV]  n_estimators=20, max_leaf_nodes=2, max_depth=14, bootstrap=True, total=   0.1s\n",
      "[CV] n_estimators=20, max_leaf_nodes=2, max_depth=14, bootstrap=True .\n",
      "[CV]  n_estimators=20, max_leaf_nodes=2, max_depth=14, bootstrap=True, total=   0.0s\n",
      "[CV] n_estimators=237, max_leaf_nodes=2, max_depth=52, bootstrap=True \n",
      "[CV]  n_estimators=300, max_leaf_nodes=23, max_depth=90, bootstrap=True, total=   0.8s\n",
      "[CV] n_estimators=237, max_leaf_nodes=2, max_depth=52, bootstrap=True \n",
      "[CV]  n_estimators=300, max_leaf_nodes=23, max_depth=90, bootstrap=True, total=   0.9s\n",
      "[CV] n_estimators=237, max_leaf_nodes=2, max_depth=52, bootstrap=True \n",
      "[CV]  n_estimators=237, max_leaf_nodes=2, max_depth=52, bootstrap=True, total=   0.7s\n",
      "[CV] n_estimators=206, max_leaf_nodes=11, max_depth=81, bootstrap=False \n",
      "[CV]  n_estimators=300, max_leaf_nodes=23, max_depth=90, bootstrap=True, total=   0.9s\n",
      "[CV] n_estimators=206, max_leaf_nodes=11, max_depth=81, bootstrap=False \n",
      "[CV]  n_estimators=237, max_leaf_nodes=2, max_depth=52, bootstrap=True, total=   0.7s\n",
      "[CV] n_estimators=206, max_leaf_nodes=11, max_depth=81, bootstrap=False \n",
      "[CV]  n_estimators=237, max_leaf_nodes=2, max_depth=52, bootstrap=True, total=   0.7s\n",
      "[CV] n_estimators=82, max_leaf_nodes=20, max_depth=62, bootstrap=False \n",
      "[CV]  n_estimators=206, max_leaf_nodes=11, max_depth=81, bootstrap=False, total=   0.7s\n",
      "[CV] n_estimators=82, max_leaf_nodes=20, max_depth=62, bootstrap=False \n",
      "[CV]  n_estimators=206, max_leaf_nodes=11, max_depth=81, bootstrap=False, total=   0.7s\n",
      "[CV] n_estimators=82, max_leaf_nodes=20, max_depth=62, bootstrap=False \n",
      "[CV]  n_estimators=82, max_leaf_nodes=20, max_depth=62, bootstrap=False, total=   0.2s\n",
      "[CV] n_estimators=175, max_leaf_nodes=26, max_depth=43, bootstrap=True \n",
      "[CV]  n_estimators=82, max_leaf_nodes=20, max_depth=62, bootstrap=False, total=   0.2s\n",
      "[CV] n_estimators=175, max_leaf_nodes=26, max_depth=43, bootstrap=True \n",
      "[CV]  n_estimators=82, max_leaf_nodes=20, max_depth=62, bootstrap=False, total=   0.3s\n",
      "[CV] n_estimators=175, max_leaf_nodes=26, max_depth=43, bootstrap=True \n",
      "[CV]  n_estimators=206, max_leaf_nodes=11, max_depth=81, bootstrap=False, total=   0.7s\n",
      "[CV] n_estimators=51, max_leaf_nodes=26, max_depth=52, bootstrap=True \n",
      "[CV]  n_estimators=51, max_leaf_nodes=26, max_depth=52, bootstrap=True, total=   0.2s\n",
      "[CV] n_estimators=51, max_leaf_nodes=26, max_depth=52, bootstrap=True \n",
      "[CV]  n_estimators=175, max_leaf_nodes=26, max_depth=43, bootstrap=True, total=   0.6s\n",
      "[CV] n_estimators=51, max_leaf_nodes=26, max_depth=52, bootstrap=True \n",
      "[CV]  n_estimators=51, max_leaf_nodes=26, max_depth=52, bootstrap=True, total=   0.2s\n",
      "[CV] n_estimators=20, max_leaf_nodes=17, max_depth=33, bootstrap=True \n",
      "[CV]  n_estimators=20, max_leaf_nodes=17, max_depth=33, bootstrap=True, total=   0.1s\n",
      "[CV] n_estimators=20, max_leaf_nodes=17, max_depth=33, bootstrap=True \n",
      "[CV]  n_estimators=175, max_leaf_nodes=26, max_depth=43, bootstrap=True, total=   0.7s\n",
      "[CV] n_estimators=20, max_leaf_nodes=17, max_depth=33, bootstrap=True \n",
      "[CV]  n_estimators=51, max_leaf_nodes=26, max_depth=52, bootstrap=True, total=   0.2s\n",
      "[CV] n_estimators=51, max_leaf_nodes=11, max_depth=100, bootstrap=False \n",
      "[CV]  n_estimators=20, max_leaf_nodes=17, max_depth=33, bootstrap=True, total=   0.1s\n",
      "[CV] n_estimators=51, max_leaf_nodes=11, max_depth=100, bootstrap=False \n",
      "[CV]  n_estimators=20, max_leaf_nodes=17, max_depth=33, bootstrap=True, total=   0.1s\n",
      "[CV] n_estimators=51, max_leaf_nodes=11, max_depth=100, bootstrap=False \n",
      "[CV]  n_estimators=175, max_leaf_nodes=26, max_depth=43, bootstrap=True, total=   0.7s\n",
      "[CV] n_estimators=300, max_leaf_nodes=5, max_depth=71, bootstrap=True \n",
      "[CV]  n_estimators=51, max_leaf_nodes=11, max_depth=100, bootstrap=False, total=   0.1s\n",
      "[CV] n_estimators=300, max_leaf_nodes=5, max_depth=71, bootstrap=True \n",
      "[CV]  n_estimators=51, max_leaf_nodes=11, max_depth=100, bootstrap=False, total=   0.1s\n",
      "[CV] n_estimators=300, max_leaf_nodes=5, max_depth=71, bootstrap=True \n",
      "[CV]  n_estimators=51, max_leaf_nodes=11, max_depth=100, bootstrap=False, total=   0.1s\n",
      "[CV] n_estimators=237, max_leaf_nodes=2, max_depth=81, bootstrap=True \n",
      "[CV]  n_estimators=300, max_leaf_nodes=5, max_depth=71, bootstrap=True, total=   0.7s\n",
      "[CV]  n_estimators=237, max_leaf_nodes=2, max_depth=81, bootstrap=True, total=   0.5s\n",
      "[CV] n_estimators=237, max_leaf_nodes=2, max_depth=81, bootstrap=True \n",
      "[CV] n_estimators=237, max_leaf_nodes=2, max_depth=81, bootstrap=True \n",
      "[CV]  n_estimators=300, max_leaf_nodes=5, max_depth=71, bootstrap=True, total=   0.7s\n",
      "[CV]  n_estimators=300, max_leaf_nodes=5, max_depth=71, bootstrap=True, total=   0.7s\n",
      "[CV]  n_estimators=237, max_leaf_nodes=2, max_depth=81, bootstrap=True, total=   0.4s\n",
      "[CV]  n_estimators=237, max_leaf_nodes=2, max_depth=81, bootstrap=True, total=   0.3s\n"
     ]
    },
    {
     "name": "stderr",
     "output_type": "stream",
     "text": [
      "[Parallel(n_jobs=-1)]: Done 300 out of 300 | elapsed:   37.8s finished\n"
     ]
    },
    {
     "data": {
      "text/plain": [
       "RandomizedSearchCV(cv=3, error_score='raise',\n",
       "          estimator=RandomForestRegressor(bootstrap=True, criterion='mse', max_depth=None,\n",
       "           max_features='auto', max_leaf_nodes=None,\n",
       "           min_impurity_decrease=0.0, min_impurity_split=None,\n",
       "           min_samples_leaf=1, min_samples_split=2,\n",
       "           min_weight_fraction_leaf=0.0, n_estimators=10, n_jobs=1,\n",
       "           oob_score=False, random_state=None, verbose=0, warm_start=False),\n",
       "          fit_params=None, iid=True, n_iter=100, n_jobs=-1,\n",
       "          param_distributions={'n_estimators': [20, 51, 82, 113, 144, 175, 206, 237, 268, 300], 'max_depth': [5, 14, 24, 33, 43, 52, 62, 71, 81, 90, 100], 'max_leaf_nodes': range(2, 30, 3), 'bootstrap': [True, False]},\n",
       "          pre_dispatch='2*n_jobs', random_state=42, refit=True,\n",
       "          return_train_score=True, scoring=None, verbose=2)"
      ]
     },
     "execution_count": 133,
     "metadata": {},
     "output_type": "execute_result"
    }
   ],
   "source": [
    "from sklearn.model_selection import RandomizedSearchCV\n",
    "# Use the random grid to search for best hyperparameters\n",
    "# First create the base model to tune\n",
    "rf = RandomForestRegressor()\n",
    "# Random search of parameters, using 3 fold cross validation, \n",
    "# search across 100 different combinations, and use all available cores\n",
    "rf_random = RandomizedSearchCV(estimator = rf, param_distributions = random_grid, n_iter = 100, cv = 3, verbose=2, random_state=42, n_jobs = -1)\n",
    "# Fit the random search model\n",
    "rf_random.fit(X_train, y_train)\n"
   ]
  },
  {
   "cell_type": "code",
   "execution_count": 135,
   "metadata": {},
   "outputs": [
    {
     "name": "stdout",
     "output_type": "stream",
     "text": [
      "Model Performance\n",
      "Average Error: 0.5620 degrees.\n",
      "Accuracy = 65.90%.\n",
      "MAPE = 34.10%.\n",
      "Model Performance\n",
      "Average Error: 0.5628 degrees.\n",
      "Accuracy = 64.95%.\n",
      "MAPE = 35.05%.\n",
      "Improvement of -1.45%.\n"
     ]
    }
   ],
   "source": [
    "def evaluate(model, test_features, test_labels):\n",
    "    predictions = model.predict(test_features)\n",
    "    errors = abs(predictions - test_labels)\n",
    "    mape = 100 * np.mean(errors / test_labels)\n",
    "    accuracy = 100 - mape\n",
    "    print('Model Performance')\n",
    "    print('Average Error: {:0.4f} degrees.'.format(np.mean(errors)))\n",
    "    print('Accuracy = {:0.2f}%.'.format(accuracy))\n",
    "    print('MAPE = {:0.2f}%.'.format(mape))\n",
    "    \n",
    "    return accuracy\n",
    "base_model = RandomForestRegressor(max_depth=6, n_estimators=30, n_jobs=-1, max_leaf_nodes=30, random_state=99)\n",
    "# base_model = RandomForestRegressor(n_estimators = 10, random_state = 42)\n",
    "base_model.fit(X_train, y_train)\n",
    "base_accuracy = evaluate(base_model, X_test, y_test)\n",
    "best_random = rf_random.best_estimator_\n",
    "random_accuracy = evaluate(best_random, X_test, y_test)\n",
    "print('Improvement of {:0.2f}%.'.format( 100 * (random_accuracy - base_accuracy) / base_accuracy))\n"
   ]
  },
  {
   "cell_type": "code",
   "execution_count": 180,
   "metadata": {},
   "outputs": [
    {
     "data": {
      "text/plain": [
       "[<matplotlib.lines.Line2D at 0x113ece6a0>]"
      ]
     },
     "execution_count": 180,
     "metadata": {},
     "output_type": "execute_result"
    },
    {
     "data": {
      "image/png": "[encoded data removed]",
      "text/plain": [
       "<matplotlib.figure.Figure at 0x15ad8f978>"
      ]
     },
     "metadata": {},
     "output_type": "display_data"
    }
   ],
   "source": [
    "fig = plt.figure(figsize=(12,8))\n",
    "ax = fig.add_subplot(111)\n",
    "\n",
    "# ax.scatter(y_test, base_model.predict(X_test), color='steelblue', alpha=0.3)\n",
    "ax.scatter(y_test, predicted, color='limegreen', alpha=0.3)\n",
    "ax.scatter(y_test, p_OS, color='steelblue', alpha=0.3)\n",
    "\n",
    "ax.plot([0,10], [0,10], 'r')\n"
   ]
  },
  {
   "cell_type": "code",
   "execution_count": 142,
   "metadata": {},
   "outputs": [],
   "source": [
    "from sklearn import linear_model"
   ]
  },
  {
   "cell_type": "code",
   "execution_count": 143,
   "metadata": {},
   "outputs": [
    {
     "name": "stdout",
     "output_type": "stream",
     "text": [
      "The R-squared we found for IS OLS is: 0.24207479517596073\n",
      "The R-squared we found for OS OLS is: 0.2223233780519529\n"
     ]
    }
   ],
   "source": [
    "#OLS\n",
    "# Create linear regression object\n",
    "model = linear_model.LinearRegression(fit_intercept=False)\n",
    "\n",
    "# Train the model using the training set\n",
    "model.fit(X=X_train, y=y_train)\n",
    "\n",
    "# Make predictions using the testing set\n",
    "predicted = model.predict(X_test)\n",
    "\n",
    "# Find R^2 for InSample (train sample)\n",
    "R_2_IS = model.score(X=X_train, y=y_train)\n",
    "\n",
    "# Find R^2 for OutSample (test sample)\n",
    "R_2_OS = model.score(X=X_test, y=y_test)\n",
    "\n",
    "# A worse model will give negative R^2\n",
    "print(\"The R-squared we found for IS OLS is: {0}\".format(R_2_IS))\n",
    "print(\"The R-squared we found for OS OLS is: {0}\".format(R_2_OS))"
   ]
  },
  {
   "cell_type": "code",
   "execution_count": 166,
   "metadata": {},
   "outputs": [
    {
     "name": "stdout",
     "output_type": "stream",
     "text": [
      "The R-squared we found for IS Lasso is: 0.04421274461993452\n",
      "The R-squared we found for OS Lasso is: 0.05566243173213869\n"
     ]
    }
   ],
   "source": [
    "#For Lasso\n",
    "lasso_alpha=300\n",
    "\n",
    "# Create Lasso regression object\n",
    "Lasso=linear_model.Lasso(fit_intercept=True, alpha=lasso_alpha)\n",
    "\n",
    "# Train the model using the training set\n",
    "Lasso.fit(X_train, y_train)\n",
    "\n",
    "# Prediction on the InSample data (train) \n",
    "p_IS=Lasso.predict(X_train)\n",
    "\n",
    "# InSample R^2: \n",
    "print(\"The R-squared we found for IS Lasso is: {0}\".format(Lasso.score(X=X_train, y=y_train)))\n",
    "\n",
    "# Prediction on the OutSample data (test) \n",
    "p_OS=Lasso.predict(X_test)\n",
    "\n",
    "# OutSample R^2: \n",
    "print(\"The R-squared we found for OS Lasso is: {0}\".format(Lasso.score(X=X_test, y=y_test)))"
   ]
  },
  {
   "cell_type": "code",
   "execution_count": 178,
   "metadata": {},
   "outputs": [
    {
     "name": "stdout",
     "output_type": "stream",
     "text": [
      "The R-squared we found for IS Ridge is: 0.24381298940012197\n",
      "The R-squared we found for OS Ridge is: 0.23639815625391317\n"
     ]
    }
   ],
   "source": [
    "# For Ridge\n",
    "ridge_alpha = 10\n",
    "\n",
    "# Create Ridge regression object\n",
    "Ridge=linear_model.Ridge(fit_intercept=True,alpha=ridge_alpha) \n",
    "\n",
    "# Train the model using the training set\n",
    "Ridge.fit(X_train, y_train)\n",
    "\n",
    "# Prediction on the InSample data (train) \n",
    "p_IS=Ridge.predict(X_train)\n",
    "\n",
    "# InSample R^2: \n",
    "print(\"The R-squared we found for IS Ridge is: {0}\".format(Ridge.score(X_train, y_train)))\n",
    "    \n",
    "# Prediction on the OutSample data (test) \n",
    "p_OS=Ridge.predict(X_test)\n",
    "\n",
    "# OutSample R^2: \n",
    "print(\"The R-squared we found for OS Ridge is: {0}\".format(Ridge.score(X_test,y_test)))"
   ]
  },
  {
   "cell_type": "code",
   "execution_count": 151,
   "metadata": {},
   "outputs": [
    {
     "ename": "AttributeError",
     "evalue": "'LinearRegression' object has no attribute 'summary'",
     "output_type": "error",
     "traceback": [
      "\u001b[0;31m---------------------------------------------------------------------------\u001b[0m",
      "\u001b[0;31mAttributeError\u001b[0m                            Traceback (most recent call last)",
      "\u001b[0;32m<ipython-input-151-5f15418b3570>\u001b[0m in \u001b[0;36m<module>\u001b[0;34m()\u001b[0m\n\u001b[0;32m----> 1\u001b[0;31m \u001b[0mmodel\u001b[0m\u001b[0;34m.\u001b[0m\u001b[0msummary\u001b[0m\u001b[0;34m(\u001b[0m\u001b[0;34m)\u001b[0m\u001b[0;34m\u001b[0m\u001b[0m\n\u001b[0m",
      "\u001b[0;31mAttributeError\u001b[0m: 'LinearRegression' object has no attribute 'summary'"
     ]
    }
   ],
   "source": [
    "model.summary()"
   ]
  },
  {
   "cell_type": "code",
   "execution_count": 153,
   "metadata": {},
   "outputs": [
    {
     "data": {
      "text/plain": [
       "0.9326251925524984"
      ]
     },
     "execution_count": 153,
     "metadata": {},
     "output_type": "execute_result"
    }
   ],
   "source": [
    "mean_squared_error(y_test, predicted)"
   ]
  },
  {
   "cell_type": "code",
   "execution_count": 155,
   "metadata": {},
   "outputs": [
    {
     "data": {
      "text/plain": [
       "(0.00511587271719775, 0.9657116652494365)"
      ]
     },
     "execution_count": 155,
     "metadata": {},
     "output_type": "execute_result"
    }
   ],
   "source": [
    "mean(list(predicted - y_test)), std(list(predicted - y_test))"
   ]
  },
  {
   "cell_type": "code",
   "execution_count": null,
   "metadata": {},
   "outputs": [],
   "source": [
    "from sklearn.model_selection import GridSearchCV\n",
    "param_grid ={'alpha':np.logspace(-4, 0, 200)}\n",
    "\n",
    "OS=[]\n",
    "for i in range(10):\n",
    "    X_train, X_test, y_train, y_test = train_test_split(X, y, test_size = 0.4, random_state = i)\n",
    "    rid=linear_model.Ridge()\n",
    "    gr=GridSearchCV(rid,param_grid=param_grid)\n",
    "    rs=gr.fit(X_train,y_train)\n",
    "    print rs.best_params_\n",
    "    OS.append(1-((rs.predict(X_test)-y_test)**2).mean()/y_test.var())\n",
    "print np.mean(OS)"
   ]
  },
  {
   "cell_type": "code",
   "execution_count": 49,
   "metadata": {},
   "outputs": [
    {
     "data": {
      "text/plain": [
       "200"
      ]
     },
     "execution_count": 49,
     "metadata": {},
     "output_type": "execute_result"
    }
   ],
   "source": [
    "len(list(range(1,100000,500)))"
   ]
  },
  {
   "cell_type": "code",
   "execution_count": 55,
   "metadata": {},
   "outputs": [
    {
     "ename": "KeyboardInterrupt",
     "evalue": "",
     "output_type": "error",
     "traceback": [
      "\u001b[0;31m---------------------------------------------------------------------------\u001b[0m",
      "\u001b[0;31mKeyboardInterrupt\u001b[0m                         Traceback (most recent call last)",
      "\u001b[0;32m<ipython-input-55-5e645aadabe4>\u001b[0m in \u001b[0;36m<module>\u001b[0;34m()\u001b[0m\n\u001b[1;32m      5\u001b[0m \u001b[0mrf\u001b[0m \u001b[0;34m=\u001b[0m \u001b[0mRandomForestRegressor\u001b[0m\u001b[0;34m(\u001b[0m\u001b[0mn_jobs\u001b[0m\u001b[0;34m=\u001b[0m\u001b[0;34m-\u001b[0m\u001b[0;36m1\u001b[0m\u001b[0;34m)\u001b[0m\u001b[0;34m\u001b[0m\u001b[0m\n\u001b[1;32m      6\u001b[0m \u001b[0mgs\u001b[0m \u001b[0;34m=\u001b[0m \u001b[0mGridSearchCV\u001b[0m\u001b[0;34m(\u001b[0m\u001b[0mrf\u001b[0m\u001b[0;34m,\u001b[0m\u001b[0mparam_grid\u001b[0m\u001b[0;34m=\u001b[0m\u001b[0mparam_grid\u001b[0m\u001b[0;34m,\u001b[0m\u001b[0mscoring\u001b[0m\u001b[0;34m=\u001b[0m\u001b[0;34m'neg_mean_squared_error'\u001b[0m\u001b[0;34m)\u001b[0m\u001b[0;34m\u001b[0m\u001b[0m\n\u001b[0;32m----> 7\u001b[0;31m \u001b[0mrs\u001b[0m \u001b[0;34m=\u001b[0m \u001b[0mgs\u001b[0m\u001b[0;34m.\u001b[0m\u001b[0mfit\u001b[0m\u001b[0;34m(\u001b[0m\u001b[0mX_train\u001b[0m\u001b[0;34m,\u001b[0m\u001b[0my_train\u001b[0m\u001b[0;34m)\u001b[0m\u001b[0;34m\u001b[0m\u001b[0m\n\u001b[0m\u001b[1;32m      8\u001b[0m \u001b[0mprint\u001b[0m\u001b[0;34m(\u001b[0m\u001b[0mrs\u001b[0m\u001b[0;34m.\u001b[0m\u001b[0mbest_params_\u001b[0m\u001b[0;34m)\u001b[0m\u001b[0;34m\u001b[0m\u001b[0m\n",
      "\u001b[0;32m~/anaconda/lib/python3.6/site-packages/sklearn/model_selection/_search.py\u001b[0m in \u001b[0;36mfit\u001b[0;34m(self, X, y, groups, **fit_params)\u001b[0m\n\u001b[1;32m    636\u001b[0m                                   error_score=self.error_score)\n\u001b[1;32m    637\u001b[0m           for parameters, (train, test) in product(candidate_params,\n\u001b[0;32m--> 638\u001b[0;31m                                                    cv.split(X, y, groups)))\n\u001b[0m\u001b[1;32m    639\u001b[0m \u001b[0;34m\u001b[0m\u001b[0m\n\u001b[1;32m    640\u001b[0m         \u001b[0;31m# if one choose to see train score, \"out\" will contain train score info\u001b[0m\u001b[0;34m\u001b[0m\u001b[0;34m\u001b[0m\u001b[0m\n",
      "\u001b[0;32m~/anaconda/lib/python3.6/site-packages/sklearn/externals/joblib/parallel.py\u001b[0m in \u001b[0;36m__call__\u001b[0;34m(self, iterable)\u001b[0m\n\u001b[1;32m    777\u001b[0m             \u001b[0;31m# was dispatched. In particular this covers the edge\u001b[0m\u001b[0;34m\u001b[0m\u001b[0;34m\u001b[0m\u001b[0m\n\u001b[1;32m    778\u001b[0m             \u001b[0;31m# case of Parallel used with an exhausted iterator.\u001b[0m\u001b[0;34m\u001b[0m\u001b[0;34m\u001b[0m\u001b[0m\n\u001b[0;32m--> 779\u001b[0;31m             \u001b[0;32mwhile\u001b[0m \u001b[0mself\u001b[0m\u001b[0;34m.\u001b[0m\u001b[0mdispatch_one_batch\u001b[0m\u001b[0;34m(\u001b[0m\u001b[0miterator\u001b[0m\u001b[0;34m)\u001b[0m\u001b[0;34m:\u001b[0m\u001b[0;34m\u001b[0m\u001b[0m\n\u001b[0m\u001b[1;32m    780\u001b[0m                 \u001b[0mself\u001b[0m\u001b[0;34m.\u001b[0m\u001b[0m_iterating\u001b[0m \u001b[0;34m=\u001b[0m \u001b[0;32mTrue\u001b[0m\u001b[0;34m\u001b[0m\u001b[0m\n\u001b[1;32m    781\u001b[0m             \u001b[0;32melse\u001b[0m\u001b[0;34m:\u001b[0m\u001b[0;34m\u001b[0m\u001b[0m\n",
      "\u001b[0;32m~/anaconda/lib/python3.6/site-packages/sklearn/externals/joblib/parallel.py\u001b[0m in \u001b[0;36mdispatch_one_batch\u001b[0;34m(self, iterator)\u001b[0m\n\u001b[1;32m    623\u001b[0m                 \u001b[0;32mreturn\u001b[0m \u001b[0;32mFalse\u001b[0m\u001b[0;34m\u001b[0m\u001b[0m\n\u001b[1;32m    624\u001b[0m             \u001b[0;32melse\u001b[0m\u001b[0;34m:\u001b[0m\u001b[0;34m\u001b[0m\u001b[0m\n\u001b[0;32m--> 625\u001b[0;31m                 \u001b[0mself\u001b[0m\u001b[0;34m.\u001b[0m\u001b[0m_dispatch\u001b[0m\u001b[0;34m(\u001b[0m\u001b[0mtasks\u001b[0m\u001b[0;34m)\u001b[0m\u001b[0;34m\u001b[0m\u001b[0m\n\u001b[0m\u001b[1;32m    626\u001b[0m                 \u001b[0;32mreturn\u001b[0m \u001b[0;32mTrue\u001b[0m\u001b[0;34m\u001b[0m\u001b[0m\n\u001b[1;32m    627\u001b[0m \u001b[0;34m\u001b[0m\u001b[0m\n",
      "\u001b[0;32m~/anaconda/lib/python3.6/site-packages/sklearn/externals/joblib/parallel.py\u001b[0m in \u001b[0;36m_dispatch\u001b[0;34m(self, batch)\u001b[0m\n\u001b[1;32m    586\u001b[0m         \u001b[0mdispatch_timestamp\u001b[0m \u001b[0;34m=\u001b[0m \u001b[0mtime\u001b[0m\u001b[0;34m.\u001b[0m\u001b[0mtime\u001b[0m\u001b[0;34m(\u001b[0m\u001b[0;34m)\u001b[0m\u001b[0;34m\u001b[0m\u001b[0m\n\u001b[1;32m    587\u001b[0m         \u001b[0mcb\u001b[0m \u001b[0;34m=\u001b[0m \u001b[0mBatchCompletionCallBack\u001b[0m\u001b[0;34m(\u001b[0m\u001b[0mdispatch_timestamp\u001b[0m\u001b[0;34m,\u001b[0m \u001b[0mlen\u001b[0m\u001b[0;34m(\u001b[0m\u001b[0mbatch\u001b[0m\u001b[0;34m)\u001b[0m\u001b[0;34m,\u001b[0m \u001b[0mself\u001b[0m\u001b[0;34m)\u001b[0m\u001b[0;34m\u001b[0m\u001b[0m\n\u001b[0;32m--> 588\u001b[0;31m         \u001b[0mjob\u001b[0m \u001b[0;34m=\u001b[0m \u001b[0mself\u001b[0m\u001b[0;34m.\u001b[0m\u001b[0m_backend\u001b[0m\u001b[0;34m.\u001b[0m\u001b[0mapply_async\u001b[0m\u001b[0;34m(\u001b[0m\u001b[0mbatch\u001b[0m\u001b[0;34m,\u001b[0m \u001b[0mcallback\u001b[0m\u001b[0;34m=\u001b[0m\u001b[0mcb\u001b[0m\u001b[0;34m)\u001b[0m\u001b[0;34m\u001b[0m\u001b[0m\n\u001b[0m\u001b[1;32m    589\u001b[0m         \u001b[0mself\u001b[0m\u001b[0;34m.\u001b[0m\u001b[0m_jobs\u001b[0m\u001b[0;34m.\u001b[0m\u001b[0mappend\u001b[0m\u001b[0;34m(\u001b[0m\u001b[0mjob\u001b[0m\u001b[0;34m)\u001b[0m\u001b[0;34m\u001b[0m\u001b[0m\n\u001b[1;32m    590\u001b[0m \u001b[0;34m\u001b[0m\u001b[0m\n",
      "\u001b[0;32m~/anaconda/lib/python3.6/site-packages/sklearn/externals/joblib/_parallel_backends.py\u001b[0m in \u001b[0;36mapply_async\u001b[0;34m(self, func, callback)\u001b[0m\n\u001b[1;32m    109\u001b[0m     \u001b[0;32mdef\u001b[0m \u001b[0mapply_async\u001b[0m\u001b[0;34m(\u001b[0m\u001b[0mself\u001b[0m\u001b[0;34m,\u001b[0m \u001b[0mfunc\u001b[0m\u001b[0;34m,\u001b[0m \u001b[0mcallback\u001b[0m\u001b[0;34m=\u001b[0m\u001b[0;32mNone\u001b[0m\u001b[0;34m)\u001b[0m\u001b[0;34m:\u001b[0m\u001b[0;34m\u001b[0m\u001b[0m\n\u001b[1;32m    110\u001b[0m         \u001b[0;34m\"\"\"Schedule a func to be run\"\"\"\u001b[0m\u001b[0;34m\u001b[0m\u001b[0m\n\u001b[0;32m--> 111\u001b[0;31m         \u001b[0mresult\u001b[0m \u001b[0;34m=\u001b[0m \u001b[0mImmediateResult\u001b[0m\u001b[0;34m(\u001b[0m\u001b[0mfunc\u001b[0m\u001b[0;34m)\u001b[0m\u001b[0;34m\u001b[0m\u001b[0m\n\u001b[0m\u001b[1;32m    112\u001b[0m         \u001b[0;32mif\u001b[0m \u001b[0mcallback\u001b[0m\u001b[0;34m:\u001b[0m\u001b[0;34m\u001b[0m\u001b[0m\n\u001b[1;32m    113\u001b[0m             \u001b[0mcallback\u001b[0m\u001b[0;34m(\u001b[0m\u001b[0mresult\u001b[0m\u001b[0;34m)\u001b[0m\u001b[0;34m\u001b[0m\u001b[0m\n",
      "\u001b[0;32m~/anaconda/lib/python3.6/site-packages/sklearn/externals/joblib/_parallel_backends.py\u001b[0m in \u001b[0;36m__init__\u001b[0;34m(self, batch)\u001b[0m\n\u001b[1;32m    330\u001b[0m         \u001b[0;31m# Don't delay the application, to avoid keeping the input\u001b[0m\u001b[0;34m\u001b[0m\u001b[0;34m\u001b[0m\u001b[0m\n\u001b[1;32m    331\u001b[0m         \u001b[0;31m# arguments in memory\u001b[0m\u001b[0;34m\u001b[0m\u001b[0;34m\u001b[0m\u001b[0m\n\u001b[0;32m--> 332\u001b[0;31m         \u001b[0mself\u001b[0m\u001b[0;34m.\u001b[0m\u001b[0mresults\u001b[0m \u001b[0;34m=\u001b[0m \u001b[0mbatch\u001b[0m\u001b[0;34m(\u001b[0m\u001b[0;34m)\u001b[0m\u001b[0;34m\u001b[0m\u001b[0m\n\u001b[0m\u001b[1;32m    333\u001b[0m \u001b[0;34m\u001b[0m\u001b[0m\n\u001b[1;32m    334\u001b[0m     \u001b[0;32mdef\u001b[0m \u001b[0mget\u001b[0m\u001b[0;34m(\u001b[0m\u001b[0mself\u001b[0m\u001b[0;34m)\u001b[0m\u001b[0;34m:\u001b[0m\u001b[0;34m\u001b[0m\u001b[0m\n",
      "\u001b[0;32m~/anaconda/lib/python3.6/site-packages/sklearn/externals/joblib/parallel.py\u001b[0m in \u001b[0;36m__call__\u001b[0;34m(self)\u001b[0m\n\u001b[1;32m    129\u001b[0m \u001b[0;34m\u001b[0m\u001b[0m\n\u001b[1;32m    130\u001b[0m     \u001b[0;32mdef\u001b[0m \u001b[0m__call__\u001b[0m\u001b[0;34m(\u001b[0m\u001b[0mself\u001b[0m\u001b[0;34m)\u001b[0m\u001b[0;34m:\u001b[0m\u001b[0;34m\u001b[0m\u001b[0m\n\u001b[0;32m--> 131\u001b[0;31m         \u001b[0;32mreturn\u001b[0m \u001b[0;34m[\u001b[0m\u001b[0mfunc\u001b[0m\u001b[0;34m(\u001b[0m\u001b[0;34m*\u001b[0m\u001b[0margs\u001b[0m\u001b[0;34m,\u001b[0m \u001b[0;34m**\u001b[0m\u001b[0mkwargs\u001b[0m\u001b[0;34m)\u001b[0m \u001b[0;32mfor\u001b[0m \u001b[0mfunc\u001b[0m\u001b[0;34m,\u001b[0m \u001b[0margs\u001b[0m\u001b[0;34m,\u001b[0m \u001b[0mkwargs\u001b[0m \u001b[0;32min\u001b[0m \u001b[0mself\u001b[0m\u001b[0;34m.\u001b[0m\u001b[0mitems\u001b[0m\u001b[0;34m]\u001b[0m\u001b[0;34m\u001b[0m\u001b[0m\n\u001b[0m\u001b[1;32m    132\u001b[0m \u001b[0;34m\u001b[0m\u001b[0m\n\u001b[1;32m    133\u001b[0m     \u001b[0;32mdef\u001b[0m \u001b[0m__len__\u001b[0m\u001b[0;34m(\u001b[0m\u001b[0mself\u001b[0m\u001b[0;34m)\u001b[0m\u001b[0;34m:\u001b[0m\u001b[0;34m\u001b[0m\u001b[0m\n",
      "\u001b[0;32m~/anaconda/lib/python3.6/site-packages/sklearn/externals/joblib/parallel.py\u001b[0m in \u001b[0;36m<listcomp>\u001b[0;34m(.0)\u001b[0m\n\u001b[1;32m    129\u001b[0m \u001b[0;34m\u001b[0m\u001b[0m\n\u001b[1;32m    130\u001b[0m     \u001b[0;32mdef\u001b[0m \u001b[0m__call__\u001b[0m\u001b[0;34m(\u001b[0m\u001b[0mself\u001b[0m\u001b[0;34m)\u001b[0m\u001b[0;34m:\u001b[0m\u001b[0;34m\u001b[0m\u001b[0m\n\u001b[0;32m--> 131\u001b[0;31m         \u001b[0;32mreturn\u001b[0m \u001b[0;34m[\u001b[0m\u001b[0mfunc\u001b[0m\u001b[0;34m(\u001b[0m\u001b[0;34m*\u001b[0m\u001b[0margs\u001b[0m\u001b[0;34m,\u001b[0m \u001b[0;34m**\u001b[0m\u001b[0mkwargs\u001b[0m\u001b[0;34m)\u001b[0m \u001b[0;32mfor\u001b[0m \u001b[0mfunc\u001b[0m\u001b[0;34m,\u001b[0m \u001b[0margs\u001b[0m\u001b[0;34m,\u001b[0m \u001b[0mkwargs\u001b[0m \u001b[0;32min\u001b[0m \u001b[0mself\u001b[0m\u001b[0;34m.\u001b[0m\u001b[0mitems\u001b[0m\u001b[0;34m]\u001b[0m\u001b[0;34m\u001b[0m\u001b[0m\n\u001b[0m\u001b[1;32m    132\u001b[0m \u001b[0;34m\u001b[0m\u001b[0m\n\u001b[1;32m    133\u001b[0m     \u001b[0;32mdef\u001b[0m \u001b[0m__len__\u001b[0m\u001b[0;34m(\u001b[0m\u001b[0mself\u001b[0m\u001b[0;34m)\u001b[0m\u001b[0;34m:\u001b[0m\u001b[0;34m\u001b[0m\u001b[0m\n",
      "\u001b[0;32m~/anaconda/lib/python3.6/site-packages/sklearn/model_selection/_validation.py\u001b[0m in \u001b[0;36m_fit_and_score\u001b[0;34m(estimator, X, y, scorer, train, test, verbose, parameters, fit_params, return_train_score, return_parameters, return_n_test_samples, return_times, error_score)\u001b[0m\n\u001b[1;32m    435\u001b[0m             \u001b[0mestimator\u001b[0m\u001b[0;34m.\u001b[0m\u001b[0mfit\u001b[0m\u001b[0;34m(\u001b[0m\u001b[0mX_train\u001b[0m\u001b[0;34m,\u001b[0m \u001b[0;34m**\u001b[0m\u001b[0mfit_params\u001b[0m\u001b[0;34m)\u001b[0m\u001b[0;34m\u001b[0m\u001b[0m\n\u001b[1;32m    436\u001b[0m         \u001b[0;32melse\u001b[0m\u001b[0;34m:\u001b[0m\u001b[0;34m\u001b[0m\u001b[0m\n\u001b[0;32m--> 437\u001b[0;31m             \u001b[0mestimator\u001b[0m\u001b[0;34m.\u001b[0m\u001b[0mfit\u001b[0m\u001b[0;34m(\u001b[0m\u001b[0mX_train\u001b[0m\u001b[0;34m,\u001b[0m \u001b[0my_train\u001b[0m\u001b[0;34m,\u001b[0m \u001b[0;34m**\u001b[0m\u001b[0mfit_params\u001b[0m\u001b[0;34m)\u001b[0m\u001b[0;34m\u001b[0m\u001b[0m\n\u001b[0m\u001b[1;32m    438\u001b[0m \u001b[0;34m\u001b[0m\u001b[0m\n\u001b[1;32m    439\u001b[0m     \u001b[0;32mexcept\u001b[0m \u001b[0mException\u001b[0m \u001b[0;32mas\u001b[0m \u001b[0me\u001b[0m\u001b[0;34m:\u001b[0m\u001b[0;34m\u001b[0m\u001b[0m\n",
      "\u001b[0;32m~/anaconda/lib/python3.6/site-packages/sklearn/ensemble/forest.py\u001b[0m in \u001b[0;36mfit\u001b[0;34m(self, X, y, sample_weight)\u001b[0m\n\u001b[1;32m    325\u001b[0m                     \u001b[0mt\u001b[0m\u001b[0;34m,\u001b[0m \u001b[0mself\u001b[0m\u001b[0;34m,\u001b[0m \u001b[0mX\u001b[0m\u001b[0;34m,\u001b[0m \u001b[0my\u001b[0m\u001b[0;34m,\u001b[0m \u001b[0msample_weight\u001b[0m\u001b[0;34m,\u001b[0m \u001b[0mi\u001b[0m\u001b[0;34m,\u001b[0m \u001b[0mlen\u001b[0m\u001b[0;34m(\u001b[0m\u001b[0mtrees\u001b[0m\u001b[0;34m)\u001b[0m\u001b[0;34m,\u001b[0m\u001b[0;34m\u001b[0m\u001b[0m\n\u001b[1;32m    326\u001b[0m                     verbose=self.verbose, class_weight=self.class_weight)\n\u001b[0;32m--> 327\u001b[0;31m                 for i, t in enumerate(trees))\n\u001b[0m\u001b[1;32m    328\u001b[0m \u001b[0;34m\u001b[0m\u001b[0m\n\u001b[1;32m    329\u001b[0m             \u001b[0;31m# Collect newly grown trees\u001b[0m\u001b[0;34m\u001b[0m\u001b[0;34m\u001b[0m\u001b[0m\n",
      "\u001b[0;32m~/anaconda/lib/python3.6/site-packages/sklearn/externals/joblib/parallel.py\u001b[0m in \u001b[0;36m__call__\u001b[0;34m(self, iterable)\u001b[0m\n\u001b[1;32m    787\u001b[0m                 \u001b[0;31m# consumption.\u001b[0m\u001b[0;34m\u001b[0m\u001b[0;34m\u001b[0m\u001b[0m\n\u001b[1;32m    788\u001b[0m                 \u001b[0mself\u001b[0m\u001b[0;34m.\u001b[0m\u001b[0m_iterating\u001b[0m \u001b[0;34m=\u001b[0m \u001b[0;32mFalse\u001b[0m\u001b[0;34m\u001b[0m\u001b[0m\n\u001b[0;32m--> 789\u001b[0;31m             \u001b[0mself\u001b[0m\u001b[0;34m.\u001b[0m\u001b[0mretrieve\u001b[0m\u001b[0;34m(\u001b[0m\u001b[0;34m)\u001b[0m\u001b[0;34m\u001b[0m\u001b[0m\n\u001b[0m\u001b[1;32m    790\u001b[0m             \u001b[0;31m# Make sure that we get a last message telling us we are done\u001b[0m\u001b[0;34m\u001b[0m\u001b[0;34m\u001b[0m\u001b[0m\n\u001b[1;32m    791\u001b[0m             \u001b[0melapsed_time\u001b[0m \u001b[0;34m=\u001b[0m \u001b[0mtime\u001b[0m\u001b[0;34m.\u001b[0m\u001b[0mtime\u001b[0m\u001b[0;34m(\u001b[0m\u001b[0;34m)\u001b[0m \u001b[0;34m-\u001b[0m \u001b[0mself\u001b[0m\u001b[0;34m.\u001b[0m\u001b[0m_start_time\u001b[0m\u001b[0;34m\u001b[0m\u001b[0m\n",
      "\u001b[0;32m~/anaconda/lib/python3.6/site-packages/sklearn/externals/joblib/parallel.py\u001b[0m in \u001b[0;36mretrieve\u001b[0;34m(self)\u001b[0m\n\u001b[1;32m    697\u001b[0m             \u001b[0;32mtry\u001b[0m\u001b[0;34m:\u001b[0m\u001b[0;34m\u001b[0m\u001b[0m\n\u001b[1;32m    698\u001b[0m                 \u001b[0;32mif\u001b[0m \u001b[0mgetattr\u001b[0m\u001b[0;34m(\u001b[0m\u001b[0mself\u001b[0m\u001b[0;34m.\u001b[0m\u001b[0m_backend\u001b[0m\u001b[0;34m,\u001b[0m \u001b[0;34m'supports_timeout'\u001b[0m\u001b[0;34m,\u001b[0m \u001b[0;32mFalse\u001b[0m\u001b[0;34m)\u001b[0m\u001b[0;34m:\u001b[0m\u001b[0;34m\u001b[0m\u001b[0m\n\u001b[0;32m--> 699\u001b[0;31m                     \u001b[0mself\u001b[0m\u001b[0;34m.\u001b[0m\u001b[0m_output\u001b[0m\u001b[0;34m.\u001b[0m\u001b[0mextend\u001b[0m\u001b[0;34m(\u001b[0m\u001b[0mjob\u001b[0m\u001b[0;34m.\u001b[0m\u001b[0mget\u001b[0m\u001b[0;34m(\u001b[0m\u001b[0mtimeout\u001b[0m\u001b[0;34m=\u001b[0m\u001b[0mself\u001b[0m\u001b[0;34m.\u001b[0m\u001b[0mtimeout\u001b[0m\u001b[0;34m)\u001b[0m\u001b[0;34m)\u001b[0m\u001b[0;34m\u001b[0m\u001b[0m\n\u001b[0m\u001b[1;32m    700\u001b[0m                 \u001b[0;32melse\u001b[0m\u001b[0;34m:\u001b[0m\u001b[0;34m\u001b[0m\u001b[0m\n\u001b[1;32m    701\u001b[0m                     \u001b[0mself\u001b[0m\u001b[0;34m.\u001b[0m\u001b[0m_output\u001b[0m\u001b[0;34m.\u001b[0m\u001b[0mextend\u001b[0m\u001b[0;34m(\u001b[0m\u001b[0mjob\u001b[0m\u001b[0;34m.\u001b[0m\u001b[0mget\u001b[0m\u001b[0;34m(\u001b[0m\u001b[0;34m)\u001b[0m\u001b[0;34m)\u001b[0m\u001b[0;34m\u001b[0m\u001b[0m\n",
      "\u001b[0;32m~/anaconda/lib/python3.6/multiprocessing/pool.py\u001b[0m in \u001b[0;36mget\u001b[0;34m(self, timeout)\u001b[0m\n\u001b[1;32m    636\u001b[0m \u001b[0;34m\u001b[0m\u001b[0m\n\u001b[1;32m    637\u001b[0m     \u001b[0;32mdef\u001b[0m \u001b[0mget\u001b[0m\u001b[0;34m(\u001b[0m\u001b[0mself\u001b[0m\u001b[0;34m,\u001b[0m \u001b[0mtimeout\u001b[0m\u001b[0;34m=\u001b[0m\u001b[0;32mNone\u001b[0m\u001b[0;34m)\u001b[0m\u001b[0;34m:\u001b[0m\u001b[0;34m\u001b[0m\u001b[0m\n\u001b[0;32m--> 638\u001b[0;31m         \u001b[0mself\u001b[0m\u001b[0;34m.\u001b[0m\u001b[0mwait\u001b[0m\u001b[0;34m(\u001b[0m\u001b[0mtimeout\u001b[0m\u001b[0;34m)\u001b[0m\u001b[0;34m\u001b[0m\u001b[0m\n\u001b[0m\u001b[1;32m    639\u001b[0m         \u001b[0;32mif\u001b[0m \u001b[0;32mnot\u001b[0m \u001b[0mself\u001b[0m\u001b[0;34m.\u001b[0m\u001b[0mready\u001b[0m\u001b[0;34m(\u001b[0m\u001b[0;34m)\u001b[0m\u001b[0;34m:\u001b[0m\u001b[0;34m\u001b[0m\u001b[0m\n\u001b[1;32m    640\u001b[0m             \u001b[0;32mraise\u001b[0m \u001b[0mTimeoutError\u001b[0m\u001b[0;34m\u001b[0m\u001b[0m\n",
      "\u001b[0;32m~/anaconda/lib/python3.6/multiprocessing/pool.py\u001b[0m in \u001b[0;36mwait\u001b[0;34m(self, timeout)\u001b[0m\n\u001b[1;32m    633\u001b[0m \u001b[0;34m\u001b[0m\u001b[0m\n\u001b[1;32m    634\u001b[0m     \u001b[0;32mdef\u001b[0m \u001b[0mwait\u001b[0m\u001b[0;34m(\u001b[0m\u001b[0mself\u001b[0m\u001b[0;34m,\u001b[0m \u001b[0mtimeout\u001b[0m\u001b[0;34m=\u001b[0m\u001b[0;32mNone\u001b[0m\u001b[0;34m)\u001b[0m\u001b[0;34m:\u001b[0m\u001b[0;34m\u001b[0m\u001b[0m\n\u001b[0;32m--> 635\u001b[0;31m         \u001b[0mself\u001b[0m\u001b[0;34m.\u001b[0m\u001b[0m_event\u001b[0m\u001b[0;34m.\u001b[0m\u001b[0mwait\u001b[0m\u001b[0;34m(\u001b[0m\u001b[0mtimeout\u001b[0m\u001b[0;34m)\u001b[0m\u001b[0;34m\u001b[0m\u001b[0m\n\u001b[0m\u001b[1;32m    636\u001b[0m \u001b[0;34m\u001b[0m\u001b[0m\n\u001b[1;32m    637\u001b[0m     \u001b[0;32mdef\u001b[0m \u001b[0mget\u001b[0m\u001b[0;34m(\u001b[0m\u001b[0mself\u001b[0m\u001b[0;34m,\u001b[0m \u001b[0mtimeout\u001b[0m\u001b[0;34m=\u001b[0m\u001b[0;32mNone\u001b[0m\u001b[0;34m)\u001b[0m\u001b[0;34m:\u001b[0m\u001b[0;34m\u001b[0m\u001b[0m\n",
      "\u001b[0;32m~/anaconda/lib/python3.6/threading.py\u001b[0m in \u001b[0;36mwait\u001b[0;34m(self, timeout)\u001b[0m\n\u001b[1;32m    549\u001b[0m             \u001b[0msignaled\u001b[0m \u001b[0;34m=\u001b[0m \u001b[0mself\u001b[0m\u001b[0;34m.\u001b[0m\u001b[0m_flag\u001b[0m\u001b[0;34m\u001b[0m\u001b[0m\n\u001b[1;32m    550\u001b[0m             \u001b[0;32mif\u001b[0m \u001b[0;32mnot\u001b[0m \u001b[0msignaled\u001b[0m\u001b[0;34m:\u001b[0m\u001b[0;34m\u001b[0m\u001b[0m\n\u001b[0;32m--> 551\u001b[0;31m                 \u001b[0msignaled\u001b[0m \u001b[0;34m=\u001b[0m \u001b[0mself\u001b[0m\u001b[0;34m.\u001b[0m\u001b[0m_cond\u001b[0m\u001b[0;34m.\u001b[0m\u001b[0mwait\u001b[0m\u001b[0;34m(\u001b[0m\u001b[0mtimeout\u001b[0m\u001b[0;34m)\u001b[0m\u001b[0;34m\u001b[0m\u001b[0m\n\u001b[0m\u001b[1;32m    552\u001b[0m             \u001b[0;32mreturn\u001b[0m \u001b[0msignaled\u001b[0m\u001b[0;34m\u001b[0m\u001b[0m\n\u001b[1;32m    553\u001b[0m \u001b[0;34m\u001b[0m\u001b[0m\n",
      "\u001b[0;32m~/anaconda/lib/python3.6/threading.py\u001b[0m in \u001b[0;36mwait\u001b[0;34m(self, timeout)\u001b[0m\n\u001b[1;32m    293\u001b[0m         \u001b[0;32mtry\u001b[0m\u001b[0;34m:\u001b[0m    \u001b[0;31m# restore state no matter what (e.g., KeyboardInterrupt)\u001b[0m\u001b[0;34m\u001b[0m\u001b[0m\n\u001b[1;32m    294\u001b[0m             \u001b[0;32mif\u001b[0m \u001b[0mtimeout\u001b[0m \u001b[0;32mis\u001b[0m \u001b[0;32mNone\u001b[0m\u001b[0;34m:\u001b[0m\u001b[0;34m\u001b[0m\u001b[0m\n\u001b[0;32m--> 295\u001b[0;31m                 \u001b[0mwaiter\u001b[0m\u001b[0;34m.\u001b[0m\u001b[0macquire\u001b[0m\u001b[0;34m(\u001b[0m\u001b[0;34m)\u001b[0m\u001b[0;34m\u001b[0m\u001b[0m\n\u001b[0m\u001b[1;32m    296\u001b[0m                 \u001b[0mgotit\u001b[0m \u001b[0;34m=\u001b[0m \u001b[0;32mTrue\u001b[0m\u001b[0;34m\u001b[0m\u001b[0m\n\u001b[1;32m    297\u001b[0m             \u001b[0;32melse\u001b[0m\u001b[0;34m:\u001b[0m\u001b[0;34m\u001b[0m\u001b[0m\n",
      "\u001b[0;31mKeyboardInterrupt\u001b[0m: "
     ]
    }
   ],
   "source": [
    "param_grid = {'max_depth':range(3,15),\n",
    "              'n_estimators':range(1,100,5),\n",
    "              'max_leaf_nodes':range(2,30,3),\n",
    "              'random_state':range(1,100000,7000)}\n",
    "rf = RandomForestRegressor(n_jobs=-1)\n",
    "gs = GridSearchCV(rf,param_grid=param_grid,scoring='neg_mean_squared_error')\n",
    "rs = gs.fit(X_train,y_train)\n",
    "print(rs.best_params_)"
   ]
  },
  {
   "cell_type": "code",
   "execution_count": null,
   "metadata": {},
   "outputs": [],
   "source": []
  }
 ],
 "metadata": {
  "kernelspec": {
   "display_name": "Python 3",
   "language": "python",
   "name": "python3"
  },
  "language_info": {
   "codemirror_mode": {
    "name": "ipython",
    "version": 3
   },
   "file_extension": ".py",
   "mimetype": "text/x-python",
   "name": "python",
   "nbconvert_exporter": "python",
   "pygments_lexer": "ipython3",
   "version": "3.6.3"
  }
 },
 "nbformat": 4,
 "nbformat_minor": 2
}
