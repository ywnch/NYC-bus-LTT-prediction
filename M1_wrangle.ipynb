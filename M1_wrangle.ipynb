{
 "cells": [
  {
   "cell_type": "code",
   "execution_count": 73,
   "metadata": {},
   "outputs": [],
   "source": [
    "import pandas as pd\n",
    "import numpy as np"
   ]
  },
  {
   "cell_type": "code",
   "execution_count": 74,
   "metadata": {},
   "outputs": [
    {
     "data": {
      "text/html": [
       "<div>\n",
       "<style>\n",
       "    .dataframe thead tr:only-child th {\n",
       "        text-align: right;\n",
       "    }\n",
       "\n",
       "    .dataframe thead th {\n",
       "        text-align: left;\n",
       "    }\n",
       "\n",
       "    .dataframe tbody tr th {\n",
       "        vertical-align: top;\n",
       "    }\n",
       "</style>\n",
       "<table border=\"1\" class=\"dataframe\">\n",
       "  <thead>\n",
       "    <tr style=\"text-align: right;\">\n",
       "      <th></th>\n",
       "      <th>Timestamp</th>\n",
       "      <th>Bearing</th>\n",
       "      <th>BlockRef</th>\n",
       "      <th>CallDistanceAlongRoute</th>\n",
       "      <th>DataFrameRef</th>\n",
       "      <th>DatedVehicleJourneyRef</th>\n",
       "      <th>DestinationName</th>\n",
       "      <th>DestinationRef</th>\n",
       "      <th>DirectionRef</th>\n",
       "      <th>DistanceFromCall</th>\n",
       "      <th>...</th>\n",
       "      <th>ProgressStatus</th>\n",
       "      <th>PublishedLineName</th>\n",
       "      <th>RecordedAtTime</th>\n",
       "      <th>StopPointName</th>\n",
       "      <th>StopPointRef</th>\n",
       "      <th>StopsFromCall</th>\n",
       "      <th>VehicleRef</th>\n",
       "      <th>VisitNumber</th>\n",
       "      <th>DayOfWeek</th>\n",
       "      <th>VehicleDistanceAlongRoute</th>\n",
       "    </tr>\n",
       "  </thead>\n",
       "  <tbody>\n",
       "    <tr>\n",
       "      <th>0</th>\n",
       "      <td>2018-04-06 16:00:01-04:00</td>\n",
       "      <td>233.35362</td>\n",
       "      <td>MTA NYCT_OF_B8-Weekday_C_OF_29220_M1-122</td>\n",
       "      <td>5169.49</td>\n",
       "      <td>2018-04-06</td>\n",
       "      <td>MTA NYCT_OF_B8-Weekday-092900_M1_145</td>\n",
       "      <td>GRAND STREET via 5 AV/BROADWAY</td>\n",
       "      <td>MTA_803192</td>\n",
       "      <td>1</td>\n",
       "      <td>23.58</td>\n",
       "      <td>...</td>\n",
       "      <td>NaN</td>\n",
       "      <td>M1</td>\n",
       "      <td>2018-04-06T16:00:01.000-04:00</td>\n",
       "      <td>5 AV/EAST 90 ST</td>\n",
       "      <td>MTA_400117</td>\n",
       "      <td>0</td>\n",
       "      <td>MTA NYCT_3891</td>\n",
       "      <td>1</td>\n",
       "      <td>5</td>\n",
       "      <td>5145.91</td>\n",
       "    </tr>\n",
       "    <tr>\n",
       "      <th>1</th>\n",
       "      <td>2018-04-06 16:00:04-04:00</td>\n",
       "      <td>233.75014</td>\n",
       "      <td>MTA NYCT_OF_B8-Weekday_C_OF_20820_M1-105</td>\n",
       "      <td>8868.91</td>\n",
       "      <td>2018-04-06</td>\n",
       "      <td>MTA NYCT_OF_B8-Weekday-089200_M1_140</td>\n",
       "      <td>GRAND STREET via 5 AV/BROADWAY</td>\n",
       "      <td>MTA_803192</td>\n",
       "      <td>1</td>\n",
       "      <td>77.74</td>\n",
       "      <td>...</td>\n",
       "      <td>NaN</td>\n",
       "      <td>M1</td>\n",
       "      <td>2018-04-06T16:00:04.000-04:00</td>\n",
       "      <td>5 AV/W 45 ST</td>\n",
       "      <td>MTA_405179</td>\n",
       "      <td>0</td>\n",
       "      <td>MTA NYCT_3901</td>\n",
       "      <td>1</td>\n",
       "      <td>5</td>\n",
       "      <td>8791.17</td>\n",
       "    </tr>\n",
       "    <tr>\n",
       "      <th>2</th>\n",
       "      <td>2018-04-06 16:00:07-04:00</td>\n",
       "      <td>234.19359</td>\n",
       "      <td>MTA NYCT_OF_B8-Weekday_C_OF_54660_M1-146</td>\n",
       "      <td>6718.93</td>\n",
       "      <td>2018-04-06</td>\n",
       "      <td>MTA NYCT_OF_B8-Weekday-091400_M1_146</td>\n",
       "      <td>E VILLAGE 8 ST via 5 AV</td>\n",
       "      <td>MTA_403793</td>\n",
       "      <td>1</td>\n",
       "      <td>48.54</td>\n",
       "      <td>...</td>\n",
       "      <td>NaN</td>\n",
       "      <td>M1</td>\n",
       "      <td>2018-04-06T16:00:07.000-04:00</td>\n",
       "      <td>5 AV/E 72 ST</td>\n",
       "      <td>MTA_400124</td>\n",
       "      <td>0</td>\n",
       "      <td>MTA NYCT_3898</td>\n",
       "      <td>1</td>\n",
       "      <td>5</td>\n",
       "      <td>6670.39</td>\n",
       "    </tr>\n",
       "    <tr>\n",
       "      <th>3</th>\n",
       "      <td>2018-04-06 16:00:08-04:00</td>\n",
       "      <td>234.03671</td>\n",
       "      <td>MTA NYCT_OF_B8-Weekday_C_OF_28980_M7-204</td>\n",
       "      <td>8227.92</td>\n",
       "      <td>2018-04-06</td>\n",
       "      <td>MTA NYCT_OF_B8-Weekday-089800_M7_207</td>\n",
       "      <td>E VILLAGE 8 ST via 5 AV</td>\n",
       "      <td>MTA_403793</td>\n",
       "      <td>1</td>\n",
       "      <td>30.32</td>\n",
       "      <td>...</td>\n",
       "      <td>NaN</td>\n",
       "      <td>M1</td>\n",
       "      <td>2018-04-06T16:00:08.000-04:00</td>\n",
       "      <td>5 AV/W 53 ST</td>\n",
       "      <td>MTA_400514</td>\n",
       "      <td>0</td>\n",
       "      <td>MTA NYCT_3889</td>\n",
       "      <td>1</td>\n",
       "      <td>5</td>\n",
       "      <td>8197.60</td>\n",
       "    </tr>\n",
       "    <tr>\n",
       "      <th>4</th>\n",
       "      <td>2018-04-06 16:00:11-04:00</td>\n",
       "      <td>233.93703</td>\n",
       "      <td>MTA NYCT_OF_B8-Weekday_C_OF_18120_M1-102</td>\n",
       "      <td>9554.96</td>\n",
       "      <td>2018-04-06</td>\n",
       "      <td>MTA NYCT_OF_B8-Weekday-088600_M7_225</td>\n",
       "      <td>GRAND STREET via 5 AV/BROADWAY</td>\n",
       "      <td>MTA_803192</td>\n",
       "      <td>1</td>\n",
       "      <td>2.96</td>\n",
       "      <td>...</td>\n",
       "      <td>NaN</td>\n",
       "      <td>M1</td>\n",
       "      <td>2018-04-06T16:00:11.000-04:00</td>\n",
       "      <td>5 AV/W 36 ST</td>\n",
       "      <td>MTA_400323</td>\n",
       "      <td>0</td>\n",
       "      <td>MTA NYCT_3903</td>\n",
       "      <td>1</td>\n",
       "      <td>5</td>\n",
       "      <td>9552.00</td>\n",
       "    </tr>\n",
       "  </tbody>\n",
       "</table>\n",
       "<p>5 rows × 32 columns</p>\n",
       "</div>"
      ],
      "text/plain": [
       "                   Timestamp    Bearing  \\\n",
       "0  2018-04-06 16:00:01-04:00  233.35362   \n",
       "1  2018-04-06 16:00:04-04:00  233.75014   \n",
       "2  2018-04-06 16:00:07-04:00  234.19359   \n",
       "3  2018-04-06 16:00:08-04:00  234.03671   \n",
       "4  2018-04-06 16:00:11-04:00  233.93703   \n",
       "\n",
       "                                   BlockRef  CallDistanceAlongRoute  \\\n",
       "0  MTA NYCT_OF_B8-Weekday_C_OF_29220_M1-122                 5169.49   \n",
       "1  MTA NYCT_OF_B8-Weekday_C_OF_20820_M1-105                 8868.91   \n",
       "2  MTA NYCT_OF_B8-Weekday_C_OF_54660_M1-146                 6718.93   \n",
       "3  MTA NYCT_OF_B8-Weekday_C_OF_28980_M7-204                 8227.92   \n",
       "4  MTA NYCT_OF_B8-Weekday_C_OF_18120_M1-102                 9554.96   \n",
       "\n",
       "  DataFrameRef                DatedVehicleJourneyRef  \\\n",
       "0   2018-04-06  MTA NYCT_OF_B8-Weekday-092900_M1_145   \n",
       "1   2018-04-06  MTA NYCT_OF_B8-Weekday-089200_M1_140   \n",
       "2   2018-04-06  MTA NYCT_OF_B8-Weekday-091400_M1_146   \n",
       "3   2018-04-06  MTA NYCT_OF_B8-Weekday-089800_M7_207   \n",
       "4   2018-04-06  MTA NYCT_OF_B8-Weekday-088600_M7_225   \n",
       "\n",
       "                  DestinationName DestinationRef  DirectionRef  \\\n",
       "0  GRAND STREET via 5 AV/BROADWAY     MTA_803192             1   \n",
       "1  GRAND STREET via 5 AV/BROADWAY     MTA_803192             1   \n",
       "2         E VILLAGE 8 ST via 5 AV     MTA_403793             1   \n",
       "3         E VILLAGE 8 ST via 5 AV     MTA_403793             1   \n",
       "4  GRAND STREET via 5 AV/BROADWAY     MTA_803192             1   \n",
       "\n",
       "   DistanceFromCall            ...            ProgressStatus  \\\n",
       "0             23.58            ...                       NaN   \n",
       "1             77.74            ...                       NaN   \n",
       "2             48.54            ...                       NaN   \n",
       "3             30.32            ...                       NaN   \n",
       "4              2.96            ...                       NaN   \n",
       "\n",
       "  PublishedLineName                 RecordedAtTime    StopPointName  \\\n",
       "0                M1  2018-04-06T16:00:01.000-04:00  5 AV/EAST 90 ST   \n",
       "1                M1  2018-04-06T16:00:04.000-04:00     5 AV/W 45 ST   \n",
       "2                M1  2018-04-06T16:00:07.000-04:00     5 AV/E 72 ST   \n",
       "3                M1  2018-04-06T16:00:08.000-04:00     5 AV/W 53 ST   \n",
       "4                M1  2018-04-06T16:00:11.000-04:00     5 AV/W 36 ST   \n",
       "\n",
       "  StopPointRef  StopsFromCall     VehicleRef VisitNumber  DayOfWeek  \\\n",
       "0   MTA_400117              0  MTA NYCT_3891           1          5   \n",
       "1   MTA_405179              0  MTA NYCT_3901           1          5   \n",
       "2   MTA_400124              0  MTA NYCT_3898           1          5   \n",
       "3   MTA_400514              0  MTA NYCT_3889           1          5   \n",
       "4   MTA_400323              0  MTA NYCT_3903           1          5   \n",
       "\n",
       "  VehicleDistanceAlongRoute  \n",
       "0                   5145.91  \n",
       "1                   8791.17  \n",
       "2                   6670.39  \n",
       "3                   8197.60  \n",
       "4                   9552.00  \n",
       "\n",
       "[5 rows x 32 columns]"
      ]
     },
     "execution_count": 74,
     "metadata": {},
     "output_type": "execute_result"
    }
   ],
   "source": [
    "df = pd.read_csv('M1-train.csv')\n",
    "df.head()"
   ]
  },
  {
   "cell_type": "code",
   "execution_count": 75,
   "metadata": {},
   "outputs": [
    {
     "data": {
      "text/plain": [
       "(12085, 32)"
      ]
     },
     "execution_count": 75,
     "metadata": {},
     "output_type": "execute_result"
    }
   ],
   "source": [
    "df.shape"
   ]
  },
  {
   "cell_type": "code",
   "execution_count": 76,
   "metadata": {},
   "outputs": [
    {
     "data": {
      "text/plain": [
       "Index([u'Timestamp', u'Bearing', u'BlockRef', u'CallDistanceAlongRoute',\n",
       "       u'DataFrameRef', u'DatedVehicleJourneyRef', u'DestinationName',\n",
       "       u'DestinationRef', u'DirectionRef', u'DistanceFromCall',\n",
       "       u'ExpectedArrivalTime', u'ExpectedDepartureTime', u'JourneyPatternRef',\n",
       "       u'Latitude', u'LineRef', u'Longitude', u'Monitored', u'OperatorRef',\n",
       "       u'OriginAimedDepartureTime', u'OriginRef', u'PresentableDistance',\n",
       "       u'ProgressRate', u'ProgressStatus', u'PublishedLineName',\n",
       "       u'RecordedAtTime', u'StopPointName', u'StopPointRef', u'StopsFromCall',\n",
       "       u'VehicleRef', u'VisitNumber', u'DayOfWeek',\n",
       "       u'VehicleDistanceAlongRoute'],\n",
       "      dtype='object')"
      ]
     },
     "execution_count": 76,
     "metadata": {},
     "output_type": "execute_result"
    }
   ],
   "source": [
    "df.columns"
   ]
  },
  {
   "cell_type": "code",
   "execution_count": 77,
   "metadata": {},
   "outputs": [],
   "source": [
    "df = df[['Timestamp','DatedVehicleJourneyRef', 'ProgressRate', 'StopPointName', 'StopPointRef', 'VehicleRef', 'VehicleDistanceAlongRoute']]"
   ]
  },
  {
   "cell_type": "code",
   "execution_count": 78,
   "metadata": {},
   "outputs": [
    {
     "data": {
      "text/html": [
       "<div>\n",
       "<style>\n",
       "    .dataframe thead tr:only-child th {\n",
       "        text-align: right;\n",
       "    }\n",
       "\n",
       "    .dataframe thead th {\n",
       "        text-align: left;\n",
       "    }\n",
       "\n",
       "    .dataframe tbody tr th {\n",
       "        vertical-align: top;\n",
       "    }\n",
       "</style>\n",
       "<table border=\"1\" class=\"dataframe\">\n",
       "  <thead>\n",
       "    <tr style=\"text-align: right;\">\n",
       "      <th></th>\n",
       "      <th>Timestamp</th>\n",
       "      <th>DatedVehicleJourneyRef</th>\n",
       "      <th>ProgressRate</th>\n",
       "      <th>StopPointName</th>\n",
       "      <th>StopPointRef</th>\n",
       "      <th>VehicleRef</th>\n",
       "      <th>VehicleDistanceAlongRoute</th>\n",
       "    </tr>\n",
       "  </thead>\n",
       "  <tbody>\n",
       "    <tr>\n",
       "      <th>0</th>\n",
       "      <td>2018-04-06 16:00:01-04:00</td>\n",
       "      <td>MTA NYCT_OF_B8-Weekday-092900_M1_145</td>\n",
       "      <td>normalProgress</td>\n",
       "      <td>5 AV/EAST 90 ST</td>\n",
       "      <td>MTA_400117</td>\n",
       "      <td>MTA NYCT_3891</td>\n",
       "      <td>5145.91</td>\n",
       "    </tr>\n",
       "    <tr>\n",
       "      <th>1</th>\n",
       "      <td>2018-04-06 16:00:04-04:00</td>\n",
       "      <td>MTA NYCT_OF_B8-Weekday-089200_M1_140</td>\n",
       "      <td>normalProgress</td>\n",
       "      <td>5 AV/W 45 ST</td>\n",
       "      <td>MTA_405179</td>\n",
       "      <td>MTA NYCT_3901</td>\n",
       "      <td>8791.17</td>\n",
       "    </tr>\n",
       "    <tr>\n",
       "      <th>2</th>\n",
       "      <td>2018-04-06 16:00:07-04:00</td>\n",
       "      <td>MTA NYCT_OF_B8-Weekday-091400_M1_146</td>\n",
       "      <td>normalProgress</td>\n",
       "      <td>5 AV/E 72 ST</td>\n",
       "      <td>MTA_400124</td>\n",
       "      <td>MTA NYCT_3898</td>\n",
       "      <td>6670.39</td>\n",
       "    </tr>\n",
       "    <tr>\n",
       "      <th>3</th>\n",
       "      <td>2018-04-06 16:00:08-04:00</td>\n",
       "      <td>MTA NYCT_OF_B8-Weekday-089800_M7_207</td>\n",
       "      <td>normalProgress</td>\n",
       "      <td>5 AV/W 53 ST</td>\n",
       "      <td>MTA_400514</td>\n",
       "      <td>MTA NYCT_3889</td>\n",
       "      <td>8197.60</td>\n",
       "    </tr>\n",
       "    <tr>\n",
       "      <th>4</th>\n",
       "      <td>2018-04-06 16:00:11-04:00</td>\n",
       "      <td>MTA NYCT_OF_B8-Weekday-088600_M7_225</td>\n",
       "      <td>normalProgress</td>\n",
       "      <td>5 AV/W 36 ST</td>\n",
       "      <td>MTA_400323</td>\n",
       "      <td>MTA NYCT_3903</td>\n",
       "      <td>9552.00</td>\n",
       "    </tr>\n",
       "  </tbody>\n",
       "</table>\n",
       "</div>"
      ],
      "text/plain": [
       "                   Timestamp                DatedVehicleJourneyRef  \\\n",
       "0  2018-04-06 16:00:01-04:00  MTA NYCT_OF_B8-Weekday-092900_M1_145   \n",
       "1  2018-04-06 16:00:04-04:00  MTA NYCT_OF_B8-Weekday-089200_M1_140   \n",
       "2  2018-04-06 16:00:07-04:00  MTA NYCT_OF_B8-Weekday-091400_M1_146   \n",
       "3  2018-04-06 16:00:08-04:00  MTA NYCT_OF_B8-Weekday-089800_M7_207   \n",
       "4  2018-04-06 16:00:11-04:00  MTA NYCT_OF_B8-Weekday-088600_M7_225   \n",
       "\n",
       "     ProgressRate    StopPointName StopPointRef     VehicleRef  \\\n",
       "0  normalProgress  5 AV/EAST 90 ST   MTA_400117  MTA NYCT_3891   \n",
       "1  normalProgress     5 AV/W 45 ST   MTA_405179  MTA NYCT_3901   \n",
       "2  normalProgress     5 AV/E 72 ST   MTA_400124  MTA NYCT_3898   \n",
       "3  normalProgress     5 AV/W 53 ST   MTA_400514  MTA NYCT_3889   \n",
       "4  normalProgress     5 AV/W 36 ST   MTA_400323  MTA NYCT_3903   \n",
       "\n",
       "   VehicleDistanceAlongRoute  \n",
       "0                    5145.91  \n",
       "1                    8791.17  \n",
       "2                    6670.39  \n",
       "3                    8197.60  \n",
       "4                    9552.00  "
      ]
     },
     "execution_count": 78,
     "metadata": {},
     "output_type": "execute_result"
    }
   ],
   "source": [
    "df.head()"
   ]
  },
  {
   "cell_type": "markdown",
   "metadata": {},
   "source": [
    "M1 Bus Stops from: https://bustime.mta.info/m/;jsessionid=BF8A7BE70A434A7BA0468C768AC9E5A7?q=M1#0"
   ]
  },
  {
   "cell_type": "code",
   "execution_count": 79,
   "metadata": {},
   "outputs": [
    {
     "data": {
      "text/plain": [
       "array(['5 AV/EAST 94 ST', '5 AV/EAST 92 ST', '5 AV/EAST 90 ST',\n",
       "       '5 AV/EAST 87 ST', '5 AV/EAST 84 ST', '5 AV/EAST 81 ST',\n",
       "       '5 AV/EAST 78 ST', '5 AV/EAST 77 ST', '5 AV/EAST 75 ST',\n",
       "       '5 AV/E 72 ST', '5 AV/E 69 ST', '5 AV/E 65 ST', '5 AV/E 63 ST',\n",
       "       '5 AV/E 62 ST', '5 AV/W 59 ST', '5 AV/W 53 ST', '5 AV/W 49 ST',\n",
       "       '5 AV/W 47 ST', '5 AV/W 45 ST', '5 AV/W 42 ST', '5 AV/W 38 ST',\n",
       "       '5 AV/W 36 ST'], dtype=object)"
      ]
     },
     "execution_count": 79,
     "metadata": {},
     "output_type": "execute_result"
    }
   ],
   "source": [
    "stops = pd.read_csv('M1_stops.csv')\n",
    "stops['StopName'].unique()"
   ]
  },
  {
   "cell_type": "code",
   "execution_count": 80,
   "metadata": {},
   "outputs": [
    {
     "data": {
      "text/html": [
       "<div>\n",
       "<style>\n",
       "    .dataframe thead tr:only-child th {\n",
       "        text-align: right;\n",
       "    }\n",
       "\n",
       "    .dataframe thead th {\n",
       "        text-align: left;\n",
       "    }\n",
       "\n",
       "    .dataframe tbody tr th {\n",
       "        vertical-align: top;\n",
       "    }\n",
       "</style>\n",
       "<table border=\"1\" class=\"dataframe\">\n",
       "  <thead>\n",
       "    <tr style=\"text-align: right;\">\n",
       "      <th></th>\n",
       "      <th>StopNum</th>\n",
       "      <th>StopName</th>\n",
       "    </tr>\n",
       "  </thead>\n",
       "  <tbody>\n",
       "    <tr>\n",
       "      <th>0</th>\n",
       "      <td>1</td>\n",
       "      <td>5 AV/EAST 94 ST</td>\n",
       "    </tr>\n",
       "    <tr>\n",
       "      <th>1</th>\n",
       "      <td>2</td>\n",
       "      <td>5 AV/EAST 92 ST</td>\n",
       "    </tr>\n",
       "    <tr>\n",
       "      <th>2</th>\n",
       "      <td>3</td>\n",
       "      <td>5 AV/EAST 90 ST</td>\n",
       "    </tr>\n",
       "    <tr>\n",
       "      <th>3</th>\n",
       "      <td>4</td>\n",
       "      <td>5 AV/EAST 87 ST</td>\n",
       "    </tr>\n",
       "    <tr>\n",
       "      <th>4</th>\n",
       "      <td>5</td>\n",
       "      <td>5 AV/EAST 84 ST</td>\n",
       "    </tr>\n",
       "  </tbody>\n",
       "</table>\n",
       "</div>"
      ],
      "text/plain": [
       "   StopNum         StopName\n",
       "0        1  5 AV/EAST 94 ST\n",
       "1        2  5 AV/EAST 92 ST\n",
       "2        3  5 AV/EAST 90 ST\n",
       "3        4  5 AV/EAST 87 ST\n",
       "4        5  5 AV/EAST 84 ST"
      ]
     },
     "execution_count": 80,
     "metadata": {},
     "output_type": "execute_result"
    }
   ],
   "source": [
    "stops.head()"
   ]
  },
  {
   "cell_type": "code",
   "execution_count": 81,
   "metadata": {},
   "outputs": [],
   "source": [
    "#merge stops to df\n",
    "df = df.merge(stops, left_on='StopPointName', right_on='StopName', how='inner')"
   ]
  },
  {
   "cell_type": "code",
   "execution_count": 82,
   "metadata": {},
   "outputs": [
    {
     "data": {
      "text/plain": [
       "array(['MTA NYCT_3891', 'MTA NYCT_3897', 'MTA NYCT_6781', 'MTA NYCT_3838',\n",
       "       'MTA NYCT_6761', 'MTA NYCT_6779', 'MTA NYCT_6771', 'MTA NYCT_6758',\n",
       "       'MTA NYCT_6777', 'MTA NYCT_6770', 'MTA NYCT_6768', 'MTA NYCT_3890',\n",
       "       'MTA NYCT_3831', 'MTA NYCT_3902', 'MTA NYCT_6748', 'MTA NYCT_3837',\n",
       "       'MTA NYCT_6762', 'MTA NYCT_6749', 'MTA NYCT_6780', 'MTA NYCT_6784',\n",
       "       'MTA NYCT_3889', 'MTA NYCT_6759', 'MTA NYCT_3903', 'MTA NYCT_3894',\n",
       "       'MTA NYCT_3834', 'MTA NYCT_6789', 'MTA NYCT_3882', 'MTA NYCT_3881',\n",
       "       'MTA NYCT_6778', 'MTA NYCT_3900', 'MTA NYCT_3904', 'MTA NYCT_3887',\n",
       "       'MTA NYCT_6765', 'MTA NYCT_6776', 'MTA NYCT_3886', 'MTA NYCT_3833',\n",
       "       'MTA NYCT_6767', 'MTA NYCT_6783', 'MTA NYCT_3893', 'MTA NYCT_3829',\n",
       "       'MTA NYCT_6782', 'MTA NYCT_3888', 'MTA NYCT_6769', 'MTA NYCT_6750',\n",
       "       'MTA NYCT_6772', 'MTA NYCT_3895', 'MTA NYCT_3896', 'MTA NYCT_3883',\n",
       "       'MTA NYCT_6752', 'MTA NYCT_3830', 'MTA NYCT_3899', 'MTA NYCT_6766',\n",
       "       'MTA NYCT_6751', 'MTA NYCT_6764', 'MTA NYCT_6775', 'MTA NYCT_6786',\n",
       "       'MTA NYCT_3832', 'MTA NYCT_3901', 'MTA NYCT_6774', 'MTA NYCT_3898',\n",
       "       'MTA NYCT_6773', 'MTA NYCT_6760', 'MTA NYCT_6763', 'MTA NYCT_6757',\n",
       "       'MTA NYCT_3835', 'MTA NYCT_6787', 'MTA NYCT_3885'], dtype=object)"
      ]
     },
     "execution_count": 82,
     "metadata": {},
     "output_type": "execute_result"
    }
   ],
   "source": [
    "#check number of buses in service on route\n",
    "df.VehicleRef.unique()"
   ]
  },
  {
   "cell_type": "code",
   "execution_count": 83,
   "metadata": {},
   "outputs": [],
   "source": [
    "df['Timestamp'] = pd.to_datetime(df['Timestamp']).dt.tz_localize('UTC').dt.tz_convert('America/New_York')"
   ]
  },
  {
   "cell_type": "code",
   "execution_count": 88,
   "metadata": {},
   "outputs": [],
   "source": [
    "df['Time'] = df['Timestamp'].dt.strftime(\"%H:%M:%S\")"
   ]
  },
  {
   "cell_type": "code",
   "execution_count": 90,
   "metadata": {},
   "outputs": [],
   "source": [
    "df['Date'] = df['Timestamp'].dt.date"
   ]
  },
  {
   "cell_type": "markdown",
   "metadata": {},
   "source": [
    "### Find Link Travel Time between stops"
   ]
  },
  {
   "cell_type": "code",
   "execution_count": 92,
   "metadata": {},
   "outputs": [],
   "source": [
    "df1 = df.set_index(['VehicleRef','Date', 'Time'])\n",
    "df1.sort_index(inplace=True)"
   ]
  },
  {
   "cell_type": "code",
   "execution_count": 93,
   "metadata": {},
   "outputs": [
    {
     "data": {
      "text/plain": [
       "Timestamp                    datetime64[ns, America/New_York]\n",
       "DatedVehicleJourneyRef                                 object\n",
       "ProgressRate                                           object\n",
       "StopPointName                                          object\n",
       "StopPointRef                                           object\n",
       "VehicleDistanceAlongRoute                             float64\n",
       "StopNum                                                 int64\n",
       "StopName                                               object\n",
       "dtype: object"
      ]
     },
     "execution_count": 93,
     "metadata": {},
     "output_type": "execute_result"
    }
   ],
   "source": [
    "df1.dtypes"
   ]
  },
  {
   "cell_type": "code",
   "execution_count": 94,
   "metadata": {},
   "outputs": [],
   "source": [
    "dist_df = df1.groupby(['VehicleRef', 'Date'])['VehicleDistanceAlongRoute'].diff().to_frame().reset_index()"
   ]
  },
  {
   "cell_type": "code",
   "execution_count": 95,
   "metadata": {},
   "outputs": [],
   "source": [
    "time_df = df1.groupby(['VehicleRef', 'Date'])['Timestamp'].diff().to_frame().reset_index()"
   ]
  },
  {
   "cell_type": "code",
   "execution_count": 96,
   "metadata": {},
   "outputs": [],
   "source": [
    "new_df = pd.merge(dist_df, time_df, on=['VehicleRef','Date','Time'])"
   ]
  },
  {
   "cell_type": "code",
   "execution_count": 97,
   "metadata": {},
   "outputs": [
    {
     "data": {
      "text/plain": [
       "(13325, 5)"
      ]
     },
     "execution_count": 97,
     "metadata": {},
     "output_type": "execute_result"
    }
   ],
   "source": [
    "new_df.shape"
   ]
  },
  {
   "cell_type": "code",
   "execution_count": 98,
   "metadata": {},
   "outputs": [],
   "source": [
    "new_df.columns = ['VehicleRef', 'Date', 'Time', 'DistanceDelta', 'TimeDelta']"
   ]
  },
  {
   "cell_type": "code",
   "execution_count": 99,
   "metadata": {},
   "outputs": [
    {
     "data": {
      "text/html": [
       "<div>\n",
       "<style>\n",
       "    .dataframe thead tr:only-child th {\n",
       "        text-align: right;\n",
       "    }\n",
       "\n",
       "    .dataframe thead th {\n",
       "        text-align: left;\n",
       "    }\n",
       "\n",
       "    .dataframe tbody tr th {\n",
       "        vertical-align: top;\n",
       "    }\n",
       "</style>\n",
       "<table border=\"1\" class=\"dataframe\">\n",
       "  <thead>\n",
       "    <tr style=\"text-align: right;\">\n",
       "      <th></th>\n",
       "      <th>Timestamp</th>\n",
       "      <th>DatedVehicleJourneyRef</th>\n",
       "      <th>ProgressRate</th>\n",
       "      <th>StopPointName</th>\n",
       "      <th>StopPointRef</th>\n",
       "      <th>VehicleRef</th>\n",
       "      <th>VehicleDistanceAlongRoute</th>\n",
       "      <th>StopNum</th>\n",
       "      <th>StopName</th>\n",
       "      <th>Time</th>\n",
       "      <th>Date</th>\n",
       "    </tr>\n",
       "  </thead>\n",
       "  <tbody>\n",
       "    <tr>\n",
       "      <th>0</th>\n",
       "      <td>2018-04-06 16:00:01-04:00</td>\n",
       "      <td>MTA NYCT_OF_B8-Weekday-092900_M1_145</td>\n",
       "      <td>normalProgress</td>\n",
       "      <td>5 AV/EAST 90 ST</td>\n",
       "      <td>MTA_400117</td>\n",
       "      <td>MTA NYCT_3891</td>\n",
       "      <td>5145.91</td>\n",
       "      <td>3</td>\n",
       "      <td>5 AV/EAST 90 ST</td>\n",
       "      <td>16:00:01</td>\n",
       "      <td>2018-04-06</td>\n",
       "    </tr>\n",
       "    <tr>\n",
       "      <th>1</th>\n",
       "      <td>2018-04-06 16:06:13-04:00</td>\n",
       "      <td>MTA NYCT_OF_B8-Weekday-093400_M1_149</td>\n",
       "      <td>normalProgress</td>\n",
       "      <td>5 AV/EAST 90 ST</td>\n",
       "      <td>MTA_400117</td>\n",
       "      <td>MTA NYCT_3897</td>\n",
       "      <td>5036.58</td>\n",
       "      <td>3</td>\n",
       "      <td>5 AV/EAST 90 ST</td>\n",
       "      <td>16:06:13</td>\n",
       "      <td>2018-04-06</td>\n",
       "    </tr>\n",
       "    <tr>\n",
       "      <th>2</th>\n",
       "      <td>2018-04-06 16:06:44-04:00</td>\n",
       "      <td>MTA NYCT_OF_B8-Weekday-093400_M1_149</td>\n",
       "      <td>normalProgress</td>\n",
       "      <td>5 AV/EAST 90 ST</td>\n",
       "      <td>MTA_400117</td>\n",
       "      <td>MTA NYCT_3897</td>\n",
       "      <td>5070.88</td>\n",
       "      <td>3</td>\n",
       "      <td>5 AV/EAST 90 ST</td>\n",
       "      <td>16:06:44</td>\n",
       "      <td>2018-04-06</td>\n",
       "    </tr>\n",
       "    <tr>\n",
       "      <th>3</th>\n",
       "      <td>2018-04-06 16:11:34-04:00</td>\n",
       "      <td>MTA NYCT_OF_B8-Weekday-093900_M1_109</td>\n",
       "      <td>normalProgress</td>\n",
       "      <td>5 AV/EAST 90 ST</td>\n",
       "      <td>MTA_400117</td>\n",
       "      <td>MTA NYCT_6781</td>\n",
       "      <td>5036.58</td>\n",
       "      <td>3</td>\n",
       "      <td>5 AV/EAST 90 ST</td>\n",
       "      <td>16:11:34</td>\n",
       "      <td>2018-04-06</td>\n",
       "    </tr>\n",
       "    <tr>\n",
       "      <th>4</th>\n",
       "      <td>2018-04-06 16:15:16-04:00</td>\n",
       "      <td>MTA NYCT_OF_B8-Weekday-094400_M1_142</td>\n",
       "      <td>normalProgress</td>\n",
       "      <td>5 AV/EAST 90 ST</td>\n",
       "      <td>MTA_400117</td>\n",
       "      <td>MTA NYCT_3838</td>\n",
       "      <td>5135.19</td>\n",
       "      <td>3</td>\n",
       "      <td>5 AV/EAST 90 ST</td>\n",
       "      <td>16:15:16</td>\n",
       "      <td>2018-04-06</td>\n",
       "    </tr>\n",
       "  </tbody>\n",
       "</table>\n",
       "</div>"
      ],
      "text/plain": [
       "                  Timestamp                DatedVehicleJourneyRef  \\\n",
       "0 2018-04-06 16:00:01-04:00  MTA NYCT_OF_B8-Weekday-092900_M1_145   \n",
       "1 2018-04-06 16:06:13-04:00  MTA NYCT_OF_B8-Weekday-093400_M1_149   \n",
       "2 2018-04-06 16:06:44-04:00  MTA NYCT_OF_B8-Weekday-093400_M1_149   \n",
       "3 2018-04-06 16:11:34-04:00  MTA NYCT_OF_B8-Weekday-093900_M1_109   \n",
       "4 2018-04-06 16:15:16-04:00  MTA NYCT_OF_B8-Weekday-094400_M1_142   \n",
       "\n",
       "     ProgressRate    StopPointName StopPointRef     VehicleRef  \\\n",
       "0  normalProgress  5 AV/EAST 90 ST   MTA_400117  MTA NYCT_3891   \n",
       "1  normalProgress  5 AV/EAST 90 ST   MTA_400117  MTA NYCT_3897   \n",
       "2  normalProgress  5 AV/EAST 90 ST   MTA_400117  MTA NYCT_3897   \n",
       "3  normalProgress  5 AV/EAST 90 ST   MTA_400117  MTA NYCT_6781   \n",
       "4  normalProgress  5 AV/EAST 90 ST   MTA_400117  MTA NYCT_3838   \n",
       "\n",
       "   VehicleDistanceAlongRoute  StopNum         StopName      Time        Date  \n",
       "0                    5145.91        3  5 AV/EAST 90 ST  16:00:01  2018-04-06  \n",
       "1                    5036.58        3  5 AV/EAST 90 ST  16:06:13  2018-04-06  \n",
       "2                    5070.88        3  5 AV/EAST 90 ST  16:06:44  2018-04-06  \n",
       "3                    5036.58        3  5 AV/EAST 90 ST  16:11:34  2018-04-06  \n",
       "4                    5135.19        3  5 AV/EAST 90 ST  16:15:16  2018-04-06  "
      ]
     },
     "execution_count": 99,
     "metadata": {},
     "output_type": "execute_result"
    }
   ],
   "source": [
    "df.head()"
   ]
  },
  {
   "cell_type": "code",
   "execution_count": 100,
   "metadata": {},
   "outputs": [],
   "source": [
    "#remove records where TimeDelta=0 (repeated records)\n",
    "new_df = new_df[new_df['TimeDelta'] != '0']"
   ]
  },
  {
   "cell_type": "code",
   "execution_count": 101,
   "metadata": {},
   "outputs": [],
   "source": [
    "#new_df['TimeDelta'] = new_df['TimeDelta'] / np.timedelta64(1, 's')"
   ]
  },
  {
   "cell_type": "code",
   "execution_count": 102,
   "metadata": {},
   "outputs": [],
   "source": [
    "new_df['LinkSpeed'] = new_df['DistanceDelta'] / (new_df['TimeDelta']/ np.timedelta64(1, 's'))"
   ]
  },
  {
   "cell_type": "code",
   "execution_count": 103,
   "metadata": {},
   "outputs": [
    {
     "data": {
      "text/html": [
       "<div>\n",
       "<style>\n",
       "    .dataframe thead tr:only-child th {\n",
       "        text-align: right;\n",
       "    }\n",
       "\n",
       "    .dataframe thead th {\n",
       "        text-align: left;\n",
       "    }\n",
       "\n",
       "    .dataframe tbody tr th {\n",
       "        vertical-align: top;\n",
       "    }\n",
       "</style>\n",
       "<table border=\"1\" class=\"dataframe\">\n",
       "  <thead>\n",
       "    <tr style=\"text-align: right;\">\n",
       "      <th></th>\n",
       "      <th>VehicleRef</th>\n",
       "      <th>Date</th>\n",
       "      <th>Time</th>\n",
       "      <th>DistanceDelta</th>\n",
       "      <th>TimeDelta</th>\n",
       "      <th>LinkSpeed</th>\n",
       "    </tr>\n",
       "  </thead>\n",
       "  <tbody>\n",
       "    <tr>\n",
       "      <th>0</th>\n",
       "      <td>MTA NYCT_3829</td>\n",
       "      <td>2018-04-08</td>\n",
       "      <td>16:00:17</td>\n",
       "      <td>NaN</td>\n",
       "      <td>NaT</td>\n",
       "      <td>NaN</td>\n",
       "    </tr>\n",
       "    <tr>\n",
       "      <th>1</th>\n",
       "      <td>MTA NYCT_3829</td>\n",
       "      <td>2018-04-08</td>\n",
       "      <td>16:00:48</td>\n",
       "      <td>60.78</td>\n",
       "      <td>00:00:30.866000</td>\n",
       "      <td>1.969157</td>\n",
       "    </tr>\n",
       "    <tr>\n",
       "      <th>2</th>\n",
       "      <td>MTA NYCT_3829</td>\n",
       "      <td>2018-04-08</td>\n",
       "      <td>16:01:19</td>\n",
       "      <td>142.79</td>\n",
       "      <td>00:00:31.149000</td>\n",
       "      <td>4.584096</td>\n",
       "    </tr>\n",
       "    <tr>\n",
       "      <th>3</th>\n",
       "      <td>MTA NYCT_3829</td>\n",
       "      <td>2018-04-08</td>\n",
       "      <td>16:01:51</td>\n",
       "      <td>15.19</td>\n",
       "      <td>00:00:31.861000</td>\n",
       "      <td>0.476758</td>\n",
       "    </tr>\n",
       "    <tr>\n",
       "      <th>4</th>\n",
       "      <td>MTA NYCT_3829</td>\n",
       "      <td>2018-04-08</td>\n",
       "      <td>16:02:22</td>\n",
       "      <td>87.52</td>\n",
       "      <td>00:00:31.519000</td>\n",
       "      <td>2.776738</td>\n",
       "    </tr>\n",
       "  </tbody>\n",
       "</table>\n",
       "</div>"
      ],
      "text/plain": [
       "      VehicleRef       Date      Time  DistanceDelta       TimeDelta  \\\n",
       "0  MTA NYCT_3829 2018-04-08  16:00:17            NaN             NaT   \n",
       "1  MTA NYCT_3829 2018-04-08  16:00:48          60.78 00:00:30.866000   \n",
       "2  MTA NYCT_3829 2018-04-08  16:01:19         142.79 00:00:31.149000   \n",
       "3  MTA NYCT_3829 2018-04-08  16:01:51          15.19 00:00:31.861000   \n",
       "4  MTA NYCT_3829 2018-04-08  16:02:22          87.52 00:00:31.519000   \n",
       "\n",
       "   LinkSpeed  \n",
       "0        NaN  \n",
       "1   1.969157  \n",
       "2   4.584096  \n",
       "3   0.476758  \n",
       "4   2.776738  "
      ]
     },
     "execution_count": 103,
     "metadata": {},
     "output_type": "execute_result"
    }
   ],
   "source": [
    "new_df.head()"
   ]
  },
  {
   "cell_type": "code",
   "execution_count": 104,
   "metadata": {},
   "outputs": [
    {
     "data": {
      "text/plain": [
       "VehicleRef                object\n",
       "Date              datetime64[ns]\n",
       "Time                      object\n",
       "DistanceDelta            float64\n",
       "TimeDelta        timedelta64[ns]\n",
       "LinkSpeed                float64\n",
       "dtype: object"
      ]
     },
     "execution_count": 104,
     "metadata": {},
     "output_type": "execute_result"
    }
   ],
   "source": [
    "new_df.dtypes"
   ]
  },
  {
   "cell_type": "code",
   "execution_count": 124,
   "metadata": {},
   "outputs": [],
   "source": [
    "speed_df = pd.merge(df, new_df, on=['VehicleRef','Time'], how='inner', suffixes=('', '_y'))"
   ]
  },
  {
   "cell_type": "code",
   "execution_count": 125,
   "metadata": {},
   "outputs": [
    {
     "data": {
      "text/plain": [
       "(13477, 15)"
      ]
     },
     "execution_count": 125,
     "metadata": {},
     "output_type": "execute_result"
    }
   ],
   "source": [
    "speed_df.shape"
   ]
  },
  {
   "cell_type": "code",
   "execution_count": 126,
   "metadata": {},
   "outputs": [
    {
     "data": {
      "text/plain": [
       "(11239, 11)"
      ]
     },
     "execution_count": 126,
     "metadata": {},
     "output_type": "execute_result"
    }
   ],
   "source": [
    "df.shape"
   ]
  },
  {
   "cell_type": "code",
   "execution_count": 130,
   "metadata": {},
   "outputs": [
    {
     "data": {
      "text/plain": [
       "VehicleRef     StopNum       \n",
       "MTA NYCT_3829  3        111     -0.453563\n",
       "               4        5913     5.461733\n",
       "                        5914     0.000000\n",
       "                        5915     0.000000\n",
       "                        5916     0.000000\n",
       "                        5917     0.756784\n",
       "                        5918     2.773248\n",
       "               5        4963          NaN\n",
       "                        5007     9.132231\n",
       "               6        6561     1.969157\n",
       "                        6562     4.584096\n",
       "                        6563     0.476758\n",
       "                        6599     7.122116\n",
       "               7        10560    2.776738\n",
       "                        10561    0.960685\n",
       "                        10562    0.000000\n",
       "                        10563    0.000000\n",
       "                        10564    0.000000\n",
       "                        10565    0.000000\n",
       "                        10566    2.744259\n",
       "                        10567    3.672814\n",
       "                        10648    4.689409\n",
       "                        10649   -0.149018\n",
       "                        10650    4.317539\n",
       "                        10651    0.000000\n",
       "                        10652    4.317539\n",
       "                        10653    0.000000\n",
       "               8        12125    1.555119\n",
       "               9        5530     1.293206\n",
       "                        5551     5.161565\n",
       "                                   ...   \n",
       "MTA NYCT_6789  16       2684     0.276364\n",
       "                        2685     0.000000\n",
       "                        2864     1.348325\n",
       "                        2865     6.973030\n",
       "                        2866     0.390000\n",
       "                        2867     0.669062\n",
       "                        2868     7.020000\n",
       "                        2869     2.416774\n",
       "                        2871     0.057419\n",
       "               17       8694     5.394375\n",
       "                        8695     1.664839\n",
       "                        8696     0.401613\n",
       "               18       11525    1.615806\n",
       "                        11526    4.450909\n",
       "                        11527    1.328710\n",
       "                        11528    0.000000\n",
       "                        11529    1.328710\n",
       "                        11530    0.000000\n",
       "                        11531    0.112188\n",
       "               19       758      3.713333\n",
       "                        759      1.490625\n",
       "                        760      0.000000\n",
       "               20       9619     2.980625\n",
       "                        9620     4.596452\n",
       "                        9621     0.109394\n",
       "               21       12926    1.254667\n",
       "                        12927    4.021875\n",
       "                        12928    1.560000\n",
       "                        12929    1.226774\n",
       "               22       4157     1.589153\n",
       "Length: 13477, dtype: float64"
      ]
     },
     "execution_count": 130,
     "metadata": {},
     "output_type": "execute_result"
    }
   ],
   "source": [
    "def divide_two_cols(df_sub):\n",
    "    return df_sub['DistanceDelta'] / (df_sub['TimeDelta']/ np.timedelta64(1, 's'))\n",
    "\n",
    "speed_df.groupby(['VehicleRef', 'StopNum']).apply(divide_two_cols)\n"
   ]
  },
  {
   "cell_type": "code",
   "execution_count": null,
   "metadata": {},
   "outputs": [],
   "source": []
  }
 ],
 "metadata": {
  "kernelspec": {
   "display_name": "Python 2",
   "language": "python",
   "name": "python2"
  },
  "language_info": {
   "codemirror_mode": {
    "name": "ipython",
    "version": 2
   },
   "file_extension": ".py",
   "mimetype": "text/x-python",
   "name": "python",
   "nbconvert_exporter": "python",
   "pygments_lexer": "ipython2",
   "version": "2.7.13"
  }
 },
 "nbformat": 4,
 "nbformat_minor": 2
}
